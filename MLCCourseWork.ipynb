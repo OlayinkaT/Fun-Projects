{
 "cells": [
  {
   "cell_type": "code",
   "execution_count": 2259,
   "id": "fc7826f0-3f93-412e-b8a0-24dfdebbb42b",
   "metadata": {
    "tags": []
   },
   "outputs": [],
   "source": [
    "%matplotlib inline\n",
    "import numpy as np\n",
    "import pandas as pd\n",
    "import matplotlib.pyplot as plt\n",
    "import seaborn as sns\n",
    "sns.set(\n",
    "    { \"figure.figsize\": (12, 4) },\n",
    "    style='ticks',\n",
    "    color_codes=True,\n",
    "    font_scale=0.8\n",
    ")\n",
    "%config InlineBackend.figure_format = 'retina'\n",
    "import warnings\n",
    "warnings.filterwarnings('ignore')"
   ]
  },
  {
   "cell_type": "code",
   "execution_count": 2260,
   "id": "d88c3d6a-6164-41cf-a1a8-114937ccd955",
   "metadata": {
    "tags": []
   },
   "outputs": [],
   "source": [
    "ad = pd.read_csv(r\"C:\\Users\\taiwo\\Downloads\\adverts.csv\")"
   ]
  },
  {
   "cell_type": "code",
   "execution_count": 2261,
   "id": "98ae56ef-5970-4c9d-a82f-59acdcd4dbf0",
   "metadata": {
    "tags": []
   },
   "outputs": [
    {
     "data": {
      "text/plain": [
       "(402005, 12)"
      ]
     },
     "execution_count": 2261,
     "metadata": {},
     "output_type": "execute_result"
    }
   ],
   "source": [
    "ad.shape"
   ]
  },
  {
   "cell_type": "code",
   "execution_count": 2262,
   "id": "f456546f-78a2-46c0-819c-6c8fbbe8c026",
   "metadata": {
    "tags": []
   },
   "outputs": [
    {
     "data": {
      "text/html": [
       "<div>\n",
       "<style scoped>\n",
       "    .dataframe tbody tr th:only-of-type {\n",
       "        vertical-align: middle;\n",
       "    }\n",
       "\n",
       "    .dataframe tbody tr th {\n",
       "        vertical-align: top;\n",
       "    }\n",
       "\n",
       "    .dataframe thead th {\n",
       "        text-align: right;\n",
       "    }\n",
       "</style>\n",
       "<table border=\"1\" class=\"dataframe\">\n",
       "  <thead>\n",
       "    <tr style=\"text-align: right;\">\n",
       "      <th></th>\n",
       "      <th>public_reference</th>\n",
       "      <th>mileage</th>\n",
       "      <th>reg_code</th>\n",
       "      <th>standard_colour</th>\n",
       "      <th>standard_make</th>\n",
       "      <th>standard_model</th>\n",
       "      <th>vehicle_condition</th>\n",
       "      <th>year_of_registration</th>\n",
       "      <th>price</th>\n",
       "      <th>body_type</th>\n",
       "      <th>crossover_car_and_van</th>\n",
       "      <th>fuel_type</th>\n",
       "    </tr>\n",
       "  </thead>\n",
       "  <tbody>\n",
       "    <tr>\n",
       "      <th>0</th>\n",
       "      <td>202006039777689</td>\n",
       "      <td>0.0</td>\n",
       "      <td>NaN</td>\n",
       "      <td>Grey</td>\n",
       "      <td>Volvo</td>\n",
       "      <td>XC90</td>\n",
       "      <td>NEW</td>\n",
       "      <td>NaN</td>\n",
       "      <td>73970</td>\n",
       "      <td>SUV</td>\n",
       "      <td>False</td>\n",
       "      <td>Petrol Plug-in Hybrid</td>\n",
       "    </tr>\n",
       "    <tr>\n",
       "      <th>1</th>\n",
       "      <td>202007020778260</td>\n",
       "      <td>108230.0</td>\n",
       "      <td>61</td>\n",
       "      <td>Blue</td>\n",
       "      <td>Jaguar</td>\n",
       "      <td>XF</td>\n",
       "      <td>USED</td>\n",
       "      <td>2011.0</td>\n",
       "      <td>7000</td>\n",
       "      <td>Saloon</td>\n",
       "      <td>False</td>\n",
       "      <td>Diesel</td>\n",
       "    </tr>\n",
       "    <tr>\n",
       "      <th>2</th>\n",
       "      <td>202007020778474</td>\n",
       "      <td>7800.0</td>\n",
       "      <td>17</td>\n",
       "      <td>Grey</td>\n",
       "      <td>SKODA</td>\n",
       "      <td>Yeti</td>\n",
       "      <td>USED</td>\n",
       "      <td>2017.0</td>\n",
       "      <td>14000</td>\n",
       "      <td>SUV</td>\n",
       "      <td>False</td>\n",
       "      <td>Petrol</td>\n",
       "    </tr>\n",
       "    <tr>\n",
       "      <th>3</th>\n",
       "      <td>202007080986776</td>\n",
       "      <td>45000.0</td>\n",
       "      <td>16</td>\n",
       "      <td>Brown</td>\n",
       "      <td>Vauxhall</td>\n",
       "      <td>Mokka</td>\n",
       "      <td>USED</td>\n",
       "      <td>2016.0</td>\n",
       "      <td>7995</td>\n",
       "      <td>Hatchback</td>\n",
       "      <td>False</td>\n",
       "      <td>Diesel</td>\n",
       "    </tr>\n",
       "    <tr>\n",
       "      <th>4</th>\n",
       "      <td>202007161321269</td>\n",
       "      <td>64000.0</td>\n",
       "      <td>64</td>\n",
       "      <td>Grey</td>\n",
       "      <td>Land Rover</td>\n",
       "      <td>Range Rover Sport</td>\n",
       "      <td>USED</td>\n",
       "      <td>2015.0</td>\n",
       "      <td>26995</td>\n",
       "      <td>SUV</td>\n",
       "      <td>False</td>\n",
       "      <td>Diesel</td>\n",
       "    </tr>\n",
       "  </tbody>\n",
       "</table>\n",
       "</div>"
      ],
      "text/plain": [
       "   public_reference   mileage reg_code standard_colour standard_make  \\\n",
       "0   202006039777689       0.0      NaN            Grey         Volvo   \n",
       "1   202007020778260  108230.0       61            Blue        Jaguar   \n",
       "2   202007020778474    7800.0       17            Grey         SKODA   \n",
       "3   202007080986776   45000.0       16           Brown      Vauxhall   \n",
       "4   202007161321269   64000.0       64            Grey    Land Rover   \n",
       "\n",
       "      standard_model vehicle_condition  year_of_registration  price  \\\n",
       "0               XC90               NEW                   NaN  73970   \n",
       "1                 XF              USED                2011.0   7000   \n",
       "2               Yeti              USED                2017.0  14000   \n",
       "3              Mokka              USED                2016.0   7995   \n",
       "4  Range Rover Sport              USED                2015.0  26995   \n",
       "\n",
       "   body_type  crossover_car_and_van              fuel_type  \n",
       "0        SUV                  False  Petrol Plug-in Hybrid  \n",
       "1     Saloon                  False                 Diesel  \n",
       "2        SUV                  False                 Petrol  \n",
       "3  Hatchback                  False                 Diesel  \n",
       "4        SUV                  False                 Diesel  "
      ]
     },
     "execution_count": 2262,
     "metadata": {},
     "output_type": "execute_result"
    }
   ],
   "source": [
    "ad.head()"
   ]
  },
  {
   "cell_type": "code",
   "execution_count": 2263,
   "id": "7c8aa688-2497-42c5-a7b0-8182e2115bf3",
   "metadata": {
    "tags": []
   },
   "outputs": [
    {
     "name": "stdout",
     "output_type": "stream",
     "text": [
      "<class 'pandas.core.frame.DataFrame'>\n",
      "RangeIndex: 402005 entries, 0 to 402004\n",
      "Data columns (total 12 columns):\n",
      " #   Column                 Non-Null Count   Dtype  \n",
      "---  ------                 --------------   -----  \n",
      " 0   public_reference       402005 non-null  int64  \n",
      " 1   mileage                401878 non-null  float64\n",
      " 2   reg_code               370148 non-null  object \n",
      " 3   standard_colour        396627 non-null  object \n",
      " 4   standard_make          402005 non-null  object \n",
      " 5   standard_model         402005 non-null  object \n",
      " 6   vehicle_condition      402005 non-null  object \n",
      " 7   year_of_registration   368694 non-null  float64\n",
      " 8   price                  402005 non-null  int64  \n",
      " 9   body_type              401168 non-null  object \n",
      " 10  crossover_car_and_van  402005 non-null  bool   \n",
      " 11  fuel_type              401404 non-null  object \n",
      "dtypes: bool(1), float64(2), int64(2), object(7)\n",
      "memory usage: 34.1+ MB\n"
     ]
    }
   ],
   "source": [
    "ad.info()"
   ]
  },
  {
   "cell_type": "code",
   "execution_count": 2264,
   "id": "ad9f46c1-efd9-4e09-8337-c86e182392f4",
   "metadata": {
    "tags": []
   },
   "outputs": [],
   "source": [
    "ad_sub = ad.sample(frac=0.02)"
   ]
  },
  {
   "cell_type": "code",
   "execution_count": 2265,
   "id": "058b81be-2870-422d-a6bd-4842cfc8eccf",
   "metadata": {
    "tags": []
   },
   "outputs": [
    {
     "data": {
      "text/plain": [
       "(8040, 12)"
      ]
     },
     "execution_count": 2265,
     "metadata": {},
     "output_type": "execute_result"
    }
   ],
   "source": [
    "ad_sub.shape"
   ]
  },
  {
   "cell_type": "code",
   "execution_count": 2266,
   "id": "cfcd7a6f-4a6c-4381-9a87-32b63863642e",
   "metadata": {
    "tags": []
   },
   "outputs": [
    {
     "data": {
      "text/html": [
       "<div>\n",
       "<style scoped>\n",
       "    .dataframe tbody tr th:only-of-type {\n",
       "        vertical-align: middle;\n",
       "    }\n",
       "\n",
       "    .dataframe tbody tr th {\n",
       "        vertical-align: top;\n",
       "    }\n",
       "\n",
       "    .dataframe thead th {\n",
       "        text-align: right;\n",
       "    }\n",
       "</style>\n",
       "<table border=\"1\" class=\"dataframe\">\n",
       "  <thead>\n",
       "    <tr style=\"text-align: right;\">\n",
       "      <th></th>\n",
       "      <th>public_reference</th>\n",
       "      <th>mileage</th>\n",
       "      <th>reg_code</th>\n",
       "      <th>standard_colour</th>\n",
       "      <th>standard_make</th>\n",
       "      <th>standard_model</th>\n",
       "      <th>vehicle_condition</th>\n",
       "      <th>year_of_registration</th>\n",
       "      <th>price</th>\n",
       "      <th>body_type</th>\n",
       "      <th>crossover_car_and_van</th>\n",
       "      <th>fuel_type</th>\n",
       "    </tr>\n",
       "  </thead>\n",
       "  <tbody>\n",
       "    <tr>\n",
       "      <th>374152</th>\n",
       "      <td>202009123638932</td>\n",
       "      <td>36347.0</td>\n",
       "      <td>17</td>\n",
       "      <td>Red</td>\n",
       "      <td>Nissan</td>\n",
       "      <td>Qashqai</td>\n",
       "      <td>USED</td>\n",
       "      <td>2017.0</td>\n",
       "      <td>10999</td>\n",
       "      <td>SUV</td>\n",
       "      <td>False</td>\n",
       "      <td>Petrol</td>\n",
       "    </tr>\n",
       "    <tr>\n",
       "      <th>5105</th>\n",
       "      <td>202003048018435</td>\n",
       "      <td>55215.0</td>\n",
       "      <td>13</td>\n",
       "      <td>Black</td>\n",
       "      <td>Audi</td>\n",
       "      <td>Q5</td>\n",
       "      <td>USED</td>\n",
       "      <td>2013.0</td>\n",
       "      <td>14850</td>\n",
       "      <td>SUV</td>\n",
       "      <td>False</td>\n",
       "      <td>Petrol</td>\n",
       "    </tr>\n",
       "    <tr>\n",
       "      <th>355851</th>\n",
       "      <td>202009294367019</td>\n",
       "      <td>13773.0</td>\n",
       "      <td>65</td>\n",
       "      <td>Red</td>\n",
       "      <td>Citroen</td>\n",
       "      <td>DS3 Cabrio</td>\n",
       "      <td>USED</td>\n",
       "      <td>2015.0</td>\n",
       "      <td>7000</td>\n",
       "      <td>Convertible</td>\n",
       "      <td>False</td>\n",
       "      <td>Petrol</td>\n",
       "    </tr>\n",
       "    <tr>\n",
       "      <th>315029</th>\n",
       "      <td>202008212757379</td>\n",
       "      <td>17100.0</td>\n",
       "      <td>64</td>\n",
       "      <td>Black</td>\n",
       "      <td>Vauxhall</td>\n",
       "      <td>Astra</td>\n",
       "      <td>USED</td>\n",
       "      <td>2014.0</td>\n",
       "      <td>8495</td>\n",
       "      <td>Estate</td>\n",
       "      <td>False</td>\n",
       "      <td>Diesel</td>\n",
       "    </tr>\n",
       "    <tr>\n",
       "      <th>122341</th>\n",
       "      <td>202010275505728</td>\n",
       "      <td>83108.0</td>\n",
       "      <td>61</td>\n",
       "      <td>Grey</td>\n",
       "      <td>Lexus</td>\n",
       "      <td>IS 250</td>\n",
       "      <td>USED</td>\n",
       "      <td>2011.0</td>\n",
       "      <td>6999</td>\n",
       "      <td>Saloon</td>\n",
       "      <td>False</td>\n",
       "      <td>Petrol</td>\n",
       "    </tr>\n",
       "  </tbody>\n",
       "</table>\n",
       "</div>"
      ],
      "text/plain": [
       "        public_reference  mileage reg_code standard_colour standard_make  \\\n",
       "374152   202009123638932  36347.0       17             Red        Nissan   \n",
       "5105     202003048018435  55215.0       13           Black          Audi   \n",
       "355851   202009294367019  13773.0       65             Red       Citroen   \n",
       "315029   202008212757379  17100.0       64           Black      Vauxhall   \n",
       "122341   202010275505728  83108.0       61            Grey         Lexus   \n",
       "\n",
       "       standard_model vehicle_condition  year_of_registration  price  \\\n",
       "374152        Qashqai              USED                2017.0  10999   \n",
       "5105               Q5              USED                2013.0  14850   \n",
       "355851     DS3 Cabrio              USED                2015.0   7000   \n",
       "315029          Astra              USED                2014.0   8495   \n",
       "122341         IS 250              USED                2011.0   6999   \n",
       "\n",
       "          body_type  crossover_car_and_van fuel_type  \n",
       "374152          SUV                  False    Petrol  \n",
       "5105            SUV                  False    Petrol  \n",
       "355851  Convertible                  False    Petrol  \n",
       "315029       Estate                  False    Diesel  \n",
       "122341       Saloon                  False    Petrol  "
      ]
     },
     "execution_count": 2266,
     "metadata": {},
     "output_type": "execute_result"
    }
   ],
   "source": [
    "ad_sub.head()"
   ]
  },
  {
   "cell_type": "code",
   "execution_count": 2267,
   "id": "1a789eaf-43ca-41b1-a6a7-3882ed3f4a42",
   "metadata": {
    "tags": []
   },
   "outputs": [],
   "source": [
    "ad_sub = ad_sub.drop(columns='public_reference')"
   ]
  },
  {
   "cell_type": "code",
   "execution_count": 2518,
   "id": "070079c6-758c-4c3c-8565-569455c21660",
   "metadata": {
    "tags": []
   },
   "outputs": [
    {
     "data": {
      "text/html": [
       "<div>\n",
       "<style scoped>\n",
       "    .dataframe tbody tr th:only-of-type {\n",
       "        vertical-align: middle;\n",
       "    }\n",
       "\n",
       "    .dataframe tbody tr th {\n",
       "        vertical-align: top;\n",
       "    }\n",
       "\n",
       "    .dataframe thead th {\n",
       "        text-align: right;\n",
       "    }\n",
       "</style>\n",
       "<table border=\"1\" class=\"dataframe\">\n",
       "  <thead>\n",
       "    <tr style=\"text-align: right;\">\n",
       "      <th></th>\n",
       "      <th>mileage</th>\n",
       "      <th>price</th>\n",
       "    </tr>\n",
       "  </thead>\n",
       "  <tbody>\n",
       "    <tr>\n",
       "      <th>count</th>\n",
       "      <td>8037.000000</td>\n",
       "      <td>8040.000000</td>\n",
       "    </tr>\n",
       "    <tr>\n",
       "      <th>mean</th>\n",
       "      <td>37595.265024</td>\n",
       "      <td>17172.949005</td>\n",
       "    </tr>\n",
       "    <tr>\n",
       "      <th>std</th>\n",
       "      <td>34832.935189</td>\n",
       "      <td>19105.783948</td>\n",
       "    </tr>\n",
       "    <tr>\n",
       "      <th>min</th>\n",
       "      <td>0.000000</td>\n",
       "      <td>250.000000</td>\n",
       "    </tr>\n",
       "    <tr>\n",
       "      <th>25%</th>\n",
       "      <td>10488.000000</td>\n",
       "      <td>7499.000000</td>\n",
       "    </tr>\n",
       "    <tr>\n",
       "      <th>50%</th>\n",
       "      <td>28715.000000</td>\n",
       "      <td>12699.000000</td>\n",
       "    </tr>\n",
       "    <tr>\n",
       "      <th>75%</th>\n",
       "      <td>56312.000000</td>\n",
       "      <td>20495.000000</td>\n",
       "    </tr>\n",
       "    <tr>\n",
       "      <th>max</th>\n",
       "      <td>388000.000000</td>\n",
       "      <td>389950.000000</td>\n",
       "    </tr>\n",
       "  </tbody>\n",
       "</table>\n",
       "</div>"
      ],
      "text/plain": [
       "             mileage          price\n",
       "count    8037.000000    8040.000000\n",
       "mean    37595.265024   17172.949005\n",
       "std     34832.935189   19105.783948\n",
       "min         0.000000     250.000000\n",
       "25%     10488.000000    7499.000000\n",
       "50%     28715.000000   12699.000000\n",
       "75%     56312.000000   20495.000000\n",
       "max    388000.000000  389950.000000"
      ]
     },
     "execution_count": 2518,
     "metadata": {},
     "output_type": "execute_result"
    }
   ],
   "source": [
    "ad_sub[['mileage','price']].describe()"
   ]
  },
  {
   "cell_type": "code",
   "execution_count": 2269,
   "id": "46d7fda4-546a-4a0a-905f-44141fc30188",
   "metadata": {
    "tags": []
   },
   "outputs": [
    {
     "data": {
      "text/plain": [
       "<Axes: xlabel='mileage'>"
      ]
     },
     "execution_count": 2269,
     "metadata": {},
     "output_type": "execute_result"
    },
    {
     "data": {
      "image/png": "[encoded data removed]",
      "text/plain": [
       "<Figure size 1000x400 with 2 Axes>"
      ]
     },
     "metadata": {
      "image/png": {
       "height": 369,
       "width": 799
      }
     },
     "output_type": "display_data"
    }
   ],
   "source": [
    "fig, axs = plt.subplots(1, 2, figsize=(10, 4))\n",
    "sns.boxplot(data = ad_sub, x = 'price', showfliers =False, ax = axs[0])\n",
    "sns.boxplot(data = ad_sub, x = 'mileage', showfliers=False, ax = axs[1])"
   ]
  },
  {
   "cell_type": "code",
   "execution_count": 2270,
   "id": "15ba3724-269c-4954-ab48-a4bd971044c6",
   "metadata": {
    "tags": []
   },
   "outputs": [
    {
     "data": {
      "text/plain": [
       "<Axes: xlabel='standard_make'>"
      ]
     },
     "execution_count": 2270,
     "metadata": {},
     "output_type": "execute_result"
    },
    {
     "data": {
      "image/png": "[encoded data removed]",
      "text/plain": [
       "<Figure size 1200x400 with 1 Axes>"
      ]
     },
     "metadata": {
      "image/png": {
       "height": 478,
       "width": 982
      }
     },
     "output_type": "display_data"
    }
   ],
   "source": [
    "ad_sub['standard_make'].value_counts().plot.bar()"
   ]
  },
  {
   "cell_type": "code",
   "execution_count": 2523,
   "id": "e56f2330-7e60-421c-b343-5af194d20fa7",
   "metadata": {
    "tags": []
   },
   "outputs": [
    {
     "data": {
      "text/plain": [
       "<Axes: xlabel='body_type'>"
      ]
     },
     "execution_count": 2523,
     "metadata": {},
     "output_type": "execute_result"
    },
    {
     "data": {
      "image/png": "[encoded data removed]",
      "text/plain": [
       "<Figure size 1200x400 with 1 Axes>"
      ]
     },
     "metadata": {
      "image/png": {
       "height": 426,
       "width": 986
      }
     },
     "output_type": "display_data"
    }
   ],
   "source": [
    "ad_sub['body_type'].value_counts(normalize=True).plot.bar()"
   ]
  },
  {
   "cell_type": "code",
   "execution_count": 2272,
   "id": "c50cecf4-4c79-4067-a59f-eb04772ebcc5",
   "metadata": {
    "tags": []
   },
   "outputs": [
    {
     "data": {
      "text/plain": [
       "<Axes: xlabel='fuel_type'>"
      ]
     },
     "execution_count": 2272,
     "metadata": {},
     "output_type": "execute_result"
    },
    {
     "data": {
      "image/png": "[encoded data removed]",
      "text/plain": [
       "<Figure size 1200x400 with 1 Axes>"
      ]
     },
     "metadata": {
      "image/png": {
       "height": 486,
       "width": 1006
      }
     },
     "output_type": "display_data"
    }
   ],
   "source": [
    "ad['fuel_type'].value_counts().plot.bar()"
   ]
  },
  {
   "cell_type": "code",
   "execution_count": 2273,
   "id": "e27922f1-7522-4221-acad-fe940b69b20f",
   "metadata": {
    "tags": []
   },
   "outputs": [
    {
     "data": {
      "image/png": "[encoded data removed]",
      "text/plain": [
       "<Figure size 1200x400 with 1 Axes>"
      ]
     },
     "metadata": {
      "image/png": {
       "height": 369,
       "width": 1017
      }
     },
     "output_type": "display_data"
    }
   ],
   "source": [
    "plt.figure(figsize=(12,4))\n",
    "sns.barplot(data =ad_sub, x = 'body_type' , y = 'price')\n",
    "plt.show()"
   ]
  },
  {
   "cell_type": "code",
   "execution_count": 2521,
   "id": "806da73e-7f69-438d-b5f7-bfb1eca932b3",
   "metadata": {
    "tags": []
   },
   "outputs": [
    {
     "data": {
      "image/png": "[encoded data removed]",
      "text/plain": [
       "<Figure size 1200x400 with 1 Axes>"
      ]
     },
     "metadata": {
      "image/png": {
       "height": 369,
       "width": 1023
      }
     },
     "output_type": "display_data"
    }
   ],
   "source": [
    "plt.figure(figsize=(12,4))\n",
    "sns.barplot(data =ad_sub, x = 'fuel_type' , y = 'price')\n",
    "plt.show()"
   ]
  },
  {
   "cell_type": "code",
   "execution_count": 2274,
   "id": "82399fbc-cb0c-44ae-b09d-5c43fa9d7b9a",
   "metadata": {
    "tags": []
   },
   "outputs": [
    {
     "name": "stdout",
     "output_type": "stream",
     "text": [
      "                       mileage  year_of_registration     price\n",
      "mileage               1.000000             -0.375541 -0.160204\n",
      "year_of_registration -0.375541              1.000000  0.102341\n",
      "price                -0.160204              0.102341  1.000000\n"
     ]
    }
   ],
   "source": [
    "numerical_columns = ad_sub.select_dtypes(include=['float64','int64']).columns\n",
    "correlation_matrix = ad[numerical_columns].corr()\n",
    "print (correlation_matrix)"
   ]
  },
  {
   "cell_type": "code",
   "execution_count": 2275,
   "id": "307d0959-8b67-441a-aa76-7617e5329ede",
   "metadata": {
    "tags": []
   },
   "outputs": [
    {
     "data": {
      "image/png": "[encoded data removed]",
      "text/plain": [
       "<Figure size 1200x400 with 2 Axes>"
      ]
     },
     "metadata": {
      "image/png": {
       "height": 355,
       "width": 885
      }
     },
     "output_type": "display_data"
    }
   ],
   "source": [
    "sns.heatmap(correlation_matrix, annot=True, cmap='coolwarm', fmt=\".2f\")\n",
    "plt.show()"
   ]
  },
  {
   "cell_type": "code",
   "execution_count": 2276,
   "id": "8a8de7d8-efaa-4804-8077-85637e9bd585",
   "metadata": {
    "tags": []
   },
   "outputs": [
    {
     "data": {
      "text/plain": [
       "mileage                    3\n",
       "reg_code                 633\n",
       "standard_colour          102\n",
       "standard_make              0\n",
       "standard_model             0\n",
       "vehicle_condition          0\n",
       "year_of_registration     666\n",
       "price                      0\n",
       "body_type                 16\n",
       "crossover_car_and_van      0\n",
       "fuel_type                 17\n",
       "dtype: int64"
      ]
     },
     "execution_count": 2276,
     "metadata": {},
     "output_type": "execute_result"
    }
   ],
   "source": [
    "ad_sub.isna().sum()"
   ]
  },
  {
   "cell_type": "code",
   "execution_count": 2277,
   "id": "0723e090-99c4-431a-94ec-2f0fe691ca87",
   "metadata": {
    "tags": []
   },
   "outputs": [
    {
     "data": {
      "text/plain": [
       "array(['17', '13', '65', '64', '61', '14', '06', '09', '18', '69', nan,\n",
       "       '10', '16', '15', '19', '67', '20', '66', '08', '68', '11', '05',\n",
       "       '12', '70', '63', '58', '60', '07', '59', '62', 'Y', '55', '53',\n",
       "       '04', 'H', '54', 'V', '57', '03', 'F', 'P', '56', '52', 'S', 'X',\n",
       "       'G', '51', 'L', 'R', 'N', 'C', 'W', '02', 'T', 'E', 'M', 'K'],\n",
       "      dtype=object)"
      ]
     },
     "execution_count": 2277,
     "metadata": {},
     "output_type": "execute_result"
    }
   ],
   "source": [
    "ad_sub['reg_code'].unique()"
   ]
  },
  {
   "cell_type": "code",
   "execution_count": 2278,
   "id": "0b95af15-7e52-4d05-8256-cc0e9408a018",
   "metadata": {
    "tags": []
   },
   "outputs": [],
   "source": [
    "ad_cl = ad_sub[pd.to_numeric(ad_sub[\"reg_code\"], errors=\"coerce\").notnull()]"
   ]
  },
  {
   "cell_type": "code",
   "execution_count": 2279,
   "id": "af1f211c-29a7-48a8-acfd-40f06d0e0161",
   "metadata": {
    "tags": []
   },
   "outputs": [
    {
     "data": {
      "text/plain": [
       "array(['17', '13', '65', '64', '61', '14', '06', '09', '18', '69', '10',\n",
       "       '16', '15', '19', '67', '20', '66', '08', '68', '11', '05', '12',\n",
       "       '70', '63', '58', '60', '07', '59', '62', '55', '53', '04', '54',\n",
       "       '57', '03', '56', '52', '51', '02'], dtype=object)"
      ]
     },
     "execution_count": 2279,
     "metadata": {},
     "output_type": "execute_result"
    }
   ],
   "source": [
    "ad_cl['reg_code'].unique()"
   ]
  },
  {
   "cell_type": "code",
   "execution_count": 2280,
   "id": "31015b3f-6c0a-4bee-8a4f-4d15f9f24bfa",
   "metadata": {
    "tags": []
   },
   "outputs": [],
   "source": [
    "ad_cl['reg_code'] = ad_cl['reg_code'].astype(float)"
   ]
  },
  {
   "cell_type": "code",
   "execution_count": 2281,
   "id": "80aa9d59-f248-4ef0-bcf9-ceb6026c01e3",
   "metadata": {
    "tags": []
   },
   "outputs": [
    {
     "data": {
      "text/plain": [
       "array([2017., 2013., 2015., 2014., 2011., 2006., 2009., 2018., 2020.,\n",
       "       2010., 2019., 2016., 2008., 2005., 2012., 2007., 2003., 2004.,\n",
       "         nan, 2002., 1010., 2001.])"
      ]
     },
     "execution_count": 2281,
     "metadata": {},
     "output_type": "execute_result"
    }
   ],
   "source": [
    "ad_cl['year_of_registration'].unique()"
   ]
  },
  {
   "cell_type": "code",
   "execution_count": 2282,
   "id": "b2b69db9-96b1-4d89-977a-13b82f81cc1e",
   "metadata": {
    "tags": []
   },
   "outputs": [
    {
     "data": {
      "text/html": [
       "<div>\n",
       "<style scoped>\n",
       "    .dataframe tbody tr th:only-of-type {\n",
       "        vertical-align: middle;\n",
       "    }\n",
       "\n",
       "    .dataframe tbody tr th {\n",
       "        vertical-align: top;\n",
       "    }\n",
       "\n",
       "    .dataframe thead th {\n",
       "        text-align: right;\n",
       "    }\n",
       "</style>\n",
       "<table border=\"1\" class=\"dataframe\">\n",
       "  <thead>\n",
       "    <tr style=\"text-align: right;\">\n",
       "      <th></th>\n",
       "      <th>mileage</th>\n",
       "      <th>reg_code</th>\n",
       "      <th>standard_colour</th>\n",
       "      <th>standard_make</th>\n",
       "      <th>standard_model</th>\n",
       "      <th>vehicle_condition</th>\n",
       "      <th>year_of_registration</th>\n",
       "      <th>price</th>\n",
       "      <th>body_type</th>\n",
       "      <th>crossover_car_and_van</th>\n",
       "      <th>fuel_type</th>\n",
       "    </tr>\n",
       "  </thead>\n",
       "  <tbody>\n",
       "    <tr>\n",
       "      <th>249182</th>\n",
       "      <td>50.0</td>\n",
       "      <td>70.0</td>\n",
       "      <td>Black</td>\n",
       "      <td>Bentley</td>\n",
       "      <td>Continental</td>\n",
       "      <td>USED</td>\n",
       "      <td>NaN</td>\n",
       "      <td>189000</td>\n",
       "      <td>Coupe</td>\n",
       "      <td>False</td>\n",
       "      <td>Petrol</td>\n",
       "    </tr>\n",
       "    <tr>\n",
       "      <th>265802</th>\n",
       "      <td>8028.0</td>\n",
       "      <td>69.0</td>\n",
       "      <td>White</td>\n",
       "      <td>Volkswagen</td>\n",
       "      <td>Arteon</td>\n",
       "      <td>USED</td>\n",
       "      <td>NaN</td>\n",
       "      <td>22855</td>\n",
       "      <td>Saloon</td>\n",
       "      <td>False</td>\n",
       "      <td>Diesel</td>\n",
       "    </tr>\n",
       "    <tr>\n",
       "      <th>284572</th>\n",
       "      <td>5921.0</td>\n",
       "      <td>18.0</td>\n",
       "      <td>Black</td>\n",
       "      <td>Mercedes-Benz</td>\n",
       "      <td>C Class</td>\n",
       "      <td>USED</td>\n",
       "      <td>NaN</td>\n",
       "      <td>24995</td>\n",
       "      <td>Coupe</td>\n",
       "      <td>False</td>\n",
       "      <td>Diesel</td>\n",
       "    </tr>\n",
       "    <tr>\n",
       "      <th>273155</th>\n",
       "      <td>15811.0</td>\n",
       "      <td>65.0</td>\n",
       "      <td>Grey</td>\n",
       "      <td>Citroen</td>\n",
       "      <td>C1</td>\n",
       "      <td>USED</td>\n",
       "      <td>NaN</td>\n",
       "      <td>6396</td>\n",
       "      <td>Hatchback</td>\n",
       "      <td>False</td>\n",
       "      <td>Petrol</td>\n",
       "    </tr>\n",
       "    <tr>\n",
       "      <th>61582</th>\n",
       "      <td>121000.0</td>\n",
       "      <td>56.0</td>\n",
       "      <td>Black</td>\n",
       "      <td>Mitsubishi</td>\n",
       "      <td>L200</td>\n",
       "      <td>USED</td>\n",
       "      <td>NaN</td>\n",
       "      <td>4750</td>\n",
       "      <td>Pickup</td>\n",
       "      <td>True</td>\n",
       "      <td>Diesel</td>\n",
       "    </tr>\n",
       "    <tr>\n",
       "      <th>275302</th>\n",
       "      <td>15.0</td>\n",
       "      <td>70.0</td>\n",
       "      <td>Silver</td>\n",
       "      <td>SEAT</td>\n",
       "      <td>Ateca</td>\n",
       "      <td>USED</td>\n",
       "      <td>NaN</td>\n",
       "      <td>37490</td>\n",
       "      <td>SUV</td>\n",
       "      <td>False</td>\n",
       "      <td>Petrol</td>\n",
       "    </tr>\n",
       "    <tr>\n",
       "      <th>364541</th>\n",
       "      <td>63708.0</td>\n",
       "      <td>65.0</td>\n",
       "      <td>White</td>\n",
       "      <td>Hyundai</td>\n",
       "      <td>i20</td>\n",
       "      <td>USED</td>\n",
       "      <td>NaN</td>\n",
       "      <td>6500</td>\n",
       "      <td>Hatchback</td>\n",
       "      <td>False</td>\n",
       "      <td>Petrol</td>\n",
       "    </tr>\n",
       "    <tr>\n",
       "      <th>79528</th>\n",
       "      <td>72754.0</td>\n",
       "      <td>16.0</td>\n",
       "      <td>Grey</td>\n",
       "      <td>MINI</td>\n",
       "      <td>Clubman</td>\n",
       "      <td>USED</td>\n",
       "      <td>NaN</td>\n",
       "      <td>10995</td>\n",
       "      <td>Estate</td>\n",
       "      <td>False</td>\n",
       "      <td>Diesel</td>\n",
       "    </tr>\n",
       "    <tr>\n",
       "      <th>281911</th>\n",
       "      <td>15089.0</td>\n",
       "      <td>18.0</td>\n",
       "      <td>White</td>\n",
       "      <td>SsangYong</td>\n",
       "      <td>Tivoli</td>\n",
       "      <td>USED</td>\n",
       "      <td>NaN</td>\n",
       "      <td>10829</td>\n",
       "      <td>SUV</td>\n",
       "      <td>False</td>\n",
       "      <td>Diesel</td>\n",
       "    </tr>\n",
       "    <tr>\n",
       "      <th>12944</th>\n",
       "      <td>7000.0</td>\n",
       "      <td>67.0</td>\n",
       "      <td>Grey</td>\n",
       "      <td>Mercedes-Benz</td>\n",
       "      <td>C Class</td>\n",
       "      <td>USED</td>\n",
       "      <td>NaN</td>\n",
       "      <td>19795</td>\n",
       "      <td>Saloon</td>\n",
       "      <td>False</td>\n",
       "      <td>Petrol</td>\n",
       "    </tr>\n",
       "    <tr>\n",
       "      <th>196168</th>\n",
       "      <td>33890.0</td>\n",
       "      <td>17.0</td>\n",
       "      <td>White</td>\n",
       "      <td>MINI</td>\n",
       "      <td>Hatch</td>\n",
       "      <td>USED</td>\n",
       "      <td>NaN</td>\n",
       "      <td>14500</td>\n",
       "      <td>Hatchback</td>\n",
       "      <td>False</td>\n",
       "      <td>Petrol</td>\n",
       "    </tr>\n",
       "    <tr>\n",
       "      <th>294843</th>\n",
       "      <td>86900.0</td>\n",
       "      <td>64.0</td>\n",
       "      <td>Blue</td>\n",
       "      <td>BMW</td>\n",
       "      <td>4 Series</td>\n",
       "      <td>USED</td>\n",
       "      <td>NaN</td>\n",
       "      <td>12995</td>\n",
       "      <td>NaN</td>\n",
       "      <td>False</td>\n",
       "      <td>Diesel</td>\n",
       "    </tr>\n",
       "    <tr>\n",
       "      <th>136931</th>\n",
       "      <td>52850.0</td>\n",
       "      <td>62.0</td>\n",
       "      <td>Silver</td>\n",
       "      <td>Peugeot</td>\n",
       "      <td>Partner Tepee</td>\n",
       "      <td>USED</td>\n",
       "      <td>NaN</td>\n",
       "      <td>5595</td>\n",
       "      <td>MPV</td>\n",
       "      <td>False</td>\n",
       "      <td>Diesel</td>\n",
       "    </tr>\n",
       "    <tr>\n",
       "      <th>91109</th>\n",
       "      <td>6721.0</td>\n",
       "      <td>19.0</td>\n",
       "      <td>White</td>\n",
       "      <td>SEAT</td>\n",
       "      <td>Ateca</td>\n",
       "      <td>USED</td>\n",
       "      <td>NaN</td>\n",
       "      <td>30990</td>\n",
       "      <td>SUV</td>\n",
       "      <td>False</td>\n",
       "      <td>Petrol</td>\n",
       "    </tr>\n",
       "    <tr>\n",
       "      <th>173932</th>\n",
       "      <td>9442.0</td>\n",
       "      <td>17.0</td>\n",
       "      <td>Grey</td>\n",
       "      <td>MINI</td>\n",
       "      <td>Hatch</td>\n",
       "      <td>USED</td>\n",
       "      <td>NaN</td>\n",
       "      <td>13600</td>\n",
       "      <td>Hatchback</td>\n",
       "      <td>False</td>\n",
       "      <td>Petrol</td>\n",
       "    </tr>\n",
       "    <tr>\n",
       "      <th>51036</th>\n",
       "      <td>39000.0</td>\n",
       "      <td>13.0</td>\n",
       "      <td>Red</td>\n",
       "      <td>Land Rover</td>\n",
       "      <td>Range Rover Sport</td>\n",
       "      <td>USED</td>\n",
       "      <td>NaN</td>\n",
       "      <td>32888</td>\n",
       "      <td>SUV</td>\n",
       "      <td>False</td>\n",
       "      <td>Diesel</td>\n",
       "    </tr>\n",
       "    <tr>\n",
       "      <th>313571</th>\n",
       "      <td>0.0</td>\n",
       "      <td>70.0</td>\n",
       "      <td>Grey</td>\n",
       "      <td>Volvo</td>\n",
       "      <td>XC60</td>\n",
       "      <td>USED</td>\n",
       "      <td>NaN</td>\n",
       "      <td>41980</td>\n",
       "      <td>SUV</td>\n",
       "      <td>False</td>\n",
       "      <td>NaN</td>\n",
       "    </tr>\n",
       "    <tr>\n",
       "      <th>246668</th>\n",
       "      <td>8854.0</td>\n",
       "      <td>19.0</td>\n",
       "      <td>White</td>\n",
       "      <td>Lexus</td>\n",
       "      <td>RX L 450h</td>\n",
       "      <td>USED</td>\n",
       "      <td>NaN</td>\n",
       "      <td>41440</td>\n",
       "      <td>SUV</td>\n",
       "      <td>False</td>\n",
       "      <td>Petrol Hybrid</td>\n",
       "    </tr>\n",
       "    <tr>\n",
       "      <th>197697</th>\n",
       "      <td>2927.0</td>\n",
       "      <td>20.0</td>\n",
       "      <td>White</td>\n",
       "      <td>Vauxhall</td>\n",
       "      <td>Combo Life</td>\n",
       "      <td>USED</td>\n",
       "      <td>NaN</td>\n",
       "      <td>21590</td>\n",
       "      <td>MPV</td>\n",
       "      <td>False</td>\n",
       "      <td>Diesel</td>\n",
       "    </tr>\n",
       "    <tr>\n",
       "      <th>255099</th>\n",
       "      <td>7595.0</td>\n",
       "      <td>67.0</td>\n",
       "      <td>White</td>\n",
       "      <td>MINI</td>\n",
       "      <td>Hatch</td>\n",
       "      <td>USED</td>\n",
       "      <td>NaN</td>\n",
       "      <td>18500</td>\n",
       "      <td>Hatchback</td>\n",
       "      <td>False</td>\n",
       "      <td>Diesel</td>\n",
       "    </tr>\n",
       "    <tr>\n",
       "      <th>358902</th>\n",
       "      <td>3449.0</td>\n",
       "      <td>20.0</td>\n",
       "      <td>White</td>\n",
       "      <td>Audi</td>\n",
       "      <td>Q3</td>\n",
       "      <td>USED</td>\n",
       "      <td>NaN</td>\n",
       "      <td>33495</td>\n",
       "      <td>SUV</td>\n",
       "      <td>False</td>\n",
       "      <td>Petrol</td>\n",
       "    </tr>\n",
       "    <tr>\n",
       "      <th>128184</th>\n",
       "      <td>13288.0</td>\n",
       "      <td>69.0</td>\n",
       "      <td>White</td>\n",
       "      <td>Porsche</td>\n",
       "      <td>Cayenne</td>\n",
       "      <td>USED</td>\n",
       "      <td>NaN</td>\n",
       "      <td>83000</td>\n",
       "      <td>Coupe</td>\n",
       "      <td>False</td>\n",
       "      <td>Petrol Hybrid</td>\n",
       "    </tr>\n",
       "    <tr>\n",
       "      <th>269250</th>\n",
       "      <td>18575.0</td>\n",
       "      <td>67.0</td>\n",
       "      <td>Grey</td>\n",
       "      <td>Mercedes-Benz</td>\n",
       "      <td>C Class</td>\n",
       "      <td>USED</td>\n",
       "      <td>NaN</td>\n",
       "      <td>20990</td>\n",
       "      <td>Saloon</td>\n",
       "      <td>False</td>\n",
       "      <td>NaN</td>\n",
       "    </tr>\n",
       "    <tr>\n",
       "      <th>368492</th>\n",
       "      <td>13067.0</td>\n",
       "      <td>17.0</td>\n",
       "      <td>Black</td>\n",
       "      <td>Audi</td>\n",
       "      <td>A1</td>\n",
       "      <td>USED</td>\n",
       "      <td>NaN</td>\n",
       "      <td>17300</td>\n",
       "      <td>Hatchback</td>\n",
       "      <td>False</td>\n",
       "      <td>Petrol</td>\n",
       "    </tr>\n",
       "    <tr>\n",
       "      <th>373992</th>\n",
       "      <td>15701.0</td>\n",
       "      <td>19.0</td>\n",
       "      <td>Blue</td>\n",
       "      <td>Volkswagen</td>\n",
       "      <td>Arteon</td>\n",
       "      <td>USED</td>\n",
       "      <td>NaN</td>\n",
       "      <td>23500</td>\n",
       "      <td>NaN</td>\n",
       "      <td>False</td>\n",
       "      <td>Diesel</td>\n",
       "    </tr>\n",
       "    <tr>\n",
       "      <th>67556</th>\n",
       "      <td>25769.0</td>\n",
       "      <td>18.0</td>\n",
       "      <td>Blue</td>\n",
       "      <td>Volkswagen</td>\n",
       "      <td>Arteon</td>\n",
       "      <td>USED</td>\n",
       "      <td>NaN</td>\n",
       "      <td>20989</td>\n",
       "      <td>NaN</td>\n",
       "      <td>False</td>\n",
       "      <td>Diesel</td>\n",
       "    </tr>\n",
       "    <tr>\n",
       "      <th>10404</th>\n",
       "      <td>12386.0</td>\n",
       "      <td>18.0</td>\n",
       "      <td>Grey</td>\n",
       "      <td>BMW</td>\n",
       "      <td>i3</td>\n",
       "      <td>USED</td>\n",
       "      <td>NaN</td>\n",
       "      <td>22000</td>\n",
       "      <td>Hatchback</td>\n",
       "      <td>False</td>\n",
       "      <td>Petrol Hybrid</td>\n",
       "    </tr>\n",
       "    <tr>\n",
       "      <th>318613</th>\n",
       "      <td>19800.0</td>\n",
       "      <td>67.0</td>\n",
       "      <td>Grey</td>\n",
       "      <td>Volkswagen</td>\n",
       "      <td>Arteon</td>\n",
       "      <td>USED</td>\n",
       "      <td>NaN</td>\n",
       "      <td>21008</td>\n",
       "      <td>NaN</td>\n",
       "      <td>False</td>\n",
       "      <td>Diesel</td>\n",
       "    </tr>\n",
       "    <tr>\n",
       "      <th>291130</th>\n",
       "      <td>11411.0</td>\n",
       "      <td>15.0</td>\n",
       "      <td>Silver</td>\n",
       "      <td>Honda</td>\n",
       "      <td>Jazz</td>\n",
       "      <td>USED</td>\n",
       "      <td>NaN</td>\n",
       "      <td>8490</td>\n",
       "      <td>Hatchback</td>\n",
       "      <td>False</td>\n",
       "      <td>Petrol</td>\n",
       "    </tr>\n",
       "    <tr>\n",
       "      <th>121346</th>\n",
       "      <td>26103.0</td>\n",
       "      <td>18.0</td>\n",
       "      <td>Blue</td>\n",
       "      <td>Mercedes-Benz</td>\n",
       "      <td>C Class</td>\n",
       "      <td>USED</td>\n",
       "      <td>NaN</td>\n",
       "      <td>20800</td>\n",
       "      <td>Saloon</td>\n",
       "      <td>False</td>\n",
       "      <td>NaN</td>\n",
       "    </tr>\n",
       "    <tr>\n",
       "      <th>145992</th>\n",
       "      <td>11005.0</td>\n",
       "      <td>18.0</td>\n",
       "      <td>Grey</td>\n",
       "      <td>Nissan</td>\n",
       "      <td>Micra</td>\n",
       "      <td>USED</td>\n",
       "      <td>NaN</td>\n",
       "      <td>10495</td>\n",
       "      <td>Hatchback</td>\n",
       "      <td>False</td>\n",
       "      <td>Diesel</td>\n",
       "    </tr>\n",
       "    <tr>\n",
       "      <th>373623</th>\n",
       "      <td>72698.0</td>\n",
       "      <td>65.0</td>\n",
       "      <td>Blue</td>\n",
       "      <td>BMW</td>\n",
       "      <td>4 Series</td>\n",
       "      <td>USED</td>\n",
       "      <td>NaN</td>\n",
       "      <td>13127</td>\n",
       "      <td>NaN</td>\n",
       "      <td>False</td>\n",
       "      <td>Diesel</td>\n",
       "    </tr>\n",
       "    <tr>\n",
       "      <th>329585</th>\n",
       "      <td>29000.0</td>\n",
       "      <td>13.0</td>\n",
       "      <td>White</td>\n",
       "      <td>Maserati</td>\n",
       "      <td>Granturismo</td>\n",
       "      <td>USED</td>\n",
       "      <td>NaN</td>\n",
       "      <td>34999</td>\n",
       "      <td>Coupe</td>\n",
       "      <td>False</td>\n",
       "      <td>Petrol</td>\n",
       "    </tr>\n",
       "    <tr>\n",
       "      <th>388126</th>\n",
       "      <td>18594.0</td>\n",
       "      <td>17.0</td>\n",
       "      <td>Silver</td>\n",
       "      <td>Mercedes-Benz</td>\n",
       "      <td>GLC Class</td>\n",
       "      <td>USED</td>\n",
       "      <td>NaN</td>\n",
       "      <td>27500</td>\n",
       "      <td>SUV</td>\n",
       "      <td>False</td>\n",
       "      <td>Diesel</td>\n",
       "    </tr>\n",
       "    <tr>\n",
       "      <th>304811</th>\n",
       "      <td>5.0</td>\n",
       "      <td>20.0</td>\n",
       "      <td>Blue</td>\n",
       "      <td>SEAT</td>\n",
       "      <td>Leon</td>\n",
       "      <td>USED</td>\n",
       "      <td>NaN</td>\n",
       "      <td>15500</td>\n",
       "      <td>Hatchback</td>\n",
       "      <td>False</td>\n",
       "      <td>Petrol</td>\n",
       "    </tr>\n",
       "    <tr>\n",
       "      <th>308714</th>\n",
       "      <td>33000.0</td>\n",
       "      <td>15.0</td>\n",
       "      <td>Grey</td>\n",
       "      <td>Land Rover</td>\n",
       "      <td>Discovery Sport</td>\n",
       "      <td>USED</td>\n",
       "      <td>NaN</td>\n",
       "      <td>22795</td>\n",
       "      <td>SUV</td>\n",
       "      <td>False</td>\n",
       "      <td>Diesel</td>\n",
       "    </tr>\n",
       "    <tr>\n",
       "      <th>59538</th>\n",
       "      <td>44000.0</td>\n",
       "      <td>65.0</td>\n",
       "      <td>Grey</td>\n",
       "      <td>Audi</td>\n",
       "      <td>A1</td>\n",
       "      <td>USED</td>\n",
       "      <td>NaN</td>\n",
       "      <td>9995</td>\n",
       "      <td>Hatchback</td>\n",
       "      <td>False</td>\n",
       "      <td>Diesel</td>\n",
       "    </tr>\n",
       "  </tbody>\n",
       "</table>\n",
       "</div>"
      ],
      "text/plain": [
       "         mileage  reg_code standard_colour  standard_make     standard_model  \\\n",
       "249182      50.0      70.0           Black        Bentley        Continental   \n",
       "265802    8028.0      69.0           White     Volkswagen             Arteon   \n",
       "284572    5921.0      18.0           Black  Mercedes-Benz            C Class   \n",
       "273155   15811.0      65.0            Grey        Citroen                 C1   \n",
       "61582   121000.0      56.0           Black     Mitsubishi               L200   \n",
       "275302      15.0      70.0          Silver           SEAT              Ateca   \n",
       "364541   63708.0      65.0           White        Hyundai                i20   \n",
       "79528    72754.0      16.0            Grey           MINI            Clubman   \n",
       "281911   15089.0      18.0           White      SsangYong             Tivoli   \n",
       "12944     7000.0      67.0            Grey  Mercedes-Benz            C Class   \n",
       "196168   33890.0      17.0           White           MINI              Hatch   \n",
       "294843   86900.0      64.0            Blue            BMW           4 Series   \n",
       "136931   52850.0      62.0          Silver        Peugeot      Partner Tepee   \n",
       "91109     6721.0      19.0           White           SEAT              Ateca   \n",
       "173932    9442.0      17.0            Grey           MINI              Hatch   \n",
       "51036    39000.0      13.0             Red     Land Rover  Range Rover Sport   \n",
       "313571       0.0      70.0            Grey          Volvo               XC60   \n",
       "246668    8854.0      19.0           White          Lexus          RX L 450h   \n",
       "197697    2927.0      20.0           White       Vauxhall         Combo Life   \n",
       "255099    7595.0      67.0           White           MINI              Hatch   \n",
       "358902    3449.0      20.0           White           Audi                 Q3   \n",
       "128184   13288.0      69.0           White        Porsche            Cayenne   \n",
       "269250   18575.0      67.0            Grey  Mercedes-Benz            C Class   \n",
       "368492   13067.0      17.0           Black           Audi                 A1   \n",
       "373992   15701.0      19.0            Blue     Volkswagen             Arteon   \n",
       "67556    25769.0      18.0            Blue     Volkswagen             Arteon   \n",
       "10404    12386.0      18.0            Grey            BMW                 i3   \n",
       "318613   19800.0      67.0            Grey     Volkswagen             Arteon   \n",
       "291130   11411.0      15.0          Silver          Honda               Jazz   \n",
       "121346   26103.0      18.0            Blue  Mercedes-Benz            C Class   \n",
       "145992   11005.0      18.0            Grey         Nissan              Micra   \n",
       "373623   72698.0      65.0            Blue            BMW           4 Series   \n",
       "329585   29000.0      13.0           White       Maserati        Granturismo   \n",
       "388126   18594.0      17.0          Silver  Mercedes-Benz          GLC Class   \n",
       "304811       5.0      20.0            Blue           SEAT               Leon   \n",
       "308714   33000.0      15.0            Grey     Land Rover    Discovery Sport   \n",
       "59538    44000.0      65.0            Grey           Audi                 A1   \n",
       "\n",
       "       vehicle_condition  year_of_registration   price  body_type  \\\n",
       "249182              USED                   NaN  189000      Coupe   \n",
       "265802              USED                   NaN   22855     Saloon   \n",
       "284572              USED                   NaN   24995      Coupe   \n",
       "273155              USED                   NaN    6396  Hatchback   \n",
       "61582               USED                   NaN    4750     Pickup   \n",
       "275302              USED                   NaN   37490        SUV   \n",
       "364541              USED                   NaN    6500  Hatchback   \n",
       "79528               USED                   NaN   10995     Estate   \n",
       "281911              USED                   NaN   10829        SUV   \n",
       "12944               USED                   NaN   19795     Saloon   \n",
       "196168              USED                   NaN   14500  Hatchback   \n",
       "294843              USED                   NaN   12995        NaN   \n",
       "136931              USED                   NaN    5595        MPV   \n",
       "91109               USED                   NaN   30990        SUV   \n",
       "173932              USED                   NaN   13600  Hatchback   \n",
       "51036               USED                   NaN   32888        SUV   \n",
       "313571              USED                   NaN   41980        SUV   \n",
       "246668              USED                   NaN   41440        SUV   \n",
       "197697              USED                   NaN   21590        MPV   \n",
       "255099              USED                   NaN   18500  Hatchback   \n",
       "358902              USED                   NaN   33495        SUV   \n",
       "128184              USED                   NaN   83000      Coupe   \n",
       "269250              USED                   NaN   20990     Saloon   \n",
       "368492              USED                   NaN   17300  Hatchback   \n",
       "373992              USED                   NaN   23500        NaN   \n",
       "67556               USED                   NaN   20989        NaN   \n",
       "10404               USED                   NaN   22000  Hatchback   \n",
       "318613              USED                   NaN   21008        NaN   \n",
       "291130              USED                   NaN    8490  Hatchback   \n",
       "121346              USED                   NaN   20800     Saloon   \n",
       "145992              USED                   NaN   10495  Hatchback   \n",
       "373623              USED                   NaN   13127        NaN   \n",
       "329585              USED                   NaN   34999      Coupe   \n",
       "388126              USED                   NaN   27500        SUV   \n",
       "304811              USED                   NaN   15500  Hatchback   \n",
       "308714              USED                   NaN   22795        SUV   \n",
       "59538               USED                   NaN    9995  Hatchback   \n",
       "\n",
       "        crossover_car_and_van      fuel_type  \n",
       "249182                  False         Petrol  \n",
       "265802                  False         Diesel  \n",
       "284572                  False         Diesel  \n",
       "273155                  False         Petrol  \n",
       "61582                    True         Diesel  \n",
       "275302                  False         Petrol  \n",
       "364541                  False         Petrol  \n",
       "79528                   False         Diesel  \n",
       "281911                  False         Diesel  \n",
       "12944                   False         Petrol  \n",
       "196168                  False         Petrol  \n",
       "294843                  False         Diesel  \n",
       "136931                  False         Diesel  \n",
       "91109                   False         Petrol  \n",
       "173932                  False         Petrol  \n",
       "51036                   False         Diesel  \n",
       "313571                  False            NaN  \n",
       "246668                  False  Petrol Hybrid  \n",
       "197697                  False         Diesel  \n",
       "255099                  False         Diesel  \n",
       "358902                  False         Petrol  \n",
       "128184                  False  Petrol Hybrid  \n",
       "269250                  False            NaN  \n",
       "368492                  False         Petrol  \n",
       "373992                  False         Diesel  \n",
       "67556                   False         Diesel  \n",
       "10404                   False  Petrol Hybrid  \n",
       "318613                  False         Diesel  \n",
       "291130                  False         Petrol  \n",
       "121346                  False            NaN  \n",
       "145992                  False         Diesel  \n",
       "373623                  False         Diesel  \n",
       "329585                  False         Petrol  \n",
       "388126                  False         Diesel  \n",
       "304811                  False         Petrol  \n",
       "308714                  False         Diesel  \n",
       "59538                   False         Diesel  "
      ]
     },
     "execution_count": 2282,
     "metadata": {},
     "output_type": "execute_result"
    }
   ],
   "source": [
    "ad_cl.loc[ad_cl['year_of_registration'].isna()]"
   ]
  },
  {
   "cell_type": "code",
   "execution_count": 2283,
   "id": "08aed848-a152-4991-9b1b-0a6076e448f2",
   "metadata": {
    "tags": []
   },
   "outputs": [],
   "source": [
    "def year_calculation(reg_code):\n",
    "    if reg_code < 50:\n",
    "        return 2000 + reg_code\n",
    "    else:\n",
    "        return 2000 + (reg_code - 50)"
   ]
  },
  {
   "cell_type": "code",
   "execution_count": 2284,
   "id": "060b412e-056d-446e-b211-ff39182be3c2",
   "metadata": {
    "tags": []
   },
   "outputs": [],
   "source": [
    "  ad_cl['year_of_registration'].fillna(ad_cl['reg_code'].apply(year_calculation), inplace=True)"
   ]
  },
  {
   "cell_type": "code",
   "execution_count": 2285,
   "id": "c2e87508-f39a-4971-9388-baef96f4dbf9",
   "metadata": {
    "tags": []
   },
   "outputs": [
    {
     "data": {
      "text/plain": [
       "array([2017., 2013., 2015., 2014., 2011., 2006., 2009., 2018., 2020.,\n",
       "       2010., 2019., 2016., 2008., 2005., 2012., 2007., 2003., 2004.,\n",
       "       2002., 1010., 2001.])"
      ]
     },
     "execution_count": 2285,
     "metadata": {},
     "output_type": "execute_result"
    }
   ],
   "source": [
    " ad_cl['year_of_registration'].unique()"
   ]
  },
  {
   "cell_type": "code",
   "execution_count": 2355,
   "id": "512d18b8-0f08-48c3-ac71-56f1e49fa555",
   "metadata": {
    "tags": []
   },
   "outputs": [],
   "source": [
    " ad_cl['year_of_registration'].replace({1010:2010}, inplace=True)"
   ]
  },
  {
   "cell_type": "code",
   "execution_count": 2357,
   "id": "1897e292-7d2d-4cca-be39-0b019adc912f",
   "metadata": {
    "tags": []
   },
   "outputs": [
    {
     "data": {
      "text/plain": [
       "array([2017., 2013., 2015., 2014., 2011., 2006., 2009., 2018., 2020.,\n",
       "       2010., 2019., 2016., 2005., 2012., 2008., 2007., 2003., 2004.,\n",
       "       2002., 2001.])"
      ]
     },
     "execution_count": 2357,
     "metadata": {},
     "output_type": "execute_result"
    }
   ],
   "source": [
    "ad_cl['year_of_registration'].unique()"
   ]
  },
  {
   "cell_type": "code",
   "execution_count": 2360,
   "id": "a4590287-f733-48ac-b7bd-5c023a210a38",
   "metadata": {
    "tags": []
   },
   "outputs": [
    {
     "data": {
      "text/html": [
       "<div>\n",
       "<style scoped>\n",
       "    .dataframe tbody tr th:only-of-type {\n",
       "        vertical-align: middle;\n",
       "    }\n",
       "\n",
       "    .dataframe tbody tr th {\n",
       "        vertical-align: top;\n",
       "    }\n",
       "\n",
       "    .dataframe thead th {\n",
       "        text-align: right;\n",
       "    }\n",
       "</style>\n",
       "<table border=\"1\" class=\"dataframe\">\n",
       "  <thead>\n",
       "    <tr style=\"text-align: right;\">\n",
       "      <th></th>\n",
       "      <th>mileage</th>\n",
       "      <th>reg_code</th>\n",
       "      <th>standard_colour</th>\n",
       "      <th>standard_make</th>\n",
       "      <th>standard_model</th>\n",
       "      <th>vehicle_condition</th>\n",
       "      <th>year_of_registration</th>\n",
       "      <th>price</th>\n",
       "      <th>body_type</th>\n",
       "      <th>crossover_car_and_van</th>\n",
       "      <th>fuel_type</th>\n",
       "    </tr>\n",
       "  </thead>\n",
       "  <tbody>\n",
       "    <tr>\n",
       "      <th>374152</th>\n",
       "      <td>36347.0</td>\n",
       "      <td>17.0</td>\n",
       "      <td>Red</td>\n",
       "      <td>Nissan</td>\n",
       "      <td>Qashqai</td>\n",
       "      <td>USED</td>\n",
       "      <td>2017.0</td>\n",
       "      <td>10999</td>\n",
       "      <td>SUV</td>\n",
       "      <td>0</td>\n",
       "      <td>Petrol</td>\n",
       "    </tr>\n",
       "    <tr>\n",
       "      <th>5105</th>\n",
       "      <td>55215.0</td>\n",
       "      <td>13.0</td>\n",
       "      <td>Black</td>\n",
       "      <td>Audi</td>\n",
       "      <td>Q5</td>\n",
       "      <td>USED</td>\n",
       "      <td>2013.0</td>\n",
       "      <td>14850</td>\n",
       "      <td>SUV</td>\n",
       "      <td>0</td>\n",
       "      <td>Petrol</td>\n",
       "    </tr>\n",
       "    <tr>\n",
       "      <th>355851</th>\n",
       "      <td>13773.0</td>\n",
       "      <td>65.0</td>\n",
       "      <td>Red</td>\n",
       "      <td>Citroen</td>\n",
       "      <td>DS3 Cabrio</td>\n",
       "      <td>USED</td>\n",
       "      <td>2015.0</td>\n",
       "      <td>7000</td>\n",
       "      <td>Convertible</td>\n",
       "      <td>0</td>\n",
       "      <td>Petrol</td>\n",
       "    </tr>\n",
       "    <tr>\n",
       "      <th>315029</th>\n",
       "      <td>17100.0</td>\n",
       "      <td>64.0</td>\n",
       "      <td>Black</td>\n",
       "      <td>Vauxhall</td>\n",
       "      <td>Astra</td>\n",
       "      <td>USED</td>\n",
       "      <td>2014.0</td>\n",
       "      <td>8495</td>\n",
       "      <td>Estate</td>\n",
       "      <td>0</td>\n",
       "      <td>Diesel</td>\n",
       "    </tr>\n",
       "    <tr>\n",
       "      <th>122341</th>\n",
       "      <td>83108.0</td>\n",
       "      <td>61.0</td>\n",
       "      <td>Grey</td>\n",
       "      <td>Lexus</td>\n",
       "      <td>IS 250</td>\n",
       "      <td>USED</td>\n",
       "      <td>2011.0</td>\n",
       "      <td>6999</td>\n",
       "      <td>Saloon</td>\n",
       "      <td>0</td>\n",
       "      <td>Petrol</td>\n",
       "    </tr>\n",
       "    <tr>\n",
       "      <th>...</th>\n",
       "      <td>...</td>\n",
       "      <td>...</td>\n",
       "      <td>...</td>\n",
       "      <td>...</td>\n",
       "      <td>...</td>\n",
       "      <td>...</td>\n",
       "      <td>...</td>\n",
       "      <td>...</td>\n",
       "      <td>...</td>\n",
       "      <td>...</td>\n",
       "      <td>...</td>\n",
       "    </tr>\n",
       "    <tr>\n",
       "      <th>69746</th>\n",
       "      <td>14722.0</td>\n",
       "      <td>18.0</td>\n",
       "      <td>Grey</td>\n",
       "      <td>BMW</td>\n",
       "      <td>1 Series</td>\n",
       "      <td>USED</td>\n",
       "      <td>2018.0</td>\n",
       "      <td>25495</td>\n",
       "      <td>Hatchback</td>\n",
       "      <td>0</td>\n",
       "      <td>Petrol</td>\n",
       "    </tr>\n",
       "    <tr>\n",
       "      <th>216365</th>\n",
       "      <td>92741.0</td>\n",
       "      <td>61.0</td>\n",
       "      <td>Black</td>\n",
       "      <td>Vauxhall</td>\n",
       "      <td>Astra</td>\n",
       "      <td>USED</td>\n",
       "      <td>2011.0</td>\n",
       "      <td>2495</td>\n",
       "      <td>Hatchback</td>\n",
       "      <td>0</td>\n",
       "      <td>Diesel</td>\n",
       "    </tr>\n",
       "    <tr>\n",
       "      <th>228429</th>\n",
       "      <td>50413.0</td>\n",
       "      <td>17.0</td>\n",
       "      <td>Red</td>\n",
       "      <td>Toyota</td>\n",
       "      <td>RAV4</td>\n",
       "      <td>USED</td>\n",
       "      <td>2017.0</td>\n",
       "      <td>15495</td>\n",
       "      <td>SUV</td>\n",
       "      <td>0</td>\n",
       "      <td>Petrol Hybrid</td>\n",
       "    </tr>\n",
       "    <tr>\n",
       "      <th>322179</th>\n",
       "      <td>35224.0</td>\n",
       "      <td>13.0</td>\n",
       "      <td>Black</td>\n",
       "      <td>Citroen</td>\n",
       "      <td>C3</td>\n",
       "      <td>USED</td>\n",
       "      <td>2013.0</td>\n",
       "      <td>5995</td>\n",
       "      <td>Hatchback</td>\n",
       "      <td>0</td>\n",
       "      <td>Petrol</td>\n",
       "    </tr>\n",
       "    <tr>\n",
       "      <th>110969</th>\n",
       "      <td>2343.0</td>\n",
       "      <td>20.0</td>\n",
       "      <td>Grey</td>\n",
       "      <td>Toyota</td>\n",
       "      <td>Prius+</td>\n",
       "      <td>USED</td>\n",
       "      <td>2020.0</td>\n",
       "      <td>24990</td>\n",
       "      <td>MPV</td>\n",
       "      <td>0</td>\n",
       "      <td>Petrol Hybrid</td>\n",
       "    </tr>\n",
       "  </tbody>\n",
       "</table>\n",
       "<p>7240 rows × 11 columns</p>\n",
       "</div>"
      ],
      "text/plain": [
       "        mileage  reg_code standard_colour standard_make standard_model  \\\n",
       "374152  36347.0      17.0             Red        Nissan        Qashqai   \n",
       "5105    55215.0      13.0           Black          Audi             Q5   \n",
       "355851  13773.0      65.0             Red       Citroen     DS3 Cabrio   \n",
       "315029  17100.0      64.0           Black      Vauxhall          Astra   \n",
       "122341  83108.0      61.0            Grey         Lexus         IS 250   \n",
       "...         ...       ...             ...           ...            ...   \n",
       "69746   14722.0      18.0            Grey           BMW       1 Series   \n",
       "216365  92741.0      61.0           Black      Vauxhall          Astra   \n",
       "228429  50413.0      17.0             Red        Toyota           RAV4   \n",
       "322179  35224.0      13.0           Black       Citroen             C3   \n",
       "110969   2343.0      20.0            Grey        Toyota         Prius+   \n",
       "\n",
       "       vehicle_condition  year_of_registration  price    body_type  \\\n",
       "374152              USED                2017.0  10999          SUV   \n",
       "5105                USED                2013.0  14850          SUV   \n",
       "355851              USED                2015.0   7000  Convertible   \n",
       "315029              USED                2014.0   8495       Estate   \n",
       "122341              USED                2011.0   6999       Saloon   \n",
       "...                  ...                   ...    ...          ...   \n",
       "69746               USED                2018.0  25495    Hatchback   \n",
       "216365              USED                2011.0   2495    Hatchback   \n",
       "228429              USED                2017.0  15495          SUV   \n",
       "322179              USED                2013.0   5995    Hatchback   \n",
       "110969              USED                2020.0  24990          MPV   \n",
       "\n",
       "        crossover_car_and_van      fuel_type  \n",
       "374152                      0         Petrol  \n",
       "5105                        0         Petrol  \n",
       "355851                      0         Petrol  \n",
       "315029                      0         Diesel  \n",
       "122341                      0         Petrol  \n",
       "...                       ...            ...  \n",
       "69746                       0         Petrol  \n",
       "216365                      0         Diesel  \n",
       "228429                      0  Petrol Hybrid  \n",
       "322179                      0         Petrol  \n",
       "110969                      0  Petrol Hybrid  \n",
       "\n",
       "[7240 rows x 11 columns]"
      ]
     },
     "execution_count": 2360,
     "metadata": {},
     "output_type": "execute_result"
    }
   ],
   "source": [
    "ad_cl['crossover_car_and_van'].replace({True: 1, False: 0}, inplace = True)\n",
    "ad_cl"
   ]
  },
  {
   "cell_type": "code",
   "execution_count": 2358,
   "id": "99197ecc-9dd6-4462-af1b-471573a6f9bf",
   "metadata": {
    "tags": []
   },
   "outputs": [],
   "source": [
    "ad_cl = ad_cl.dropna()"
   ]
  },
  {
   "cell_type": "code",
   "execution_count": 2359,
   "id": "58519c55-d724-4770-ab3d-7733334983e6",
   "metadata": {
    "tags": []
   },
   "outputs": [
    {
     "data": {
      "text/plain": [
       "mileage                  0\n",
       "reg_code                 0\n",
       "standard_colour          0\n",
       "standard_make            0\n",
       "standard_model           0\n",
       "vehicle_condition        0\n",
       "year_of_registration     0\n",
       "price                    0\n",
       "body_type                0\n",
       "crossover_car_and_van    0\n",
       "fuel_type                0\n",
       "dtype: int64"
      ]
     },
     "execution_count": 2359,
     "metadata": {},
     "output_type": "execute_result"
    }
   ],
   "source": [
    "ad_cl.isna().sum()"
   ]
  },
  {
   "cell_type": "code",
   "execution_count": 2524,
   "id": "e66fc945-99e8-43be-8e7f-a0581590d5ef",
   "metadata": {
    "tags": []
   },
   "outputs": [
    {
     "data": {
      "text/html": [
       "<div>\n",
       "<style scoped>\n",
       "    .dataframe tbody tr th:only-of-type {\n",
       "        vertical-align: middle;\n",
       "    }\n",
       "\n",
       "    .dataframe tbody tr th {\n",
       "        vertical-align: top;\n",
       "    }\n",
       "\n",
       "    .dataframe thead th {\n",
       "        text-align: right;\n",
       "    }\n",
       "</style>\n",
       "<table border=\"1\" class=\"dataframe\">\n",
       "  <thead>\n",
       "    <tr style=\"text-align: right;\">\n",
       "      <th></th>\n",
       "      <th>mileage</th>\n",
       "      <th>standard_colour</th>\n",
       "      <th>standard_make</th>\n",
       "      <th>standard_model</th>\n",
       "      <th>year_of_registration</th>\n",
       "      <th>price</th>\n",
       "      <th>body_type</th>\n",
       "      <th>crossover_car_and_van</th>\n",
       "      <th>fuel_type</th>\n",
       "    </tr>\n",
       "  </thead>\n",
       "  <tbody>\n",
       "    <tr>\n",
       "      <th>374152</th>\n",
       "      <td>36347.0</td>\n",
       "      <td>Red</td>\n",
       "      <td>Nissan</td>\n",
       "      <td>Qashqai</td>\n",
       "      <td>2017.0</td>\n",
       "      <td>10999</td>\n",
       "      <td>SUV</td>\n",
       "      <td>0</td>\n",
       "      <td>Petrol</td>\n",
       "    </tr>\n",
       "    <tr>\n",
       "      <th>5105</th>\n",
       "      <td>55215.0</td>\n",
       "      <td>Black</td>\n",
       "      <td>Audi</td>\n",
       "      <td>Q5</td>\n",
       "      <td>2013.0</td>\n",
       "      <td>14850</td>\n",
       "      <td>SUV</td>\n",
       "      <td>0</td>\n",
       "      <td>Petrol</td>\n",
       "    </tr>\n",
       "    <tr>\n",
       "      <th>355851</th>\n",
       "      <td>13773.0</td>\n",
       "      <td>Red</td>\n",
       "      <td>Citroen</td>\n",
       "      <td>DS3 Cabrio</td>\n",
       "      <td>2015.0</td>\n",
       "      <td>7000</td>\n",
       "      <td>Convertible</td>\n",
       "      <td>0</td>\n",
       "      <td>Petrol</td>\n",
       "    </tr>\n",
       "    <tr>\n",
       "      <th>315029</th>\n",
       "      <td>17100.0</td>\n",
       "      <td>Black</td>\n",
       "      <td>Vauxhall</td>\n",
       "      <td>Astra</td>\n",
       "      <td>2014.0</td>\n",
       "      <td>8495</td>\n",
       "      <td>Estate</td>\n",
       "      <td>0</td>\n",
       "      <td>Diesel</td>\n",
       "    </tr>\n",
       "    <tr>\n",
       "      <th>122341</th>\n",
       "      <td>83108.0</td>\n",
       "      <td>Grey</td>\n",
       "      <td>Lexus</td>\n",
       "      <td>IS 250</td>\n",
       "      <td>2011.0</td>\n",
       "      <td>6999</td>\n",
       "      <td>Saloon</td>\n",
       "      <td>0</td>\n",
       "      <td>Petrol</td>\n",
       "    </tr>\n",
       "  </tbody>\n",
       "</table>\n",
       "</div>"
      ],
      "text/plain": [
       "        mileage standard_colour standard_make standard_model  \\\n",
       "374152  36347.0             Red        Nissan        Qashqai   \n",
       "5105    55215.0           Black          Audi             Q5   \n",
       "355851  13773.0             Red       Citroen     DS3 Cabrio   \n",
       "315029  17100.0           Black      Vauxhall          Astra   \n",
       "122341  83108.0            Grey         Lexus         IS 250   \n",
       "\n",
       "        year_of_registration  price    body_type  crossover_car_and_van  \\\n",
       "374152                2017.0  10999          SUV                      0   \n",
       "5105                  2013.0  14850          SUV                      0   \n",
       "355851                2015.0   7000  Convertible                      0   \n",
       "315029                2014.0   8495       Estate                      0   \n",
       "122341                2011.0   6999       Saloon                      0   \n",
       "\n",
       "       fuel_type  \n",
       "374152    Petrol  \n",
       "5105      Petrol  \n",
       "355851    Petrol  \n",
       "315029    Diesel  \n",
       "122341    Petrol  "
      ]
     },
     "execution_count": 2524,
     "metadata": {},
     "output_type": "execute_result"
    }
   ],
   "source": [
    "ad_ml = ad_cl.drop(columns=['reg_code','vehicle_condition'])\n",
    "ad_ml.head()"
   ]
  },
  {
   "cell_type": "code",
   "execution_count": 2525,
   "id": "e25b9355-fb59-49ca-9b17-039815a9c529",
   "metadata": {
    "tags": []
   },
   "outputs": [
    {
     "data": {
      "text/plain": [
       "Index(['BMW', 'Vauxhall', 'Audi', 'Mercedes-Benz', 'Volkswagen', 'Nissan',\n",
       "       'Toyota', 'Peugeot', 'Land Rover', 'Kia', 'SKODA', 'MINI', 'Renault',\n",
       "       'Hyundai', 'Honda', 'Citroen', 'SEAT', 'Volvo', 'Fiat', 'Mazda'],\n",
       "      dtype='object', name='standard_make')"
      ]
     },
     "execution_count": 2525,
     "metadata": {},
     "output_type": "execute_result"
    }
   ],
   "source": [
    "most_common = ad_ml['standard_make'].value_counts().nlargest(20).index\n",
    "most_common"
   ]
  },
  {
   "cell_type": "code",
   "execution_count": 2526,
   "id": "67143513-fe56-458c-8731-f12b5585869d",
   "metadata": {
    "tags": []
   },
   "outputs": [
    {
     "data": {
      "text/plain": [
       "(6499, 9)"
      ]
     },
     "execution_count": 2526,
     "metadata": {},
     "output_type": "execute_result"
    }
   ],
   "source": [
    "adcm_ml = ad_ml[ad_ml['standard_make'].isin(most_common)]\n",
    "adcm_ml.shape"
   ]
  },
  {
   "cell_type": "code",
   "execution_count": 2527,
   "id": "b4c54d7e-d221-4bdb-972c-b202ad1b78c2",
   "metadata": {
    "tags": []
   },
   "outputs": [
    {
     "data": {
      "text/plain": [
       "mileage                  0\n",
       "standard_colour          0\n",
       "standard_make            0\n",
       "standard_model           0\n",
       "year_of_registration     0\n",
       "price                    0\n",
       "body_type                0\n",
       "crossover_car_and_van    0\n",
       "fuel_type                0\n",
       "dtype: int64"
      ]
     },
     "execution_count": 2527,
     "metadata": {},
     "output_type": "execute_result"
    }
   ],
   "source": [
    "adcm_ml.isna().sum()"
   ]
  },
  {
   "cell_type": "markdown",
   "id": "053eb362-accc-41d4-992e-b276c52f402b",
   "metadata": {},
   "source": [
    "Splitting the Data"
   ]
  },
  {
   "cell_type": "code",
   "execution_count": 2528,
   "id": "de4c9f2e-8605-4b22-95e0-da5a7653f193",
   "metadata": {
    "tags": []
   },
   "outputs": [],
   "source": [
    "from sklearn.model_selection import train_test_split\n",
    "from sklearn.neighbors import KNeighborsRegressor, KNeighborsClassifier\n",
    "from sklearn.model_selection import cross_val_score\n",
    "from sklearn.model_selection import GridSearchCV, ParameterGrid\n",
    "\n",
    "from sklearn.preprocessing import OneHotEncoder\n",
    "from sklearn.preprocessing import MinMaxScaler\n",
    "from sklearn.impute import SimpleImputer\n",
    "from sklearn.preprocessing import StandardScaler"
   ]
  },
  {
   "cell_type": "code",
   "execution_count": 2529,
   "id": "3a249cec-b050-4443-8c62-192910694772",
   "metadata": {
    "tags": []
   },
   "outputs": [],
   "source": [
    "from sklearn.preprocessing import TargetEncoder"
   ]
  },
  {
   "cell_type": "code",
   "execution_count": 2600,
   "id": "dc12dc89-6dc8-49a2-84e6-99ea4a4decf5",
   "metadata": {
    "tags": []
   },
   "outputs": [],
   "source": [
    "cat_feat = ['standard_make', 'body_type', 'fuel_type','standard_model','standard_colour','year_of_registration','crossover_car_and_van']\n",
    "num_feat = ['mileage']"
   ]
  },
  {
   "cell_type": "code",
   "execution_count": 2601,
   "id": "2cf955b4-bbd7-4ce5-9561-6d818d844433",
   "metadata": {
    "tags": []
   },
   "outputs": [],
   "source": [
    "X = adcm_ml[cat_feat + num_feat]\n",
    "y = adcm_ml['price']"
   ]
  },
  {
   "cell_type": "code",
   "execution_count": 2602,
   "id": "e851e363-37ae-482f-915b-66f92c0cf83b",
   "metadata": {
    "tags": []
   },
   "outputs": [
    {
     "data": {
      "text/html": [
       "<div>\n",
       "<style scoped>\n",
       "    .dataframe tbody tr th:only-of-type {\n",
       "        vertical-align: middle;\n",
       "    }\n",
       "\n",
       "    .dataframe tbody tr th {\n",
       "        vertical-align: top;\n",
       "    }\n",
       "\n",
       "    .dataframe thead th {\n",
       "        text-align: right;\n",
       "    }\n",
       "</style>\n",
       "<table border=\"1\" class=\"dataframe\">\n",
       "  <thead>\n",
       "    <tr style=\"text-align: right;\">\n",
       "      <th></th>\n",
       "      <th>standard_make</th>\n",
       "      <th>body_type</th>\n",
       "      <th>fuel_type</th>\n",
       "      <th>standard_model</th>\n",
       "      <th>standard_colour</th>\n",
       "      <th>year_of_registration</th>\n",
       "      <th>crossover_car_and_van</th>\n",
       "      <th>mileage</th>\n",
       "    </tr>\n",
       "  </thead>\n",
       "  <tbody>\n",
       "    <tr>\n",
       "      <th>374152</th>\n",
       "      <td>Nissan</td>\n",
       "      <td>SUV</td>\n",
       "      <td>Petrol</td>\n",
       "      <td>Qashqai</td>\n",
       "      <td>Red</td>\n",
       "      <td>2017.0</td>\n",
       "      <td>0</td>\n",
       "      <td>36347.0</td>\n",
       "    </tr>\n",
       "    <tr>\n",
       "      <th>5105</th>\n",
       "      <td>Audi</td>\n",
       "      <td>SUV</td>\n",
       "      <td>Petrol</td>\n",
       "      <td>Q5</td>\n",
       "      <td>Black</td>\n",
       "      <td>2013.0</td>\n",
       "      <td>0</td>\n",
       "      <td>55215.0</td>\n",
       "    </tr>\n",
       "    <tr>\n",
       "      <th>355851</th>\n",
       "      <td>Citroen</td>\n",
       "      <td>Convertible</td>\n",
       "      <td>Petrol</td>\n",
       "      <td>DS3 Cabrio</td>\n",
       "      <td>Red</td>\n",
       "      <td>2015.0</td>\n",
       "      <td>0</td>\n",
       "      <td>13773.0</td>\n",
       "    </tr>\n",
       "    <tr>\n",
       "      <th>315029</th>\n",
       "      <td>Vauxhall</td>\n",
       "      <td>Estate</td>\n",
       "      <td>Diesel</td>\n",
       "      <td>Astra</td>\n",
       "      <td>Black</td>\n",
       "      <td>2014.0</td>\n",
       "      <td>0</td>\n",
       "      <td>17100.0</td>\n",
       "    </tr>\n",
       "    <tr>\n",
       "      <th>248671</th>\n",
       "      <td>Nissan</td>\n",
       "      <td>SUV</td>\n",
       "      <td>Diesel</td>\n",
       "      <td>Juke</td>\n",
       "      <td>Black</td>\n",
       "      <td>2014.0</td>\n",
       "      <td>0</td>\n",
       "      <td>53000.0</td>\n",
       "    </tr>\n",
       "  </tbody>\n",
       "</table>\n",
       "</div>"
      ],
      "text/plain": [
       "       standard_make    body_type fuel_type standard_model standard_colour  \\\n",
       "374152        Nissan          SUV    Petrol        Qashqai             Red   \n",
       "5105            Audi          SUV    Petrol             Q5           Black   \n",
       "355851       Citroen  Convertible    Petrol     DS3 Cabrio             Red   \n",
       "315029      Vauxhall       Estate    Diesel          Astra           Black   \n",
       "248671        Nissan          SUV    Diesel           Juke           Black   \n",
       "\n",
       "        year_of_registration  crossover_car_and_van  mileage  \n",
       "374152                2017.0                      0  36347.0  \n",
       "5105                  2013.0                      0  55215.0  \n",
       "355851                2015.0                      0  13773.0  \n",
       "315029                2014.0                      0  17100.0  \n",
       "248671                2014.0                      0  53000.0  "
      ]
     },
     "execution_count": 2602,
     "metadata": {},
     "output_type": "execute_result"
    }
   ],
   "source": [
    "X.head(5)"
   ]
  },
  {
   "cell_type": "code",
   "execution_count": 2603,
   "id": "1e2eed7a-77f5-4e8e-be23-b1828ceb20da",
   "metadata": {
    "tags": []
   },
   "outputs": [],
   "source": [
    "X_train, X_test, y_train, y_test = train_test_split(X, y, test_size=0.2, random_state=0)"
   ]
  },
  {
   "cell_type": "code",
   "execution_count": 2604,
   "id": "9d2ab600-d722-45a7-96ea-5c435c8e967b",
   "metadata": {
    "tags": []
   },
   "outputs": [
    {
     "data": {
      "text/plain": [
       "((5199, 8), (1300, 8), (5199,), (1300,))"
      ]
     },
     "execution_count": 2604,
     "metadata": {},
     "output_type": "execute_result"
    }
   ],
   "source": [
    "X_train.shape, X_test.shape, y_train.shape, y_test.shape"
   ]
  },
  {
   "cell_type": "markdown",
   "id": "102b0f56-6f77-49bc-8d23-93f4dd5511ca",
   "metadata": {},
   "source": [
    "Data Transformation for the models"
   ]
  },
  {
   "cell_type": "code",
   "execution_count": 2605,
   "id": "70c09aee-f194-4790-8b0b-a89be79b99f9",
   "metadata": {
    "tags": []
   },
   "outputs": [],
   "source": [
    "te =  TargetEncoder(\n",
    "    target_type='continuous'\n",
    ").set_output(transform='pandas')"
   ]
  },
  {
   "cell_type": "code",
   "execution_count": 2606,
   "id": "f2ad90ff-76d3-4986-8b20-d7a2a48073ec",
   "metadata": {
    "tags": []
   },
   "outputs": [
    {
     "data": {
      "text/html": [
       "<style>#sk-container-id-116 {color: black;}#sk-container-id-116 pre{padding: 0;}#sk-container-id-116 div.sk-toggleable {background-color: white;}#sk-container-id-116 label.sk-toggleable__label {cursor: pointer;display: block;width: 100%;margin-bottom: 0;padding: 0.3em;box-sizing: border-box;text-align: center;}#sk-container-id-116 label.sk-toggleable__label-arrow:before {content: \"▸\";float: left;margin-right: 0.25em;color: #696969;}#sk-container-id-116 label.sk-toggleable__label-arrow:hover:before {color: black;}#sk-container-id-116 div.sk-estimator:hover label.sk-toggleable__label-arrow:before {color: black;}#sk-container-id-116 div.sk-toggleable__content {max-height: 0;max-width: 0;overflow: hidden;text-align: left;background-color: #f0f8ff;}#sk-container-id-116 div.sk-toggleable__content pre {margin: 0.2em;color: black;border-radius: 0.25em;background-color: #f0f8ff;}#sk-container-id-116 input.sk-toggleable__control:checked~div.sk-toggleable__content {max-height: 200px;max-width: 100%;overflow: auto;}#sk-container-id-116 input.sk-toggleable__control:checked~label.sk-toggleable__label-arrow:before {content: \"▾\";}#sk-container-id-116 div.sk-estimator input.sk-toggleable__control:checked~label.sk-toggleable__label {background-color: #d4ebff;}#sk-container-id-116 div.sk-label input.sk-toggleable__control:checked~label.sk-toggleable__label {background-color: #d4ebff;}#sk-container-id-116 input.sk-hidden--visually {border: 0;clip: rect(1px 1px 1px 1px);clip: rect(1px, 1px, 1px, 1px);height: 1px;margin: -1px;overflow: hidden;padding: 0;position: absolute;width: 1px;}#sk-container-id-116 div.sk-estimator {font-family: monospace;background-color: #f0f8ff;border: 1px dotted black;border-radius: 0.25em;box-sizing: border-box;margin-bottom: 0.5em;}#sk-container-id-116 div.sk-estimator:hover {background-color: #d4ebff;}#sk-container-id-116 div.sk-parallel-item::after {content: \"\";width: 100%;border-bottom: 1px solid gray;flex-grow: 1;}#sk-container-id-116 div.sk-label:hover label.sk-toggleable__label {background-color: #d4ebff;}#sk-container-id-116 div.sk-serial::before {content: \"\";position: absolute;border-left: 1px solid gray;box-sizing: border-box;top: 0;bottom: 0;left: 50%;z-index: 0;}#sk-container-id-116 div.sk-serial {display: flex;flex-direction: column;align-items: center;background-color: white;padding-right: 0.2em;padding-left: 0.2em;position: relative;}#sk-container-id-116 div.sk-item {position: relative;z-index: 1;}#sk-container-id-116 div.sk-parallel {display: flex;align-items: stretch;justify-content: center;background-color: white;position: relative;}#sk-container-id-116 div.sk-item::before, #sk-container-id-116 div.sk-parallel-item::before {content: \"\";position: absolute;border-left: 1px solid gray;box-sizing: border-box;top: 0;bottom: 0;left: 50%;z-index: -1;}#sk-container-id-116 div.sk-parallel-item {display: flex;flex-direction: column;z-index: 1;position: relative;background-color: white;}#sk-container-id-116 div.sk-parallel-item:first-child::after {align-self: flex-end;width: 50%;}#sk-container-id-116 div.sk-parallel-item:last-child::after {align-self: flex-start;width: 50%;}#sk-container-id-116 div.sk-parallel-item:only-child::after {width: 0;}#sk-container-id-116 div.sk-dashed-wrapped {border: 1px dashed gray;margin: 0 0.4em 0.5em 0.4em;box-sizing: border-box;padding-bottom: 0.4em;background-color: white;}#sk-container-id-116 div.sk-label label {font-family: monospace;font-weight: bold;display: inline-block;line-height: 1.2em;}#sk-container-id-116 div.sk-label-container {text-align: center;}#sk-container-id-116 div.sk-container {/* jupyter's `normalize.less` sets `[hidden] { display: none; }` but bootstrap.min.css set `[hidden] { display: none !important; }` so we also need the `!important` here to be able to override the default hidden behavior on the sphinx rendered scikit-learn.org. See: https://github.com/scikit-learn/scikit-learn/issues/21755 */display: inline-block !important;position: relative;}#sk-container-id-116 div.sk-text-repr-fallback {display: none;}</style><div id=\"sk-container-id-116\" class=\"sk-top-container\"><div class=\"sk-text-repr-fallback\"><pre>TargetEncoder(target_type=&#x27;continuous&#x27;)</pre><b>In a Jupyter environment, please rerun this cell to show the HTML representation or trust the notebook. <br />On GitHub, the HTML representation is unable to render, please try loading this page with nbviewer.org.</b></div><div class=\"sk-container\" hidden><div class=\"sk-item\"><div class=\"sk-estimator sk-toggleable\"><input class=\"sk-toggleable__control sk-hidden--visually\" id=\"sk-estimator-id-116\" type=\"checkbox\" checked><label for=\"sk-estimator-id-116\" class=\"sk-toggleable__label sk-toggleable__label-arrow\">TargetEncoder</label><div class=\"sk-toggleable__content\"><pre>TargetEncoder(target_type=&#x27;continuous&#x27;)</pre></div></div></div></div></div>"
      ],
      "text/plain": [
       "TargetEncoder(target_type='continuous')"
      ]
     },
     "execution_count": 2606,
     "metadata": {},
     "output_type": "execute_result"
    }
   ],
   "source": [
    "te.fit(X_train[cat_feat],y_train)"
   ]
  },
  {
   "cell_type": "code",
   "execution_count": 2607,
   "id": "f567bcd8-9f36-4ebc-b510-d6ff3bc77cb8",
   "metadata": {
    "tags": []
   },
   "outputs": [],
   "source": [
    "X_train_enc = te.transform(X_train[cat_feat])"
   ]
  },
  {
   "cell_type": "code",
   "execution_count": 2608,
   "id": "c0190d6e-271f-4695-a85d-6cfc87811640",
   "metadata": {
    "tags": []
   },
   "outputs": [
    {
     "data": {
      "text/html": [
       "<div>\n",
       "<style scoped>\n",
       "    .dataframe tbody tr th:only-of-type {\n",
       "        vertical-align: middle;\n",
       "    }\n",
       "\n",
       "    .dataframe tbody tr th {\n",
       "        vertical-align: top;\n",
       "    }\n",
       "\n",
       "    .dataframe thead th {\n",
       "        text-align: right;\n",
       "    }\n",
       "</style>\n",
       "<table border=\"1\" class=\"dataframe\">\n",
       "  <thead>\n",
       "    <tr style=\"text-align: right;\">\n",
       "      <th></th>\n",
       "      <th>standard_make</th>\n",
       "      <th>body_type</th>\n",
       "      <th>fuel_type</th>\n",
       "      <th>standard_model</th>\n",
       "      <th>standard_colour</th>\n",
       "      <th>year_of_registration</th>\n",
       "      <th>crossover_car_and_van</th>\n",
       "    </tr>\n",
       "  </thead>\n",
       "  <tbody>\n",
       "    <tr>\n",
       "      <th>388595</th>\n",
       "      <td>30412.052522</td>\n",
       "      <td>19564.772517</td>\n",
       "      <td>15357.001918</td>\n",
       "      <td>24212.662840</td>\n",
       "      <td>15173.977569</td>\n",
       "      <td>10797.582818</td>\n",
       "      <td>14016.207898</td>\n",
       "    </tr>\n",
       "    <tr>\n",
       "      <th>273479</th>\n",
       "      <td>18810.570095</td>\n",
       "      <td>9727.382348</td>\n",
       "      <td>12301.686877</td>\n",
       "      <td>11484.772270</td>\n",
       "      <td>15173.977569</td>\n",
       "      <td>15110.193334</td>\n",
       "      <td>14016.207898</td>\n",
       "    </tr>\n",
       "    <tr>\n",
       "      <th>250053</th>\n",
       "      <td>18810.570095</td>\n",
       "      <td>18359.644968</td>\n",
       "      <td>12301.686877</td>\n",
       "      <td>18208.241865</td>\n",
       "      <td>16883.522526</td>\n",
       "      <td>27254.522773</td>\n",
       "      <td>14016.207898</td>\n",
       "    </tr>\n",
       "    <tr>\n",
       "      <th>340314</th>\n",
       "      <td>7700.351239</td>\n",
       "      <td>9727.382348</td>\n",
       "      <td>15357.001918</td>\n",
       "      <td>9664.246967</td>\n",
       "      <td>16883.522526</td>\n",
       "      <td>27254.522773</td>\n",
       "      <td>14016.207898</td>\n",
       "    </tr>\n",
       "    <tr>\n",
       "      <th>298685</th>\n",
       "      <td>8940.058871</td>\n",
       "      <td>19564.772517</td>\n",
       "      <td>12301.686877</td>\n",
       "      <td>11047.468943</td>\n",
       "      <td>16883.522526</td>\n",
       "      <td>15110.193334</td>\n",
       "      <td>14016.207898</td>\n",
       "    </tr>\n",
       "  </tbody>\n",
       "</table>\n",
       "</div>"
      ],
      "text/plain": [
       "        standard_make     body_type     fuel_type  standard_model  \\\n",
       "388595   30412.052522  19564.772517  15357.001918    24212.662840   \n",
       "273479   18810.570095   9727.382348  12301.686877    11484.772270   \n",
       "250053   18810.570095  18359.644968  12301.686877    18208.241865   \n",
       "340314    7700.351239   9727.382348  15357.001918     9664.246967   \n",
       "298685    8940.058871  19564.772517  12301.686877    11047.468943   \n",
       "\n",
       "        standard_colour  year_of_registration  crossover_car_and_van  \n",
       "388595     15173.977569          10797.582818           14016.207898  \n",
       "273479     15173.977569          15110.193334           14016.207898  \n",
       "250053     16883.522526          27254.522773           14016.207898  \n",
       "340314     16883.522526          27254.522773           14016.207898  \n",
       "298685     16883.522526          15110.193334           14016.207898  "
      ]
     },
     "execution_count": 2608,
     "metadata": {},
     "output_type": "execute_result"
    }
   ],
   "source": [
    "X_train_enc.head()"
   ]
  },
  {
   "cell_type": "code",
   "execution_count": 2609,
   "id": "785098ce-b4bc-424f-a364-dbc8c9294728",
   "metadata": {
    "tags": []
   },
   "outputs": [
    {
     "data": {
      "text/html": [
       "<div>\n",
       "<style scoped>\n",
       "    .dataframe tbody tr th:only-of-type {\n",
       "        vertical-align: middle;\n",
       "    }\n",
       "\n",
       "    .dataframe tbody tr th {\n",
       "        vertical-align: top;\n",
       "    }\n",
       "\n",
       "    .dataframe thead th {\n",
       "        text-align: right;\n",
       "    }\n",
       "</style>\n",
       "<table border=\"1\" class=\"dataframe\">\n",
       "  <thead>\n",
       "    <tr style=\"text-align: right;\">\n",
       "      <th></th>\n",
       "      <th>standard_make</th>\n",
       "      <th>body_type</th>\n",
       "      <th>fuel_type</th>\n",
       "      <th>standard_model</th>\n",
       "      <th>standard_colour</th>\n",
       "      <th>year_of_registration</th>\n",
       "      <th>crossover_car_and_van</th>\n",
       "      <th>mileage</th>\n",
       "    </tr>\n",
       "  </thead>\n",
       "  <tbody>\n",
       "    <tr>\n",
       "      <th>388595</th>\n",
       "      <td>30412.052522</td>\n",
       "      <td>19564.772517</td>\n",
       "      <td>15357.001918</td>\n",
       "      <td>24212.662840</td>\n",
       "      <td>15173.977569</td>\n",
       "      <td>10797.582818</td>\n",
       "      <td>14016.207898</td>\n",
       "      <td>64000.0</td>\n",
       "    </tr>\n",
       "    <tr>\n",
       "      <th>273479</th>\n",
       "      <td>18810.570095</td>\n",
       "      <td>9727.382348</td>\n",
       "      <td>12301.686877</td>\n",
       "      <td>11484.772270</td>\n",
       "      <td>15173.977569</td>\n",
       "      <td>15110.193334</td>\n",
       "      <td>14016.207898</td>\n",
       "      <td>10467.0</td>\n",
       "    </tr>\n",
       "    <tr>\n",
       "      <th>250053</th>\n",
       "      <td>18810.570095</td>\n",
       "      <td>18359.644968</td>\n",
       "      <td>12301.686877</td>\n",
       "      <td>18208.241865</td>\n",
       "      <td>16883.522526</td>\n",
       "      <td>27254.522773</td>\n",
       "      <td>14016.207898</td>\n",
       "      <td>100.0</td>\n",
       "    </tr>\n",
       "    <tr>\n",
       "      <th>340314</th>\n",
       "      <td>7700.351239</td>\n",
       "      <td>9727.382348</td>\n",
       "      <td>15357.001918</td>\n",
       "      <td>9664.246967</td>\n",
       "      <td>16883.522526</td>\n",
       "      <td>27254.522773</td>\n",
       "      <td>14016.207898</td>\n",
       "      <td>4000.0</td>\n",
       "    </tr>\n",
       "    <tr>\n",
       "      <th>298685</th>\n",
       "      <td>8940.058871</td>\n",
       "      <td>19564.772517</td>\n",
       "      <td>12301.686877</td>\n",
       "      <td>11047.468943</td>\n",
       "      <td>16883.522526</td>\n",
       "      <td>15110.193334</td>\n",
       "      <td>14016.207898</td>\n",
       "      <td>27159.0</td>\n",
       "    </tr>\n",
       "    <tr>\n",
       "      <th>...</th>\n",
       "      <td>...</td>\n",
       "      <td>...</td>\n",
       "      <td>...</td>\n",
       "      <td>...</td>\n",
       "      <td>...</td>\n",
       "      <td>...</td>\n",
       "      <td>...</td>\n",
       "      <td>...</td>\n",
       "    </tr>\n",
       "    <tr>\n",
       "      <th>144816</th>\n",
       "      <td>6178.993708</td>\n",
       "      <td>14276.803036</td>\n",
       "      <td>12301.686877</td>\n",
       "      <td>9110.313495</td>\n",
       "      <td>13668.178389</td>\n",
       "      <td>22195.117692</td>\n",
       "      <td>14016.207898</td>\n",
       "      <td>7222.0</td>\n",
       "    </tr>\n",
       "    <tr>\n",
       "      <th>386332</th>\n",
       "      <td>17931.558631</td>\n",
       "      <td>9727.382348</td>\n",
       "      <td>15357.001918</td>\n",
       "      <td>11690.880078</td>\n",
       "      <td>14213.652594</td>\n",
       "      <td>10797.582818</td>\n",
       "      <td>14016.207898</td>\n",
       "      <td>42000.0</td>\n",
       "    </tr>\n",
       "    <tr>\n",
       "      <th>386222</th>\n",
       "      <td>10991.125979</td>\n",
       "      <td>19564.772517</td>\n",
       "      <td>16718.902199</td>\n",
       "      <td>20275.281204</td>\n",
       "      <td>16883.522526</td>\n",
       "      <td>27254.522773</td>\n",
       "      <td>14016.207898</td>\n",
       "      <td>11.0</td>\n",
       "    </tr>\n",
       "    <tr>\n",
       "      <th>1605</th>\n",
       "      <td>12400.777469</td>\n",
       "      <td>19564.772517</td>\n",
       "      <td>15357.001918</td>\n",
       "      <td>24020.790990</td>\n",
       "      <td>14589.477451</td>\n",
       "      <td>17498.861633</td>\n",
       "      <td>14016.207898</td>\n",
       "      <td>11500.0</td>\n",
       "    </tr>\n",
       "    <tr>\n",
       "      <th>80586</th>\n",
       "      <td>30412.052522</td>\n",
       "      <td>19564.772517</td>\n",
       "      <td>15357.001918</td>\n",
       "      <td>44205.911014</td>\n",
       "      <td>15173.977569</td>\n",
       "      <td>15110.193334</td>\n",
       "      <td>14016.207898</td>\n",
       "      <td>16202.0</td>\n",
       "    </tr>\n",
       "  </tbody>\n",
       "</table>\n",
       "<p>5199 rows × 8 columns</p>\n",
       "</div>"
      ],
      "text/plain": [
       "        standard_make     body_type     fuel_type  standard_model  \\\n",
       "388595   30412.052522  19564.772517  15357.001918    24212.662840   \n",
       "273479   18810.570095   9727.382348  12301.686877    11484.772270   \n",
       "250053   18810.570095  18359.644968  12301.686877    18208.241865   \n",
       "340314    7700.351239   9727.382348  15357.001918     9664.246967   \n",
       "298685    8940.058871  19564.772517  12301.686877    11047.468943   \n",
       "...               ...           ...           ...             ...   \n",
       "144816    6178.993708  14276.803036  12301.686877     9110.313495   \n",
       "386332   17931.558631   9727.382348  15357.001918    11690.880078   \n",
       "386222   10991.125979  19564.772517  16718.902199    20275.281204   \n",
       "1605     12400.777469  19564.772517  15357.001918    24020.790990   \n",
       "80586    30412.052522  19564.772517  15357.001918    44205.911014   \n",
       "\n",
       "        standard_colour  year_of_registration  crossover_car_and_van  mileage  \n",
       "388595     15173.977569          10797.582818           14016.207898  64000.0  \n",
       "273479     15173.977569          15110.193334           14016.207898  10467.0  \n",
       "250053     16883.522526          27254.522773           14016.207898    100.0  \n",
       "340314     16883.522526          27254.522773           14016.207898   4000.0  \n",
       "298685     16883.522526          15110.193334           14016.207898  27159.0  \n",
       "...                 ...                   ...                    ...      ...  \n",
       "144816     13668.178389          22195.117692           14016.207898   7222.0  \n",
       "386332     14213.652594          10797.582818           14016.207898  42000.0  \n",
       "386222     16883.522526          27254.522773           14016.207898     11.0  \n",
       "1605       14589.477451          17498.861633           14016.207898  11500.0  \n",
       "80586      15173.977569          15110.193334           14016.207898  16202.0  \n",
       "\n",
       "[5199 rows x 8 columns]"
      ]
     },
     "execution_count": 2609,
     "metadata": {},
     "output_type": "execute_result"
    }
   ],
   "source": [
    "X_train_com = pd.concat([X_train_enc, X_train[num_feat]], axis = 1) \n",
    "X_train_com"
   ]
  },
  {
   "cell_type": "code",
   "execution_count": 2610,
   "id": "6af9f9a3-3d15-47c4-bc8f-601050be5e2e",
   "metadata": {
    "tags": []
   },
   "outputs": [
    {
     "data": {
      "text/html": [
       "<div>\n",
       "<style scoped>\n",
       "    .dataframe tbody tr th:only-of-type {\n",
       "        vertical-align: middle;\n",
       "    }\n",
       "\n",
       "    .dataframe tbody tr th {\n",
       "        vertical-align: top;\n",
       "    }\n",
       "\n",
       "    .dataframe thead th {\n",
       "        text-align: right;\n",
       "    }\n",
       "</style>\n",
       "<table border=\"1\" class=\"dataframe\">\n",
       "  <thead>\n",
       "    <tr style=\"text-align: right;\">\n",
       "      <th></th>\n",
       "      <th>standard_make</th>\n",
       "      <th>body_type</th>\n",
       "      <th>fuel_type</th>\n",
       "      <th>standard_model</th>\n",
       "      <th>standard_colour</th>\n",
       "      <th>year_of_registration</th>\n",
       "      <th>crossover_car_and_van</th>\n",
       "    </tr>\n",
       "  </thead>\n",
       "  <tbody>\n",
       "    <tr>\n",
       "      <th>163162</th>\n",
       "      <td>8311.403903</td>\n",
       "      <td>9872.836049</td>\n",
       "      <td>12378.582611</td>\n",
       "      <td>5900.410827</td>\n",
       "      <td>15915.604605</td>\n",
       "      <td>4382.030816</td>\n",
       "      <td>13898.560243</td>\n",
       "    </tr>\n",
       "    <tr>\n",
       "      <th>361687</th>\n",
       "      <td>11365.513364</td>\n",
       "      <td>19008.147247</td>\n",
       "      <td>12378.582611</td>\n",
       "      <td>12761.224557</td>\n",
       "      <td>11966.210422</td>\n",
       "      <td>5622.165903</td>\n",
       "      <td>13898.560243</td>\n",
       "    </tr>\n",
       "    <tr>\n",
       "      <th>318929</th>\n",
       "      <td>11115.480218</td>\n",
       "      <td>19008.147247</td>\n",
       "      <td>14888.399667</td>\n",
       "      <td>8396.613482</td>\n",
       "      <td>15323.901768</td>\n",
       "      <td>14982.200792</td>\n",
       "      <td>13898.560243</td>\n",
       "    </tr>\n",
       "    <tr>\n",
       "      <th>285092</th>\n",
       "      <td>8109.860158</td>\n",
       "      <td>9872.836049</td>\n",
       "      <td>14888.399667</td>\n",
       "      <td>7502.905734</td>\n",
       "      <td>15915.604605</td>\n",
       "      <td>11711.901874</td>\n",
       "      <td>13898.560243</td>\n",
       "    </tr>\n",
       "    <tr>\n",
       "      <th>349870</th>\n",
       "      <td>12074.578852</td>\n",
       "      <td>19008.147247</td>\n",
       "      <td>14888.399667</td>\n",
       "      <td>14676.344778</td>\n",
       "      <td>12090.066306</td>\n",
       "      <td>10847.391508</td>\n",
       "      <td>13898.560243</td>\n",
       "    </tr>\n",
       "  </tbody>\n",
       "</table>\n",
       "</div>"
      ],
      "text/plain": [
       "        standard_make     body_type     fuel_type  standard_model  \\\n",
       "163162    8311.403903   9872.836049  12378.582611     5900.410827   \n",
       "361687   11365.513364  19008.147247  12378.582611    12761.224557   \n",
       "318929   11115.480218  19008.147247  14888.399667     8396.613482   \n",
       "285092    8109.860158   9872.836049  14888.399667     7502.905734   \n",
       "349870   12074.578852  19008.147247  14888.399667    14676.344778   \n",
       "\n",
       "        standard_colour  year_of_registration  crossover_car_and_van  \n",
       "163162     15915.604605           4382.030816           13898.560243  \n",
       "361687     11966.210422           5622.165903           13898.560243  \n",
       "318929     15323.901768          14982.200792           13898.560243  \n",
       "285092     15915.604605          11711.901874           13898.560243  \n",
       "349870     12090.066306          10847.391508           13898.560243  "
      ]
     },
     "execution_count": 2610,
     "metadata": {},
     "output_type": "execute_result"
    }
   ],
   "source": [
    "te.fit(X_test[cat_feat],y_test)\n",
    "X_test_enc = te.transform(X_test[cat_feat])\n",
    "X_test_enc.head(5)"
   ]
  },
  {
   "cell_type": "code",
   "execution_count": 2611,
   "id": "5cb018d5-2073-40e4-9736-d328eb89b388",
   "metadata": {
    "tags": []
   },
   "outputs": [
    {
     "data": {
      "text/html": [
       "<div>\n",
       "<style scoped>\n",
       "    .dataframe tbody tr th:only-of-type {\n",
       "        vertical-align: middle;\n",
       "    }\n",
       "\n",
       "    .dataframe tbody tr th {\n",
       "        vertical-align: top;\n",
       "    }\n",
       "\n",
       "    .dataframe thead th {\n",
       "        text-align: right;\n",
       "    }\n",
       "</style>\n",
       "<table border=\"1\" class=\"dataframe\">\n",
       "  <thead>\n",
       "    <tr style=\"text-align: right;\">\n",
       "      <th></th>\n",
       "      <th>standard_make</th>\n",
       "      <th>body_type</th>\n",
       "      <th>fuel_type</th>\n",
       "      <th>standard_model</th>\n",
       "      <th>standard_colour</th>\n",
       "      <th>year_of_registration</th>\n",
       "      <th>crossover_car_and_van</th>\n",
       "      <th>mileage</th>\n",
       "    </tr>\n",
       "  </thead>\n",
       "  <tbody>\n",
       "    <tr>\n",
       "      <th>163162</th>\n",
       "      <td>8311.403903</td>\n",
       "      <td>9872.836049</td>\n",
       "      <td>12378.582611</td>\n",
       "      <td>5900.410827</td>\n",
       "      <td>15915.604605</td>\n",
       "      <td>4382.030816</td>\n",
       "      <td>13898.560243</td>\n",
       "      <td>97000.0</td>\n",
       "    </tr>\n",
       "    <tr>\n",
       "      <th>361687</th>\n",
       "      <td>11365.513364</td>\n",
       "      <td>19008.147247</td>\n",
       "      <td>12378.582611</td>\n",
       "      <td>12761.224557</td>\n",
       "      <td>11966.210422</td>\n",
       "      <td>5622.165903</td>\n",
       "      <td>13898.560243</td>\n",
       "      <td>63100.0</td>\n",
       "    </tr>\n",
       "    <tr>\n",
       "      <th>318929</th>\n",
       "      <td>11115.480218</td>\n",
       "      <td>19008.147247</td>\n",
       "      <td>14888.399667</td>\n",
       "      <td>8396.613482</td>\n",
       "      <td>15323.901768</td>\n",
       "      <td>14982.200792</td>\n",
       "      <td>13898.560243</td>\n",
       "      <td>51352.0</td>\n",
       "    </tr>\n",
       "    <tr>\n",
       "      <th>285092</th>\n",
       "      <td>8109.860158</td>\n",
       "      <td>9872.836049</td>\n",
       "      <td>14888.399667</td>\n",
       "      <td>7502.905734</td>\n",
       "      <td>15915.604605</td>\n",
       "      <td>11711.901874</td>\n",
       "      <td>13898.560243</td>\n",
       "      <td>39855.0</td>\n",
       "    </tr>\n",
       "    <tr>\n",
       "      <th>349870</th>\n",
       "      <td>12074.578852</td>\n",
       "      <td>19008.147247</td>\n",
       "      <td>14888.399667</td>\n",
       "      <td>14676.344778</td>\n",
       "      <td>12090.066306</td>\n",
       "      <td>10847.391508</td>\n",
       "      <td>13898.560243</td>\n",
       "      <td>39825.0</td>\n",
       "    </tr>\n",
       "  </tbody>\n",
       "</table>\n",
       "</div>"
      ],
      "text/plain": [
       "        standard_make     body_type     fuel_type  standard_model  \\\n",
       "163162    8311.403903   9872.836049  12378.582611     5900.410827   \n",
       "361687   11365.513364  19008.147247  12378.582611    12761.224557   \n",
       "318929   11115.480218  19008.147247  14888.399667     8396.613482   \n",
       "285092    8109.860158   9872.836049  14888.399667     7502.905734   \n",
       "349870   12074.578852  19008.147247  14888.399667    14676.344778   \n",
       "\n",
       "        standard_colour  year_of_registration  crossover_car_and_van  mileage  \n",
       "163162     15915.604605           4382.030816           13898.560243  97000.0  \n",
       "361687     11966.210422           5622.165903           13898.560243  63100.0  \n",
       "318929     15323.901768          14982.200792           13898.560243  51352.0  \n",
       "285092     15915.604605          11711.901874           13898.560243  39855.0  \n",
       "349870     12090.066306          10847.391508           13898.560243  39825.0  "
      ]
     },
     "execution_count": 2611,
     "metadata": {},
     "output_type": "execute_result"
    }
   ],
   "source": [
    "X_test_com =  pd.concat([X_test_enc, X_test[num_feat]], axis = 1) \n",
    "X_test_com.head()"
   ]
  },
  {
   "cell_type": "code",
   "execution_count": 2612,
   "id": "7b633a0d-d8b7-4e06-be07-34c65e39c4b9",
   "metadata": {
    "tags": []
   },
   "outputs": [
    {
     "data": {
      "text/html": [
       "<div>\n",
       "<style scoped>\n",
       "    .dataframe tbody tr th:only-of-type {\n",
       "        vertical-align: middle;\n",
       "    }\n",
       "\n",
       "    .dataframe tbody tr th {\n",
       "        vertical-align: top;\n",
       "    }\n",
       "\n",
       "    .dataframe thead th {\n",
       "        text-align: right;\n",
       "    }\n",
       "</style>\n",
       "<table border=\"1\" class=\"dataframe\">\n",
       "  <thead>\n",
       "    <tr style=\"text-align: right;\">\n",
       "      <th></th>\n",
       "      <th>standard_make</th>\n",
       "      <th>body_type</th>\n",
       "      <th>fuel_type</th>\n",
       "      <th>standard_model</th>\n",
       "      <th>standard_colour</th>\n",
       "      <th>year_of_registration</th>\n",
       "      <th>crossover_car_and_van</th>\n",
       "      <th>mileage</th>\n",
       "    </tr>\n",
       "  </thead>\n",
       "  <tbody>\n",
       "    <tr>\n",
       "      <th>388595</th>\n",
       "      <td>1.000000</td>\n",
       "      <td>0.184661</td>\n",
       "      <td>0.395119</td>\n",
       "      <td>0.202785</td>\n",
       "      <td>0.855055</td>\n",
       "      <td>0.351484</td>\n",
       "      <td>0.0</td>\n",
       "      <td>0.164948</td>\n",
       "    </tr>\n",
       "    <tr>\n",
       "      <th>273479</th>\n",
       "      <td>0.521254</td>\n",
       "      <td>0.000000</td>\n",
       "      <td>0.312783</td>\n",
       "      <td>0.093423</td>\n",
       "      <td>0.855055</td>\n",
       "      <td>0.521430</td>\n",
       "      <td>0.0</td>\n",
       "      <td>0.026977</td>\n",
       "    </tr>\n",
       "    <tr>\n",
       "      <th>250053</th>\n",
       "      <td>0.521254</td>\n",
       "      <td>0.162039</td>\n",
       "      <td>0.312783</td>\n",
       "      <td>0.151193</td>\n",
       "      <td>0.993980</td>\n",
       "      <td>1.000000</td>\n",
       "      <td>0.0</td>\n",
       "      <td>0.000258</td>\n",
       "    </tr>\n",
       "    <tr>\n",
       "      <th>340314</th>\n",
       "      <td>0.062780</td>\n",
       "      <td>0.000000</td>\n",
       "      <td>0.395119</td>\n",
       "      <td>0.077780</td>\n",
       "      <td>0.993980</td>\n",
       "      <td>1.000000</td>\n",
       "      <td>0.0</td>\n",
       "      <td>0.010309</td>\n",
       "    </tr>\n",
       "    <tr>\n",
       "      <th>298685</th>\n",
       "      <td>0.113938</td>\n",
       "      <td>0.184661</td>\n",
       "      <td>0.312783</td>\n",
       "      <td>0.089665</td>\n",
       "      <td>0.993980</td>\n",
       "      <td>0.521430</td>\n",
       "      <td>0.0</td>\n",
       "      <td>0.069997</td>\n",
       "    </tr>\n",
       "    <tr>\n",
       "      <th>...</th>\n",
       "      <td>...</td>\n",
       "      <td>...</td>\n",
       "      <td>...</td>\n",
       "      <td>...</td>\n",
       "      <td>...</td>\n",
       "      <td>...</td>\n",
       "      <td>...</td>\n",
       "      <td>...</td>\n",
       "    </tr>\n",
       "    <tr>\n",
       "      <th>144816</th>\n",
       "      <td>0.000000</td>\n",
       "      <td>0.085399</td>\n",
       "      <td>0.312783</td>\n",
       "      <td>0.073020</td>\n",
       "      <td>0.732687</td>\n",
       "      <td>0.800625</td>\n",
       "      <td>0.0</td>\n",
       "      <td>0.018613</td>\n",
       "    </tr>\n",
       "    <tr>\n",
       "      <th>386332</th>\n",
       "      <td>0.484981</td>\n",
       "      <td>0.000000</td>\n",
       "      <td>0.395119</td>\n",
       "      <td>0.095194</td>\n",
       "      <td>0.777015</td>\n",
       "      <td>0.351484</td>\n",
       "      <td>0.0</td>\n",
       "      <td>0.108247</td>\n",
       "    </tr>\n",
       "    <tr>\n",
       "      <th>386222</th>\n",
       "      <td>0.198577</td>\n",
       "      <td>0.184661</td>\n",
       "      <td>0.431820</td>\n",
       "      <td>0.168953</td>\n",
       "      <td>0.993980</td>\n",
       "      <td>1.000000</td>\n",
       "      <td>0.0</td>\n",
       "      <td>0.000028</td>\n",
       "    </tr>\n",
       "    <tr>\n",
       "      <th>1605</th>\n",
       "      <td>0.256748</td>\n",
       "      <td>0.184661</td>\n",
       "      <td>0.395119</td>\n",
       "      <td>0.201136</td>\n",
       "      <td>0.807556</td>\n",
       "      <td>0.615560</td>\n",
       "      <td>0.0</td>\n",
       "      <td>0.029639</td>\n",
       "    </tr>\n",
       "    <tr>\n",
       "      <th>80586</th>\n",
       "      <td>1.000000</td>\n",
       "      <td>0.184661</td>\n",
       "      <td>0.395119</td>\n",
       "      <td>0.374573</td>\n",
       "      <td>0.855055</td>\n",
       "      <td>0.521430</td>\n",
       "      <td>0.0</td>\n",
       "      <td>0.041758</td>\n",
       "    </tr>\n",
       "  </tbody>\n",
       "</table>\n",
       "<p>5199 rows × 8 columns</p>\n",
       "</div>"
      ],
      "text/plain": [
       "        standard_make  body_type  fuel_type  standard_model  standard_colour  \\\n",
       "388595       1.000000   0.184661   0.395119        0.202785         0.855055   \n",
       "273479       0.521254   0.000000   0.312783        0.093423         0.855055   \n",
       "250053       0.521254   0.162039   0.312783        0.151193         0.993980   \n",
       "340314       0.062780   0.000000   0.395119        0.077780         0.993980   \n",
       "298685       0.113938   0.184661   0.312783        0.089665         0.993980   \n",
       "...               ...        ...        ...             ...              ...   \n",
       "144816       0.000000   0.085399   0.312783        0.073020         0.732687   \n",
       "386332       0.484981   0.000000   0.395119        0.095194         0.777015   \n",
       "386222       0.198577   0.184661   0.431820        0.168953         0.993980   \n",
       "1605         0.256748   0.184661   0.395119        0.201136         0.807556   \n",
       "80586        1.000000   0.184661   0.395119        0.374573         0.855055   \n",
       "\n",
       "        year_of_registration  crossover_car_and_van   mileage  \n",
       "388595              0.351484                    0.0  0.164948  \n",
       "273479              0.521430                    0.0  0.026977  \n",
       "250053              1.000000                    0.0  0.000258  \n",
       "340314              1.000000                    0.0  0.010309  \n",
       "298685              0.521430                    0.0  0.069997  \n",
       "...                      ...                    ...       ...  \n",
       "144816              0.800625                    0.0  0.018613  \n",
       "386332              0.351484                    0.0  0.108247  \n",
       "386222              1.000000                    0.0  0.000028  \n",
       "1605                0.615560                    0.0  0.029639  \n",
       "80586               0.521430                    0.0  0.041758  \n",
       "\n",
       "[5199 rows x 8 columns]"
      ]
     },
     "execution_count": 2612,
     "metadata": {},
     "output_type": "execute_result"
    }
   ],
   "source": [
    "scaler = MinMaxScaler().set_output(transform='pandas')\n",
    "X_train_scaled = scaler.fit_transform(X_train_com)\n",
    "X_train_scaled"
   ]
  },
  {
   "cell_type": "code",
   "execution_count": 2613,
   "id": "24c12c25-1610-4ab6-a5ef-8d77a0d49404",
   "metadata": {
    "tags": []
   },
   "outputs": [
    {
     "data": {
      "text/html": [
       "<div>\n",
       "<style scoped>\n",
       "    .dataframe tbody tr th:only-of-type {\n",
       "        vertical-align: middle;\n",
       "    }\n",
       "\n",
       "    .dataframe tbody tr th {\n",
       "        vertical-align: top;\n",
       "    }\n",
       "\n",
       "    .dataframe thead th {\n",
       "        text-align: right;\n",
       "    }\n",
       "</style>\n",
       "<table border=\"1\" class=\"dataframe\">\n",
       "  <thead>\n",
       "    <tr style=\"text-align: right;\">\n",
       "      <th></th>\n",
       "      <th>standard_make</th>\n",
       "      <th>body_type</th>\n",
       "      <th>fuel_type</th>\n",
       "      <th>standard_model</th>\n",
       "      <th>standard_colour</th>\n",
       "      <th>year_of_registration</th>\n",
       "      <th>crossover_car_and_van</th>\n",
       "      <th>mileage</th>\n",
       "    </tr>\n",
       "  </thead>\n",
       "  <tbody>\n",
       "    <tr>\n",
       "      <th>163162</th>\n",
       "      <td>0.141595</td>\n",
       "      <td>0.206532</td>\n",
       "      <td>0.000000</td>\n",
       "      <td>0.046736</td>\n",
       "      <td>0.819220</td>\n",
       "      <td>0.113486</td>\n",
       "      <td>0.0</td>\n",
       "      <td>0.444750</td>\n",
       "    </tr>\n",
       "    <tr>\n",
       "      <th>361687</th>\n",
       "      <td>0.292314</td>\n",
       "      <td>1.000000</td>\n",
       "      <td>0.000000</td>\n",
       "      <td>0.110796</td>\n",
       "      <td>0.594859</td>\n",
       "      <td>0.157753</td>\n",
       "      <td>0.0</td>\n",
       "      <td>0.289317</td>\n",
       "    </tr>\n",
       "    <tr>\n",
       "      <th>318929</th>\n",
       "      <td>0.279975</td>\n",
       "      <td>1.000000</td>\n",
       "      <td>0.067684</td>\n",
       "      <td>0.070043</td>\n",
       "      <td>0.785606</td>\n",
       "      <td>0.491869</td>\n",
       "      <td>0.0</td>\n",
       "      <td>0.235452</td>\n",
       "    </tr>\n",
       "    <tr>\n",
       "      <th>285092</th>\n",
       "      <td>0.131649</td>\n",
       "      <td>0.206532</td>\n",
       "      <td>0.067684</td>\n",
       "      <td>0.061698</td>\n",
       "      <td>0.819220</td>\n",
       "      <td>0.375132</td>\n",
       "      <td>0.0</td>\n",
       "      <td>0.182737</td>\n",
       "    </tr>\n",
       "    <tr>\n",
       "      <th>349870</th>\n",
       "      <td>0.327307</td>\n",
       "      <td>1.000000</td>\n",
       "      <td>0.067684</td>\n",
       "      <td>0.128677</td>\n",
       "      <td>0.601895</td>\n",
       "      <td>0.344273</td>\n",
       "      <td>0.0</td>\n",
       "      <td>0.182600</td>\n",
       "    </tr>\n",
       "    <tr>\n",
       "      <th>...</th>\n",
       "      <td>...</td>\n",
       "      <td>...</td>\n",
       "      <td>...</td>\n",
       "      <td>...</td>\n",
       "      <td>...</td>\n",
       "      <td>...</td>\n",
       "      <td>...</td>\n",
       "      <td>...</td>\n",
       "    </tr>\n",
       "    <tr>\n",
       "      <th>202459</th>\n",
       "      <td>0.327307</td>\n",
       "      <td>0.206532</td>\n",
       "      <td>0.067684</td>\n",
       "      <td>0.071445</td>\n",
       "      <td>0.594859</td>\n",
       "      <td>0.597297</td>\n",
       "      <td>0.0</td>\n",
       "      <td>0.179413</td>\n",
       "    </tr>\n",
       "    <tr>\n",
       "      <th>28526</th>\n",
       "      <td>0.292314</td>\n",
       "      <td>0.206532</td>\n",
       "      <td>0.000000</td>\n",
       "      <td>0.091500</td>\n",
       "      <td>0.686342</td>\n",
       "      <td>0.143499</td>\n",
       "      <td>0.0</td>\n",
       "      <td>0.545621</td>\n",
       "    </tr>\n",
       "    <tr>\n",
       "      <th>159623</th>\n",
       "      <td>0.760799</td>\n",
       "      <td>0.456185</td>\n",
       "      <td>0.067684</td>\n",
       "      <td>0.015730</td>\n",
       "      <td>0.601895</td>\n",
       "      <td>0.157753</td>\n",
       "      <td>0.0</td>\n",
       "      <td>0.687758</td>\n",
       "    </tr>\n",
       "    <tr>\n",
       "      <th>169402</th>\n",
       "      <td>0.177178</td>\n",
       "      <td>0.322354</td>\n",
       "      <td>0.067684</td>\n",
       "      <td>0.014043</td>\n",
       "      <td>0.594859</td>\n",
       "      <td>0.115042</td>\n",
       "      <td>0.0</td>\n",
       "      <td>0.505589</td>\n",
       "    </tr>\n",
       "    <tr>\n",
       "      <th>157847</th>\n",
       "      <td>0.372609</td>\n",
       "      <td>0.206532</td>\n",
       "      <td>0.000000</td>\n",
       "      <td>0.084160</td>\n",
       "      <td>0.672580</td>\n",
       "      <td>0.491869</td>\n",
       "      <td>0.0</td>\n",
       "      <td>0.051421</td>\n",
       "    </tr>\n",
       "  </tbody>\n",
       "</table>\n",
       "<p>1300 rows × 8 columns</p>\n",
       "</div>"
      ],
      "text/plain": [
       "        standard_make  body_type  fuel_type  standard_model  standard_colour  \\\n",
       "163162       0.141595   0.206532   0.000000        0.046736         0.819220   \n",
       "361687       0.292314   1.000000   0.000000        0.110796         0.594859   \n",
       "318929       0.279975   1.000000   0.067684        0.070043         0.785606   \n",
       "285092       0.131649   0.206532   0.067684        0.061698         0.819220   \n",
       "349870       0.327307   1.000000   0.067684        0.128677         0.601895   \n",
       "...               ...        ...        ...             ...              ...   \n",
       "202459       0.327307   0.206532   0.067684        0.071445         0.594859   \n",
       "28526        0.292314   0.206532   0.000000        0.091500         0.686342   \n",
       "159623       0.760799   0.456185   0.067684        0.015730         0.601895   \n",
       "169402       0.177178   0.322354   0.067684        0.014043         0.594859   \n",
       "157847       0.372609   0.206532   0.000000        0.084160         0.672580   \n",
       "\n",
       "        year_of_registration  crossover_car_and_van   mileage  \n",
       "163162              0.113486                    0.0  0.444750  \n",
       "361687              0.157753                    0.0  0.289317  \n",
       "318929              0.491869                    0.0  0.235452  \n",
       "285092              0.375132                    0.0  0.182737  \n",
       "349870              0.344273                    0.0  0.182600  \n",
       "...                      ...                    ...       ...  \n",
       "202459              0.597297                    0.0  0.179413  \n",
       "28526               0.143499                    0.0  0.545621  \n",
       "159623              0.157753                    0.0  0.687758  \n",
       "169402              0.115042                    0.0  0.505589  \n",
       "157847              0.491869                    0.0  0.051421  \n",
       "\n",
       "[1300 rows x 8 columns]"
      ]
     },
     "execution_count": 2613,
     "metadata": {},
     "output_type": "execute_result"
    }
   ],
   "source": [
    "scaler = MinMaxScaler().set_output(transform='pandas')\n",
    "X_test_scaled = scaler.fit_transform(X_test_com)\n",
    "X_test_scaled"
   ]
  },
  {
   "cell_type": "markdown",
   "id": "f3b28d48-88ea-41d1-b8b3-2218f3941bc2",
   "metadata": {},
   "source": [
    "Model Building"
   ]
  },
  {
   "cell_type": "code",
   "execution_count": 2614,
   "id": "8876d6b2-0440-4f64-86e9-d11017f2fa2a",
   "metadata": {
    "tags": []
   },
   "outputs": [
    {
     "data": {
      "text/html": [
       "<style>#sk-container-id-117 {color: black;}#sk-container-id-117 pre{padding: 0;}#sk-container-id-117 div.sk-toggleable {background-color: white;}#sk-container-id-117 label.sk-toggleable__label {cursor: pointer;display: block;width: 100%;margin-bottom: 0;padding: 0.3em;box-sizing: border-box;text-align: center;}#sk-container-id-117 label.sk-toggleable__label-arrow:before {content: \"▸\";float: left;margin-right: 0.25em;color: #696969;}#sk-container-id-117 label.sk-toggleable__label-arrow:hover:before {color: black;}#sk-container-id-117 div.sk-estimator:hover label.sk-toggleable__label-arrow:before {color: black;}#sk-container-id-117 div.sk-toggleable__content {max-height: 0;max-width: 0;overflow: hidden;text-align: left;background-color: #f0f8ff;}#sk-container-id-117 div.sk-toggleable__content pre {margin: 0.2em;color: black;border-radius: 0.25em;background-color: #f0f8ff;}#sk-container-id-117 input.sk-toggleable__control:checked~div.sk-toggleable__content {max-height: 200px;max-width: 100%;overflow: auto;}#sk-container-id-117 input.sk-toggleable__control:checked~label.sk-toggleable__label-arrow:before {content: \"▾\";}#sk-container-id-117 div.sk-estimator input.sk-toggleable__control:checked~label.sk-toggleable__label {background-color: #d4ebff;}#sk-container-id-117 div.sk-label input.sk-toggleable__control:checked~label.sk-toggleable__label {background-color: #d4ebff;}#sk-container-id-117 input.sk-hidden--visually {border: 0;clip: rect(1px 1px 1px 1px);clip: rect(1px, 1px, 1px, 1px);height: 1px;margin: -1px;overflow: hidden;padding: 0;position: absolute;width: 1px;}#sk-container-id-117 div.sk-estimator {font-family: monospace;background-color: #f0f8ff;border: 1px dotted black;border-radius: 0.25em;box-sizing: border-box;margin-bottom: 0.5em;}#sk-container-id-117 div.sk-estimator:hover {background-color: #d4ebff;}#sk-container-id-117 div.sk-parallel-item::after {content: \"\";width: 100%;border-bottom: 1px solid gray;flex-grow: 1;}#sk-container-id-117 div.sk-label:hover label.sk-toggleable__label {background-color: #d4ebff;}#sk-container-id-117 div.sk-serial::before {content: \"\";position: absolute;border-left: 1px solid gray;box-sizing: border-box;top: 0;bottom: 0;left: 50%;z-index: 0;}#sk-container-id-117 div.sk-serial {display: flex;flex-direction: column;align-items: center;background-color: white;padding-right: 0.2em;padding-left: 0.2em;position: relative;}#sk-container-id-117 div.sk-item {position: relative;z-index: 1;}#sk-container-id-117 div.sk-parallel {display: flex;align-items: stretch;justify-content: center;background-color: white;position: relative;}#sk-container-id-117 div.sk-item::before, #sk-container-id-117 div.sk-parallel-item::before {content: \"\";position: absolute;border-left: 1px solid gray;box-sizing: border-box;top: 0;bottom: 0;left: 50%;z-index: -1;}#sk-container-id-117 div.sk-parallel-item {display: flex;flex-direction: column;z-index: 1;position: relative;background-color: white;}#sk-container-id-117 div.sk-parallel-item:first-child::after {align-self: flex-end;width: 50%;}#sk-container-id-117 div.sk-parallel-item:last-child::after {align-self: flex-start;width: 50%;}#sk-container-id-117 div.sk-parallel-item:only-child::after {width: 0;}#sk-container-id-117 div.sk-dashed-wrapped {border: 1px dashed gray;margin: 0 0.4em 0.5em 0.4em;box-sizing: border-box;padding-bottom: 0.4em;background-color: white;}#sk-container-id-117 div.sk-label label {font-family: monospace;font-weight: bold;display: inline-block;line-height: 1.2em;}#sk-container-id-117 div.sk-label-container {text-align: center;}#sk-container-id-117 div.sk-container {/* jupyter's `normalize.less` sets `[hidden] { display: none; }` but bootstrap.min.css set `[hidden] { display: none !important; }` so we also need the `!important` here to be able to override the default hidden behavior on the sphinx rendered scikit-learn.org. See: https://github.com/scikit-learn/scikit-learn/issues/21755 */display: inline-block !important;position: relative;}#sk-container-id-117 div.sk-text-repr-fallback {display: none;}</style><div id=\"sk-container-id-117\" class=\"sk-top-container\"><div class=\"sk-text-repr-fallback\"><pre>KNeighborsRegressor()</pre><b>In a Jupyter environment, please rerun this cell to show the HTML representation or trust the notebook. <br />On GitHub, the HTML representation is unable to render, please try loading this page with nbviewer.org.</b></div><div class=\"sk-container\" hidden><div class=\"sk-item\"><div class=\"sk-estimator sk-toggleable\"><input class=\"sk-toggleable__control sk-hidden--visually\" id=\"sk-estimator-id-117\" type=\"checkbox\" checked><label for=\"sk-estimator-id-117\" class=\"sk-toggleable__label sk-toggleable__label-arrow\">KNeighborsRegressor</label><div class=\"sk-toggleable__content\"><pre>KNeighborsRegressor()</pre></div></div></div></div></div>"
      ],
      "text/plain": [
       "KNeighborsRegressor()"
      ]
     },
     "execution_count": 2614,
     "metadata": {},
     "output_type": "execute_result"
    }
   ],
   "source": [
    "knnr = KNeighborsRegressor()\n",
    "knnr.fit(X_train_scaled, y_train)"
   ]
  },
  {
   "cell_type": "code",
   "execution_count": 2615,
   "id": "80af703f-49d1-42b8-ac39-c3ba429049d8",
   "metadata": {
    "tags": []
   },
   "outputs": [],
   "source": [
    "y_pred = knnr.predict(X_test_scaled)"
   ]
  },
  {
   "cell_type": "code",
   "execution_count": 2616,
   "id": "b1178ce8-8e77-48fd-b98e-4e7a936078b7",
   "metadata": {
    "tags": []
   },
   "outputs": [
    {
     "data": {
      "text/plain": [
       "array([ 1195,  5995, 13285,  5995, 10273], dtype=int64)"
      ]
     },
     "execution_count": 2616,
     "metadata": {},
     "output_type": "execute_result"
    }
   ],
   "source": [
    "y_test.head(5).to_numpy()"
   ]
  },
  {
   "cell_type": "code",
   "execution_count": 2617,
   "id": "98237d54-1a87-422b-856f-44eac18f80d1",
   "metadata": {
    "tags": []
   },
   "outputs": [
    {
     "data": {
      "text/plain": [
       "array([ 2871.8,  5353. , 12156.8,  8727.8,  8644.8])"
      ]
     },
     "execution_count": 2617,
     "metadata": {},
     "output_type": "execute_result"
    }
   ],
   "source": [
    "y_pred[:5]"
   ]
  },
  {
   "cell_type": "code",
   "execution_count": 2618,
   "id": "7b2588bf-960b-4a31-98af-bec9b9a65291",
   "metadata": {
    "tags": []
   },
   "outputs": [
    {
     "data": {
      "text/plain": [
       "(0.8746899054940985, 0.5879009561443905)"
      ]
     },
     "execution_count": 2618,
     "metadata": {},
     "output_type": "execute_result"
    }
   ],
   "source": [
    "knnr.score(X_train_scaled, y_train), knnr.score(X_test_scaled, y_test)"
   ]
  },
  {
   "cell_type": "code",
   "execution_count": 2619,
   "id": "aaee4d22-d873-413c-b8cf-23e5934e3940",
   "metadata": {
    "tags": []
   },
   "outputs": [],
   "source": [
    "from sklearn.metrics import mean_absolute_error"
   ]
  },
  {
   "cell_type": "code",
   "execution_count": 2620,
   "id": "fa0e8e2e-56b5-4037-a6ba-ac7ba4d08b5b",
   "metadata": {
    "tags": []
   },
   "outputs": [
    {
     "data": {
      "text/plain": [
       "2178.2024235429885"
      ]
     },
     "execution_count": 2620,
     "metadata": {},
     "output_type": "execute_result"
    }
   ],
   "source": [
    "mean_absolute_error(y_train, knnr.predict(X_train_scaled))"
   ]
  },
  {
   "cell_type": "code",
   "execution_count": 2621,
   "id": "3dd7d1f4-a917-44be-86fd-e719d9c006d1",
   "metadata": {
    "tags": []
   },
   "outputs": [
    {
     "data": {
      "text/plain": [
       "4242.544153846155"
      ]
     },
     "execution_count": 2621,
     "metadata": {},
     "output_type": "execute_result"
    }
   ],
   "source": [
    "mean_absolute_error(y_test, knnr.predict(X_test_scaled))"
   ]
  },
  {
   "cell_type": "code",
   "execution_count": 2622,
   "id": "e2ea0bb9-feda-47f3-a000-5f701b51544d",
   "metadata": {
    "tags": []
   },
   "outputs": [],
   "source": [
    "param_grid = {\n",
    "    'n_neighbors': list(range(1, 21))\n",
    "}"
   ]
  },
  {
   "cell_type": "code",
   "execution_count": 2623,
   "id": "b15593ad-edbd-47aa-8c07-0c98227fccea",
   "metadata": {
    "tags": []
   },
   "outputs": [],
   "source": [
    "from sklearn.model_selection import ParameterGrid"
   ]
  },
  {
   "cell_type": "code",
   "execution_count": 2624,
   "id": "10388741-bfbb-4843-9a45-5cc1c86b7416",
   "metadata": {
    "tags": []
   },
   "outputs": [
    {
     "data": {
      "text/plain": [
       "[{'n_neighbors': 1},\n",
       " {'n_neighbors': 2},\n",
       " {'n_neighbors': 3},\n",
       " {'n_neighbors': 4},\n",
       " {'n_neighbors': 5},\n",
       " {'n_neighbors': 6},\n",
       " {'n_neighbors': 7},\n",
       " {'n_neighbors': 8},\n",
       " {'n_neighbors': 9},\n",
       " {'n_neighbors': 10},\n",
       " {'n_neighbors': 11},\n",
       " {'n_neighbors': 12},\n",
       " {'n_neighbors': 13},\n",
       " {'n_neighbors': 14},\n",
       " {'n_neighbors': 15},\n",
       " {'n_neighbors': 16},\n",
       " {'n_neighbors': 17},\n",
       " {'n_neighbors': 18},\n",
       " {'n_neighbors': 19},\n",
       " {'n_neighbors': 20}]"
      ]
     },
     "execution_count": 2624,
     "metadata": {},
     "output_type": "execute_result"
    }
   ],
   "source": [
    "list(ParameterGrid(param_grid))"
   ]
  },
  {
   "cell_type": "code",
   "execution_count": 2625,
   "id": "7c8ffc4e-b113-4716-8850-4ab67a6164f3",
   "metadata": {
    "tags": []
   },
   "outputs": [],
   "source": [
    "from sklearn.model_selection import GridSearchCV"
   ]
  },
  {
   "cell_type": "code",
   "execution_count": 2671,
   "id": "bb921906-0c8b-4f62-9898-f2df24f5089a",
   "metadata": {
    "tags": []
   },
   "outputs": [],
   "source": [
    "clf_knnr = GridSearchCV(knnr, param_grid, cv=5, return_train_score=True)\n",
    "gs_results_knnr = clf_knnr.fit(X_train_scaled, y_train)\n",
    "gs_df_knnr = pd.DataFrame(gs_results_knnr.cv_results_)"
   ]
  },
  {
   "cell_type": "code",
   "execution_count": 2672,
   "id": "e373b481-a1e7-423a-a790-39245e7e99b8",
   "metadata": {
    "tags": []
   },
   "outputs": [
    {
     "data": {
      "text/plain": [
       "Index(['mean_fit_time', 'std_fit_time', 'mean_score_time', 'std_score_time',\n",
       "       'param_n_neighbors', 'params', 'split0_test_score', 'split1_test_score',\n",
       "       'split2_test_score', 'split3_test_score', 'split4_test_score',\n",
       "       'mean_test_score', 'std_test_score', 'rank_test_score',\n",
       "       'split0_train_score', 'split1_train_score', 'split2_train_score',\n",
       "       'split3_train_score', 'split4_train_score', 'mean_train_score',\n",
       "       'std_train_score'],\n",
       "      dtype='object')"
      ]
     },
     "execution_count": 2672,
     "metadata": {},
     "output_type": "execute_result"
    }
   ],
   "source": [
    "gs_df_knnr.keys()"
   ]
  },
  {
   "cell_type": "code",
   "execution_count": 2673,
   "id": "50788b1c-06cf-4a99-9fa5-399c41dda667",
   "metadata": {
    "tags": []
   },
   "outputs": [
    {
     "data": {
      "text/html": [
       "<div>\n",
       "<style scoped>\n",
       "    .dataframe tbody tr th:only-of-type {\n",
       "        vertical-align: middle;\n",
       "    }\n",
       "\n",
       "    .dataframe tbody tr th {\n",
       "        vertical-align: top;\n",
       "    }\n",
       "\n",
       "    .dataframe thead th {\n",
       "        text-align: right;\n",
       "    }\n",
       "</style>\n",
       "<table border=\"1\" class=\"dataframe\">\n",
       "  <thead>\n",
       "    <tr style=\"text-align: right;\">\n",
       "      <th></th>\n",
       "      <th>param_n_neighbors</th>\n",
       "      <th>mean_train_score</th>\n",
       "      <th>std_train_score</th>\n",
       "      <th>mean_test_score</th>\n",
       "      <th>std_test_score</th>\n",
       "      <th>rank_test_score</th>\n",
       "    </tr>\n",
       "  </thead>\n",
       "  <tbody>\n",
       "    <tr>\n",
       "      <th>4</th>\n",
       "      <td>5</td>\n",
       "      <td>0.868688</td>\n",
       "      <td>0.005323</td>\n",
       "      <td>0.797149</td>\n",
       "      <td>0.007236</td>\n",
       "      <td>1</td>\n",
       "    </tr>\n",
       "    <tr>\n",
       "      <th>3</th>\n",
       "      <td>4</td>\n",
       "      <td>0.883264</td>\n",
       "      <td>0.004660</td>\n",
       "      <td>0.797143</td>\n",
       "      <td>0.008791</td>\n",
       "      <td>2</td>\n",
       "    </tr>\n",
       "    <tr>\n",
       "      <th>5</th>\n",
       "      <td>6</td>\n",
       "      <td>0.858194</td>\n",
       "      <td>0.003816</td>\n",
       "      <td>0.795026</td>\n",
       "      <td>0.010746</td>\n",
       "      <td>3</td>\n",
       "    </tr>\n",
       "    <tr>\n",
       "      <th>6</th>\n",
       "      <td>7</td>\n",
       "      <td>0.848617</td>\n",
       "      <td>0.004199</td>\n",
       "      <td>0.789880</td>\n",
       "      <td>0.013454</td>\n",
       "      <td>4</td>\n",
       "    </tr>\n",
       "    <tr>\n",
       "      <th>2</th>\n",
       "      <td>3</td>\n",
       "      <td>0.901540</td>\n",
       "      <td>0.005369</td>\n",
       "      <td>0.789081</td>\n",
       "      <td>0.008847</td>\n",
       "      <td>5</td>\n",
       "    </tr>\n",
       "  </tbody>\n",
       "</table>\n",
       "</div>"
      ],
      "text/plain": [
       "  param_n_neighbors  mean_train_score  std_train_score  mean_test_score  \\\n",
       "4                 5          0.868688         0.005323         0.797149   \n",
       "3                 4          0.883264         0.004660         0.797143   \n",
       "5                 6          0.858194         0.003816         0.795026   \n",
       "6                 7          0.848617         0.004199         0.789880   \n",
       "2                 3          0.901540         0.005369         0.789081   \n",
       "\n",
       "   std_test_score  rank_test_score  \n",
       "4        0.007236                1  \n",
       "3        0.008791                2  \n",
       "5        0.010746                3  \n",
       "6        0.013454                4  \n",
       "2        0.008847                5  "
      ]
     },
     "execution_count": 2673,
     "metadata": {},
     "output_type": "execute_result"
    }
   ],
   "source": [
    "gs_df_knnr[[\n",
    "    'param_n_neighbors', 'mean_train_score', 'std_train_score',\n",
    "    'mean_test_score', 'std_test_score', 'rank_test_score'\n",
    "]].sort_values('rank_test_score').head()"
   ]
  },
  {
   "cell_type": "code",
   "execution_count": 2674,
   "id": "37d4b719-af1b-4834-90c0-f10912e1327d",
   "metadata": {
    "tags": []
   },
   "outputs": [
    {
     "data": {
      "text/plain": [
       "{'n_neighbors': 5}"
      ]
     },
     "execution_count": 2674,
     "metadata": {},
     "output_type": "execute_result"
    }
   ],
   "source": [
    "gs_results_knnr.best_params_"
   ]
  },
  {
   "cell_type": "code",
   "execution_count": 2679,
   "id": "0815ae77-5ef7-4619-929c-97becece1771",
   "metadata": {
    "tags": []
   },
   "outputs": [
    {
     "data": {
      "text/html": [
       "<style>#sk-container-id-124 {color: black;}#sk-container-id-124 pre{padding: 0;}#sk-container-id-124 div.sk-toggleable {background-color: white;}#sk-container-id-124 label.sk-toggleable__label {cursor: pointer;display: block;width: 100%;margin-bottom: 0;padding: 0.3em;box-sizing: border-box;text-align: center;}#sk-container-id-124 label.sk-toggleable__label-arrow:before {content: \"▸\";float: left;margin-right: 0.25em;color: #696969;}#sk-container-id-124 label.sk-toggleable__label-arrow:hover:before {color: black;}#sk-container-id-124 div.sk-estimator:hover label.sk-toggleable__label-arrow:before {color: black;}#sk-container-id-124 div.sk-toggleable__content {max-height: 0;max-width: 0;overflow: hidden;text-align: left;background-color: #f0f8ff;}#sk-container-id-124 div.sk-toggleable__content pre {margin: 0.2em;color: black;border-radius: 0.25em;background-color: #f0f8ff;}#sk-container-id-124 input.sk-toggleable__control:checked~div.sk-toggleable__content {max-height: 200px;max-width: 100%;overflow: auto;}#sk-container-id-124 input.sk-toggleable__control:checked~label.sk-toggleable__label-arrow:before {content: \"▾\";}#sk-container-id-124 div.sk-estimator input.sk-toggleable__control:checked~label.sk-toggleable__label {background-color: #d4ebff;}#sk-container-id-124 div.sk-label input.sk-toggleable__control:checked~label.sk-toggleable__label {background-color: #d4ebff;}#sk-container-id-124 input.sk-hidden--visually {border: 0;clip: rect(1px 1px 1px 1px);clip: rect(1px, 1px, 1px, 1px);height: 1px;margin: -1px;overflow: hidden;padding: 0;position: absolute;width: 1px;}#sk-container-id-124 div.sk-estimator {font-family: monospace;background-color: #f0f8ff;border: 1px dotted black;border-radius: 0.25em;box-sizing: border-box;margin-bottom: 0.5em;}#sk-container-id-124 div.sk-estimator:hover {background-color: #d4ebff;}#sk-container-id-124 div.sk-parallel-item::after {content: \"\";width: 100%;border-bottom: 1px solid gray;flex-grow: 1;}#sk-container-id-124 div.sk-label:hover label.sk-toggleable__label {background-color: #d4ebff;}#sk-container-id-124 div.sk-serial::before {content: \"\";position: absolute;border-left: 1px solid gray;box-sizing: border-box;top: 0;bottom: 0;left: 50%;z-index: 0;}#sk-container-id-124 div.sk-serial {display: flex;flex-direction: column;align-items: center;background-color: white;padding-right: 0.2em;padding-left: 0.2em;position: relative;}#sk-container-id-124 div.sk-item {position: relative;z-index: 1;}#sk-container-id-124 div.sk-parallel {display: flex;align-items: stretch;justify-content: center;background-color: white;position: relative;}#sk-container-id-124 div.sk-item::before, #sk-container-id-124 div.sk-parallel-item::before {content: \"\";position: absolute;border-left: 1px solid gray;box-sizing: border-box;top: 0;bottom: 0;left: 50%;z-index: -1;}#sk-container-id-124 div.sk-parallel-item {display: flex;flex-direction: column;z-index: 1;position: relative;background-color: white;}#sk-container-id-124 div.sk-parallel-item:first-child::after {align-self: flex-end;width: 50%;}#sk-container-id-124 div.sk-parallel-item:last-child::after {align-self: flex-start;width: 50%;}#sk-container-id-124 div.sk-parallel-item:only-child::after {width: 0;}#sk-container-id-124 div.sk-dashed-wrapped {border: 1px dashed gray;margin: 0 0.4em 0.5em 0.4em;box-sizing: border-box;padding-bottom: 0.4em;background-color: white;}#sk-container-id-124 div.sk-label label {font-family: monospace;font-weight: bold;display: inline-block;line-height: 1.2em;}#sk-container-id-124 div.sk-label-container {text-align: center;}#sk-container-id-124 div.sk-container {/* jupyter's `normalize.less` sets `[hidden] { display: none; }` but bootstrap.min.css set `[hidden] { display: none !important; }` so we also need the `!important` here to be able to override the default hidden behavior on the sphinx rendered scikit-learn.org. See: https://github.com/scikit-learn/scikit-learn/issues/21755 */display: inline-block !important;position: relative;}#sk-container-id-124 div.sk-text-repr-fallback {display: none;}</style><div id=\"sk-container-id-124\" class=\"sk-top-container\"><div class=\"sk-text-repr-fallback\"><pre>KNeighborsRegressor()</pre><b>In a Jupyter environment, please rerun this cell to show the HTML representation or trust the notebook. <br />On GitHub, the HTML representation is unable to render, please try loading this page with nbviewer.org.</b></div><div class=\"sk-container\" hidden><div class=\"sk-item\"><div class=\"sk-estimator sk-toggleable\"><input class=\"sk-toggleable__control sk-hidden--visually\" id=\"sk-estimator-id-124\" type=\"checkbox\" checked><label for=\"sk-estimator-id-124\" class=\"sk-toggleable__label sk-toggleable__label-arrow\">KNeighborsRegressor</label><div class=\"sk-toggleable__content\"><pre>KNeighborsRegressor()</pre></div></div></div></div></div>"
      ],
      "text/plain": [
       "KNeighborsRegressor()"
      ]
     },
     "execution_count": 2679,
     "metadata": {},
     "output_type": "execute_result"
    }
   ],
   "source": [
    "gs_results_knnr.best_estimator_"
   ]
  },
  {
   "cell_type": "code",
   "execution_count": 2680,
   "id": "57753d2c-1d3d-404d-8b54-a6a9d9af0fc0",
   "metadata": {
    "tags": []
   },
   "outputs": [
    {
     "data": {
      "text/plain": [
       "array([ 2871.8,  5353. , 12156.8,  8727.8,  8644.8])"
      ]
     },
     "execution_count": 2680,
     "metadata": {},
     "output_type": "execute_result"
    }
   ],
   "source": [
    "best_model_knnr = gs_results_knnr.best_estimator_\n",
    "y_pred_best = best_model_knnr.predict(X_test_scaled)\n",
    "y_pred_best[:5]"
   ]
  },
  {
   "cell_type": "code",
   "execution_count": 2681,
   "id": "ce50ad03-f4c9-452e-b8f6-126030df8d2c",
   "metadata": {
    "tags": []
   },
   "outputs": [
    {
     "data": {
      "text/plain": [
       "4242.544153846155"
      ]
     },
     "execution_count": 2681,
     "metadata": {},
     "output_type": "execute_result"
    }
   ],
   "source": [
    "mae_knnr = mean_absolute_error(y_test, y_pred_best)\n",
    "mae_knnr"
   ]
  },
  {
   "cell_type": "markdown",
   "id": "683fe30c-2aba-4386-ac48-ed0bf09dcb3a",
   "metadata": {},
   "source": [
    "Decision Tree Regressor Model"
   ]
  },
  {
   "cell_type": "code",
   "execution_count": 2633,
   "id": "73514199-0c59-4ea0-8485-1ee4cfb5ce8f",
   "metadata": {
    "tags": []
   },
   "outputs": [],
   "source": [
    "from sklearn.tree import DecisionTreeRegressor"
   ]
  },
  {
   "cell_type": "code",
   "execution_count": 2634,
   "id": "6e547ade-5ff1-41aa-ad4a-794067fe75da",
   "metadata": {
    "tags": []
   },
   "outputs": [
    {
     "data": {
      "text/html": [
       "<style>#sk-container-id-119 {color: black;}#sk-container-id-119 pre{padding: 0;}#sk-container-id-119 div.sk-toggleable {background-color: white;}#sk-container-id-119 label.sk-toggleable__label {cursor: pointer;display: block;width: 100%;margin-bottom: 0;padding: 0.3em;box-sizing: border-box;text-align: center;}#sk-container-id-119 label.sk-toggleable__label-arrow:before {content: \"▸\";float: left;margin-right: 0.25em;color: #696969;}#sk-container-id-119 label.sk-toggleable__label-arrow:hover:before {color: black;}#sk-container-id-119 div.sk-estimator:hover label.sk-toggleable__label-arrow:before {color: black;}#sk-container-id-119 div.sk-toggleable__content {max-height: 0;max-width: 0;overflow: hidden;text-align: left;background-color: #f0f8ff;}#sk-container-id-119 div.sk-toggleable__content pre {margin: 0.2em;color: black;border-radius: 0.25em;background-color: #f0f8ff;}#sk-container-id-119 input.sk-toggleable__control:checked~div.sk-toggleable__content {max-height: 200px;max-width: 100%;overflow: auto;}#sk-container-id-119 input.sk-toggleable__control:checked~label.sk-toggleable__label-arrow:before {content: \"▾\";}#sk-container-id-119 div.sk-estimator input.sk-toggleable__control:checked~label.sk-toggleable__label {background-color: #d4ebff;}#sk-container-id-119 div.sk-label input.sk-toggleable__control:checked~label.sk-toggleable__label {background-color: #d4ebff;}#sk-container-id-119 input.sk-hidden--visually {border: 0;clip: rect(1px 1px 1px 1px);clip: rect(1px, 1px, 1px, 1px);height: 1px;margin: -1px;overflow: hidden;padding: 0;position: absolute;width: 1px;}#sk-container-id-119 div.sk-estimator {font-family: monospace;background-color: #f0f8ff;border: 1px dotted black;border-radius: 0.25em;box-sizing: border-box;margin-bottom: 0.5em;}#sk-container-id-119 div.sk-estimator:hover {background-color: #d4ebff;}#sk-container-id-119 div.sk-parallel-item::after {content: \"\";width: 100%;border-bottom: 1px solid gray;flex-grow: 1;}#sk-container-id-119 div.sk-label:hover label.sk-toggleable__label {background-color: #d4ebff;}#sk-container-id-119 div.sk-serial::before {content: \"\";position: absolute;border-left: 1px solid gray;box-sizing: border-box;top: 0;bottom: 0;left: 50%;z-index: 0;}#sk-container-id-119 div.sk-serial {display: flex;flex-direction: column;align-items: center;background-color: white;padding-right: 0.2em;padding-left: 0.2em;position: relative;}#sk-container-id-119 div.sk-item {position: relative;z-index: 1;}#sk-container-id-119 div.sk-parallel {display: flex;align-items: stretch;justify-content: center;background-color: white;position: relative;}#sk-container-id-119 div.sk-item::before, #sk-container-id-119 div.sk-parallel-item::before {content: \"\";position: absolute;border-left: 1px solid gray;box-sizing: border-box;top: 0;bottom: 0;left: 50%;z-index: -1;}#sk-container-id-119 div.sk-parallel-item {display: flex;flex-direction: column;z-index: 1;position: relative;background-color: white;}#sk-container-id-119 div.sk-parallel-item:first-child::after {align-self: flex-end;width: 50%;}#sk-container-id-119 div.sk-parallel-item:last-child::after {align-self: flex-start;width: 50%;}#sk-container-id-119 div.sk-parallel-item:only-child::after {width: 0;}#sk-container-id-119 div.sk-dashed-wrapped {border: 1px dashed gray;margin: 0 0.4em 0.5em 0.4em;box-sizing: border-box;padding-bottom: 0.4em;background-color: white;}#sk-container-id-119 div.sk-label label {font-family: monospace;font-weight: bold;display: inline-block;line-height: 1.2em;}#sk-container-id-119 div.sk-label-container {text-align: center;}#sk-container-id-119 div.sk-container {/* jupyter's `normalize.less` sets `[hidden] { display: none; }` but bootstrap.min.css set `[hidden] { display: none !important; }` so we also need the `!important` here to be able to override the default hidden behavior on the sphinx rendered scikit-learn.org. See: https://github.com/scikit-learn/scikit-learn/issues/21755 */display: inline-block !important;position: relative;}#sk-container-id-119 div.sk-text-repr-fallback {display: none;}</style><div id=\"sk-container-id-119\" class=\"sk-top-container\"><div class=\"sk-text-repr-fallback\"><pre>DecisionTreeRegressor()</pre><b>In a Jupyter environment, please rerun this cell to show the HTML representation or trust the notebook. <br />On GitHub, the HTML representation is unable to render, please try loading this page with nbviewer.org.</b></div><div class=\"sk-container\" hidden><div class=\"sk-item\"><div class=\"sk-estimator sk-toggleable\"><input class=\"sk-toggleable__control sk-hidden--visually\" id=\"sk-estimator-id-119\" type=\"checkbox\" checked><label for=\"sk-estimator-id-119\" class=\"sk-toggleable__label sk-toggleable__label-arrow\">DecisionTreeRegressor</label><div class=\"sk-toggleable__content\"><pre>DecisionTreeRegressor()</pre></div></div></div></div></div>"
      ],
      "text/plain": [
       "DecisionTreeRegressor()"
      ]
     },
     "execution_count": 2634,
     "metadata": {},
     "output_type": "execute_result"
    }
   ],
   "source": [
    "dtr = DecisionTreeRegressor()\n",
    "dtr.fit(X_train_scaled, y_train)"
   ]
  },
  {
   "cell_type": "code",
   "execution_count": 2635,
   "id": "bf098e13-26a7-4dbd-986a-a1540cd37f63",
   "metadata": {
    "tags": []
   },
   "outputs": [],
   "source": [
    "y_pred_dtr = dtr.predict(X_test_scaled)"
   ]
  },
  {
   "cell_type": "code",
   "execution_count": 2636,
   "id": "8972567e-7509-4319-bde1-f16609f6508c",
   "metadata": {
    "tags": []
   },
   "outputs": [
    {
     "data": {
      "text/plain": [
       "array([ 1195,  5995, 13285,  5995, 10273], dtype=int64)"
      ]
     },
     "execution_count": 2636,
     "metadata": {},
     "output_type": "execute_result"
    }
   ],
   "source": [
    "y_test.head(5).to_numpy()"
   ]
  },
  {
   "cell_type": "code",
   "execution_count": 2637,
   "id": "9681b081-dc67-4b94-b09e-9f98d3a75eac",
   "metadata": {
    "tags": []
   },
   "outputs": [
    {
     "data": {
      "text/plain": [
       "array([2495., 4350., 5995., 8200., 9975.])"
      ]
     },
     "execution_count": 2637,
     "metadata": {},
     "output_type": "execute_result"
    }
   ],
   "source": [
    "y_pred_dtr[:5]"
   ]
  },
  {
   "cell_type": "code",
   "execution_count": 2638,
   "id": "d1c1c74c-8df1-47f6-a2ee-860f478ddad0",
   "metadata": {
    "tags": []
   },
   "outputs": [
    {
     "data": {
      "text/plain": [
       "(0.9999988776312859, 0.53250477577873)"
      ]
     },
     "execution_count": 2638,
     "metadata": {},
     "output_type": "execute_result"
    }
   ],
   "source": [
    "dtr.score(X_train_scaled, y_train), dtr.score(X_test_scaled, y_test)"
   ]
  },
  {
   "cell_type": "code",
   "execution_count": 2639,
   "id": "615f1156-ec3d-4902-82fa-58df3f5f408f",
   "metadata": {
    "tags": []
   },
   "outputs": [
    {
     "data": {
      "text/plain": [
       "0.30852086939796114"
      ]
     },
     "execution_count": 2639,
     "metadata": {},
     "output_type": "execute_result"
    }
   ],
   "source": [
    "mean_absolute_error(y_train, dtr.predict(X_train_scaled))"
   ]
  },
  {
   "cell_type": "code",
   "execution_count": 2640,
   "id": "31d5c3d0-bd30-4263-aa23-2b507ffc1940",
   "metadata": {
    "tags": []
   },
   "outputs": [
    {
     "data": {
      "text/plain": [
       "4114.765384615384"
      ]
     },
     "execution_count": 2640,
     "metadata": {},
     "output_type": "execute_result"
    }
   ],
   "source": [
    "mean_absolute_error(y_test, dtr.predict(X_test_scaled))"
   ]
  },
  {
   "cell_type": "code",
   "execution_count": 2641,
   "id": "c4db670b-0724-4119-a1a3-351dc91da3c9",
   "metadata": {
    "tags": []
   },
   "outputs": [],
   "source": [
    "param_grid_dtr = {\n",
    "    'max_depth': [3, 5, 7, 10, 20],\n",
    "    'min_samples_split': [2, 5, 10],\n",
    "    'min_samples_leaf': [1, 2, 4]\n",
    "}"
   ]
  },
  {
   "cell_type": "code",
   "execution_count": 2642,
   "id": "a7af110e-da09-4aaf-aa73-f92134342bec",
   "metadata": {
    "tags": []
   },
   "outputs": [
    {
     "data": {
      "text/plain": [
       "[{'max_depth': 3, 'min_samples_leaf': 1, 'min_samples_split': 2},\n",
       " {'max_depth': 3, 'min_samples_leaf': 1, 'min_samples_split': 5},\n",
       " {'max_depth': 3, 'min_samples_leaf': 1, 'min_samples_split': 10},\n",
       " {'max_depth': 3, 'min_samples_leaf': 2, 'min_samples_split': 2},\n",
       " {'max_depth': 3, 'min_samples_leaf': 2, 'min_samples_split': 5},\n",
       " {'max_depth': 3, 'min_samples_leaf': 2, 'min_samples_split': 10},\n",
       " {'max_depth': 3, 'min_samples_leaf': 4, 'min_samples_split': 2},\n",
       " {'max_depth': 3, 'min_samples_leaf': 4, 'min_samples_split': 5},\n",
       " {'max_depth': 3, 'min_samples_leaf': 4, 'min_samples_split': 10},\n",
       " {'max_depth': 5, 'min_samples_leaf': 1, 'min_samples_split': 2},\n",
       " {'max_depth': 5, 'min_samples_leaf': 1, 'min_samples_split': 5},\n",
       " {'max_depth': 5, 'min_samples_leaf': 1, 'min_samples_split': 10},\n",
       " {'max_depth': 5, 'min_samples_leaf': 2, 'min_samples_split': 2},\n",
       " {'max_depth': 5, 'min_samples_leaf': 2, 'min_samples_split': 5},\n",
       " {'max_depth': 5, 'min_samples_leaf': 2, 'min_samples_split': 10},\n",
       " {'max_depth': 5, 'min_samples_leaf': 4, 'min_samples_split': 2},\n",
       " {'max_depth': 5, 'min_samples_leaf': 4, 'min_samples_split': 5},\n",
       " {'max_depth': 5, 'min_samples_leaf': 4, 'min_samples_split': 10},\n",
       " {'max_depth': 7, 'min_samples_leaf': 1, 'min_samples_split': 2},\n",
       " {'max_depth': 7, 'min_samples_leaf': 1, 'min_samples_split': 5},\n",
       " {'max_depth': 7, 'min_samples_leaf': 1, 'min_samples_split': 10},\n",
       " {'max_depth': 7, 'min_samples_leaf': 2, 'min_samples_split': 2},\n",
       " {'max_depth': 7, 'min_samples_leaf': 2, 'min_samples_split': 5},\n",
       " {'max_depth': 7, 'min_samples_leaf': 2, 'min_samples_split': 10},\n",
       " {'max_depth': 7, 'min_samples_leaf': 4, 'min_samples_split': 2},\n",
       " {'max_depth': 7, 'min_samples_leaf': 4, 'min_samples_split': 5},\n",
       " {'max_depth': 7, 'min_samples_leaf': 4, 'min_samples_split': 10},\n",
       " {'max_depth': 10, 'min_samples_leaf': 1, 'min_samples_split': 2},\n",
       " {'max_depth': 10, 'min_samples_leaf': 1, 'min_samples_split': 5},\n",
       " {'max_depth': 10, 'min_samples_leaf': 1, 'min_samples_split': 10},\n",
       " {'max_depth': 10, 'min_samples_leaf': 2, 'min_samples_split': 2},\n",
       " {'max_depth': 10, 'min_samples_leaf': 2, 'min_samples_split': 5},\n",
       " {'max_depth': 10, 'min_samples_leaf': 2, 'min_samples_split': 10},\n",
       " {'max_depth': 10, 'min_samples_leaf': 4, 'min_samples_split': 2},\n",
       " {'max_depth': 10, 'min_samples_leaf': 4, 'min_samples_split': 5},\n",
       " {'max_depth': 10, 'min_samples_leaf': 4, 'min_samples_split': 10},\n",
       " {'max_depth': 20, 'min_samples_leaf': 1, 'min_samples_split': 2},\n",
       " {'max_depth': 20, 'min_samples_leaf': 1, 'min_samples_split': 5},\n",
       " {'max_depth': 20, 'min_samples_leaf': 1, 'min_samples_split': 10},\n",
       " {'max_depth': 20, 'min_samples_leaf': 2, 'min_samples_split': 2},\n",
       " {'max_depth': 20, 'min_samples_leaf': 2, 'min_samples_split': 5},\n",
       " {'max_depth': 20, 'min_samples_leaf': 2, 'min_samples_split': 10},\n",
       " {'max_depth': 20, 'min_samples_leaf': 4, 'min_samples_split': 2},\n",
       " {'max_depth': 20, 'min_samples_leaf': 4, 'min_samples_split': 5},\n",
       " {'max_depth': 20, 'min_samples_leaf': 4, 'min_samples_split': 10}]"
      ]
     },
     "execution_count": 2642,
     "metadata": {},
     "output_type": "execute_result"
    }
   ],
   "source": [
    "list(ParameterGrid(param_grid_dtr))"
   ]
  },
  {
   "cell_type": "code",
   "execution_count": 2643,
   "id": "1478321d-f59d-4d01-84ca-868fbe305671",
   "metadata": {
    "tags": []
   },
   "outputs": [],
   "source": [
    "clf_dtr = GridSearchCV(dtr, param_grid_dtr, cv=5, return_train_score=True)\n",
    "gs_results_dtr = clf_dtr.fit(X_train_scaled, y_train)\n",
    "gs_df_dtr = pd.DataFrame(gs_results_dtr.cv_results_)"
   ]
  },
  {
   "cell_type": "code",
   "execution_count": 2644,
   "id": "080f19bc-478c-4aa5-afb7-e101017c2ea7",
   "metadata": {
    "tags": []
   },
   "outputs": [
    {
     "data": {
      "text/plain": [
       "Index(['mean_fit_time', 'std_fit_time', 'mean_score_time', 'std_score_time',\n",
       "       'param_max_depth', 'param_min_samples_leaf', 'param_min_samples_split',\n",
       "       'params', 'split0_test_score', 'split1_test_score', 'split2_test_score',\n",
       "       'split3_test_score', 'split4_test_score', 'mean_test_score',\n",
       "       'std_test_score', 'rank_test_score', 'split0_train_score',\n",
       "       'split1_train_score', 'split2_train_score', 'split3_train_score',\n",
       "       'split4_train_score', 'mean_train_score', 'std_train_score'],\n",
       "      dtype='object')"
      ]
     },
     "execution_count": 2644,
     "metadata": {},
     "output_type": "execute_result"
    }
   ],
   "source": [
    "gs_df_dtr.keys()"
   ]
  },
  {
   "cell_type": "code",
   "execution_count": 2645,
   "id": "980f617d-7971-4156-bd01-c59bb34b438f",
   "metadata": {
    "tags": []
   },
   "outputs": [
    {
     "data": {
      "text/html": [
       "<div>\n",
       "<style scoped>\n",
       "    .dataframe tbody tr th:only-of-type {\n",
       "        vertical-align: middle;\n",
       "    }\n",
       "\n",
       "    .dataframe tbody tr th {\n",
       "        vertical-align: top;\n",
       "    }\n",
       "\n",
       "    .dataframe thead th {\n",
       "        text-align: right;\n",
       "    }\n",
       "</style>\n",
       "<table border=\"1\" class=\"dataframe\">\n",
       "  <thead>\n",
       "    <tr style=\"text-align: right;\">\n",
       "      <th></th>\n",
       "      <th>param_max_depth</th>\n",
       "      <th>param_min_samples_leaf</th>\n",
       "      <th>param_min_samples_split</th>\n",
       "      <th>mean_train_score</th>\n",
       "      <th>std_train_score</th>\n",
       "      <th>mean_test_score</th>\n",
       "      <th>std_test_score</th>\n",
       "      <th>rank_test_score</th>\n",
       "    </tr>\n",
       "  </thead>\n",
       "  <tbody>\n",
       "    <tr>\n",
       "      <th>31</th>\n",
       "      <td>10</td>\n",
       "      <td>2</td>\n",
       "      <td>5</td>\n",
       "      <td>0.948746</td>\n",
       "      <td>0.001464</td>\n",
       "      <td>0.852300</td>\n",
       "      <td>0.010903</td>\n",
       "      <td>1</td>\n",
       "    </tr>\n",
       "    <tr>\n",
       "      <th>30</th>\n",
       "      <td>10</td>\n",
       "      <td>2</td>\n",
       "      <td>2</td>\n",
       "      <td>0.950669</td>\n",
       "      <td>0.001548</td>\n",
       "      <td>0.851834</td>\n",
       "      <td>0.010165</td>\n",
       "      <td>2</td>\n",
       "    </tr>\n",
       "    <tr>\n",
       "      <th>32</th>\n",
       "      <td>10</td>\n",
       "      <td>2</td>\n",
       "      <td>10</td>\n",
       "      <td>0.937536</td>\n",
       "      <td>0.002672</td>\n",
       "      <td>0.847426</td>\n",
       "      <td>0.012036</td>\n",
       "      <td>3</td>\n",
       "    </tr>\n",
       "    <tr>\n",
       "      <th>34</th>\n",
       "      <td>10</td>\n",
       "      <td>4</td>\n",
       "      <td>5</td>\n",
       "      <td>0.933131</td>\n",
       "      <td>0.003433</td>\n",
       "      <td>0.846530</td>\n",
       "      <td>0.020650</td>\n",
       "      <td>4</td>\n",
       "    </tr>\n",
       "    <tr>\n",
       "      <th>33</th>\n",
       "      <td>10</td>\n",
       "      <td>4</td>\n",
       "      <td>2</td>\n",
       "      <td>0.933131</td>\n",
       "      <td>0.003433</td>\n",
       "      <td>0.846450</td>\n",
       "      <td>0.020624</td>\n",
       "      <td>5</td>\n",
       "    </tr>\n",
       "  </tbody>\n",
       "</table>\n",
       "</div>"
      ],
      "text/plain": [
       "   param_max_depth param_min_samples_leaf param_min_samples_split  \\\n",
       "31              10                      2                       5   \n",
       "30              10                      2                       2   \n",
       "32              10                      2                      10   \n",
       "34              10                      4                       5   \n",
       "33              10                      4                       2   \n",
       "\n",
       "    mean_train_score  std_train_score  mean_test_score  std_test_score  \\\n",
       "31          0.948746         0.001464         0.852300        0.010903   \n",
       "30          0.950669         0.001548         0.851834        0.010165   \n",
       "32          0.937536         0.002672         0.847426        0.012036   \n",
       "34          0.933131         0.003433         0.846530        0.020650   \n",
       "33          0.933131         0.003433         0.846450        0.020624   \n",
       "\n",
       "    rank_test_score  \n",
       "31                1  \n",
       "30                2  \n",
       "32                3  \n",
       "34                4  \n",
       "33                5  "
      ]
     },
     "execution_count": 2645,
     "metadata": {},
     "output_type": "execute_result"
    }
   ],
   "source": [
    "gs_df_dtr[[\n",
    "    'param_max_depth', 'param_min_samples_leaf', 'param_min_samples_split','mean_train_score', 'std_train_score',\n",
    "    'mean_test_score', 'std_test_score', 'rank_test_score'\n",
    "]].sort_values('rank_test_score').head()"
   ]
  },
  {
   "cell_type": "code",
   "execution_count": 2646,
   "id": "8880c1fd-c3c5-4aac-a5d8-9fdefdebdc33",
   "metadata": {
    "tags": []
   },
   "outputs": [
    {
     "data": {
      "text/plain": [
       "{'max_depth': 10, 'min_samples_leaf': 2, 'min_samples_split': 5}"
      ]
     },
     "execution_count": 2646,
     "metadata": {},
     "output_type": "execute_result"
    }
   ],
   "source": [
    "gs_results_dtr.best_params_"
   ]
  },
  {
   "cell_type": "code",
   "execution_count": 2647,
   "id": "af385182-09e8-4c8b-99bf-ad45c1c84a62",
   "metadata": {
    "tags": []
   },
   "outputs": [
    {
     "data": {
      "text/html": [
       "<style>#sk-container-id-120 {color: black;}#sk-container-id-120 pre{padding: 0;}#sk-container-id-120 div.sk-toggleable {background-color: white;}#sk-container-id-120 label.sk-toggleable__label {cursor: pointer;display: block;width: 100%;margin-bottom: 0;padding: 0.3em;box-sizing: border-box;text-align: center;}#sk-container-id-120 label.sk-toggleable__label-arrow:before {content: \"▸\";float: left;margin-right: 0.25em;color: #696969;}#sk-container-id-120 label.sk-toggleable__label-arrow:hover:before {color: black;}#sk-container-id-120 div.sk-estimator:hover label.sk-toggleable__label-arrow:before {color: black;}#sk-container-id-120 div.sk-toggleable__content {max-height: 0;max-width: 0;overflow: hidden;text-align: left;background-color: #f0f8ff;}#sk-container-id-120 div.sk-toggleable__content pre {margin: 0.2em;color: black;border-radius: 0.25em;background-color: #f0f8ff;}#sk-container-id-120 input.sk-toggleable__control:checked~div.sk-toggleable__content {max-height: 200px;max-width: 100%;overflow: auto;}#sk-container-id-120 input.sk-toggleable__control:checked~label.sk-toggleable__label-arrow:before {content: \"▾\";}#sk-container-id-120 div.sk-estimator input.sk-toggleable__control:checked~label.sk-toggleable__label {background-color: #d4ebff;}#sk-container-id-120 div.sk-label input.sk-toggleable__control:checked~label.sk-toggleable__label {background-color: #d4ebff;}#sk-container-id-120 input.sk-hidden--visually {border: 0;clip: rect(1px 1px 1px 1px);clip: rect(1px, 1px, 1px, 1px);height: 1px;margin: -1px;overflow: hidden;padding: 0;position: absolute;width: 1px;}#sk-container-id-120 div.sk-estimator {font-family: monospace;background-color: #f0f8ff;border: 1px dotted black;border-radius: 0.25em;box-sizing: border-box;margin-bottom: 0.5em;}#sk-container-id-120 div.sk-estimator:hover {background-color: #d4ebff;}#sk-container-id-120 div.sk-parallel-item::after {content: \"\";width: 100%;border-bottom: 1px solid gray;flex-grow: 1;}#sk-container-id-120 div.sk-label:hover label.sk-toggleable__label {background-color: #d4ebff;}#sk-container-id-120 div.sk-serial::before {content: \"\";position: absolute;border-left: 1px solid gray;box-sizing: border-box;top: 0;bottom: 0;left: 50%;z-index: 0;}#sk-container-id-120 div.sk-serial {display: flex;flex-direction: column;align-items: center;background-color: white;padding-right: 0.2em;padding-left: 0.2em;position: relative;}#sk-container-id-120 div.sk-item {position: relative;z-index: 1;}#sk-container-id-120 div.sk-parallel {display: flex;align-items: stretch;justify-content: center;background-color: white;position: relative;}#sk-container-id-120 div.sk-item::before, #sk-container-id-120 div.sk-parallel-item::before {content: \"\";position: absolute;border-left: 1px solid gray;box-sizing: border-box;top: 0;bottom: 0;left: 50%;z-index: -1;}#sk-container-id-120 div.sk-parallel-item {display: flex;flex-direction: column;z-index: 1;position: relative;background-color: white;}#sk-container-id-120 div.sk-parallel-item:first-child::after {align-self: flex-end;width: 50%;}#sk-container-id-120 div.sk-parallel-item:last-child::after {align-self: flex-start;width: 50%;}#sk-container-id-120 div.sk-parallel-item:only-child::after {width: 0;}#sk-container-id-120 div.sk-dashed-wrapped {border: 1px dashed gray;margin: 0 0.4em 0.5em 0.4em;box-sizing: border-box;padding-bottom: 0.4em;background-color: white;}#sk-container-id-120 div.sk-label label {font-family: monospace;font-weight: bold;display: inline-block;line-height: 1.2em;}#sk-container-id-120 div.sk-label-container {text-align: center;}#sk-container-id-120 div.sk-container {/* jupyter's `normalize.less` sets `[hidden] { display: none; }` but bootstrap.min.css set `[hidden] { display: none !important; }` so we also need the `!important` here to be able to override the default hidden behavior on the sphinx rendered scikit-learn.org. See: https://github.com/scikit-learn/scikit-learn/issues/21755 */display: inline-block !important;position: relative;}#sk-container-id-120 div.sk-text-repr-fallback {display: none;}</style><div id=\"sk-container-id-120\" class=\"sk-top-container\"><div class=\"sk-text-repr-fallback\"><pre>DecisionTreeRegressor(max_depth=10, min_samples_leaf=2, min_samples_split=5)</pre><b>In a Jupyter environment, please rerun this cell to show the HTML representation or trust the notebook. <br />On GitHub, the HTML representation is unable to render, please try loading this page with nbviewer.org.</b></div><div class=\"sk-container\" hidden><div class=\"sk-item\"><div class=\"sk-estimator sk-toggleable\"><input class=\"sk-toggleable__control sk-hidden--visually\" id=\"sk-estimator-id-120\" type=\"checkbox\" checked><label for=\"sk-estimator-id-120\" class=\"sk-toggleable__label sk-toggleable__label-arrow\">DecisionTreeRegressor</label><div class=\"sk-toggleable__content\"><pre>DecisionTreeRegressor(max_depth=10, min_samples_leaf=2, min_samples_split=5)</pre></div></div></div></div></div>"
      ],
      "text/plain": [
       "DecisionTreeRegressor(max_depth=10, min_samples_leaf=2, min_samples_split=5)"
      ]
     },
     "execution_count": 2647,
     "metadata": {},
     "output_type": "execute_result"
    }
   ],
   "source": [
    "gs_results_dtr.best_estimator_"
   ]
  },
  {
   "cell_type": "code",
   "execution_count": 2648,
   "id": "2e5ff6aa-e25a-481b-a225-7bc682d0fe79",
   "metadata": {
    "tags": []
   },
   "outputs": [
    {
     "data": {
      "text/plain": [
       "array([ 3191.   ,  4275.875,  9327.4  ,  6230.   , 13854.75 ])"
      ]
     },
     "execution_count": 2648,
     "metadata": {},
     "output_type": "execute_result"
    }
   ],
   "source": [
    "best_model_dtr = gs_results_dtr.best_estimator_\n",
    "y_pred_best_dtr = best_model_dtr.predict(X_test_scaled)\n",
    "y_pred_best_dtr[:5]"
   ]
  },
  {
   "cell_type": "code",
   "execution_count": 2649,
   "id": "42c8c0c8-5d84-4c63-86e5-bc2077baf216",
   "metadata": {
    "tags": []
   },
   "outputs": [
    {
     "data": {
      "text/plain": [
       "array([ 1195,  5995, 13285,  5995, 10273], dtype=int64)"
      ]
     },
     "execution_count": 2649,
     "metadata": {},
     "output_type": "execute_result"
    }
   ],
   "source": [
    "y_test.head(5).to_numpy()"
   ]
  },
  {
   "cell_type": "code",
   "execution_count": 2650,
   "id": "a6c749cf-4a4d-47a3-983d-80276e017350",
   "metadata": {
    "tags": []
   },
   "outputs": [
    {
     "data": {
      "text/plain": [
       "3439.512332499686"
      ]
     },
     "execution_count": 2650,
     "metadata": {},
     "output_type": "execute_result"
    }
   ],
   "source": [
    "mae_dtr = mean_absolute_error(y_test, y_pred_best_dtr)\n",
    "mae_dtr"
   ]
  },
  {
   "cell_type": "markdown",
   "id": "a3576a83-b58a-4f9d-9a2c-a4251a1509b8",
   "metadata": {},
   "source": [
    "Linear Regression Model"
   ]
  },
  {
   "cell_type": "code",
   "execution_count": 2651,
   "id": "327ae3b1-d750-4d84-9551-303b438fe715",
   "metadata": {
    "tags": []
   },
   "outputs": [],
   "source": [
    "from sklearn.linear_model import LinearRegression"
   ]
  },
  {
   "cell_type": "code",
   "execution_count": 2652,
   "id": "17b96f72-7c2e-420f-a487-e5aab1e0c50f",
   "metadata": {
    "tags": []
   },
   "outputs": [
    {
     "data": {
      "text/html": [
       "<style>#sk-container-id-121 {color: black;}#sk-container-id-121 pre{padding: 0;}#sk-container-id-121 div.sk-toggleable {background-color: white;}#sk-container-id-121 label.sk-toggleable__label {cursor: pointer;display: block;width: 100%;margin-bottom: 0;padding: 0.3em;box-sizing: border-box;text-align: center;}#sk-container-id-121 label.sk-toggleable__label-arrow:before {content: \"▸\";float: left;margin-right: 0.25em;color: #696969;}#sk-container-id-121 label.sk-toggleable__label-arrow:hover:before {color: black;}#sk-container-id-121 div.sk-estimator:hover label.sk-toggleable__label-arrow:before {color: black;}#sk-container-id-121 div.sk-toggleable__content {max-height: 0;max-width: 0;overflow: hidden;text-align: left;background-color: #f0f8ff;}#sk-container-id-121 div.sk-toggleable__content pre {margin: 0.2em;color: black;border-radius: 0.25em;background-color: #f0f8ff;}#sk-container-id-121 input.sk-toggleable__control:checked~div.sk-toggleable__content {max-height: 200px;max-width: 100%;overflow: auto;}#sk-container-id-121 input.sk-toggleable__control:checked~label.sk-toggleable__label-arrow:before {content: \"▾\";}#sk-container-id-121 div.sk-estimator input.sk-toggleable__control:checked~label.sk-toggleable__label {background-color: #d4ebff;}#sk-container-id-121 div.sk-label input.sk-toggleable__control:checked~label.sk-toggleable__label {background-color: #d4ebff;}#sk-container-id-121 input.sk-hidden--visually {border: 0;clip: rect(1px 1px 1px 1px);clip: rect(1px, 1px, 1px, 1px);height: 1px;margin: -1px;overflow: hidden;padding: 0;position: absolute;width: 1px;}#sk-container-id-121 div.sk-estimator {font-family: monospace;background-color: #f0f8ff;border: 1px dotted black;border-radius: 0.25em;box-sizing: border-box;margin-bottom: 0.5em;}#sk-container-id-121 div.sk-estimator:hover {background-color: #d4ebff;}#sk-container-id-121 div.sk-parallel-item::after {content: \"\";width: 100%;border-bottom: 1px solid gray;flex-grow: 1;}#sk-container-id-121 div.sk-label:hover label.sk-toggleable__label {background-color: #d4ebff;}#sk-container-id-121 div.sk-serial::before {content: \"\";position: absolute;border-left: 1px solid gray;box-sizing: border-box;top: 0;bottom: 0;left: 50%;z-index: 0;}#sk-container-id-121 div.sk-serial {display: flex;flex-direction: column;align-items: center;background-color: white;padding-right: 0.2em;padding-left: 0.2em;position: relative;}#sk-container-id-121 div.sk-item {position: relative;z-index: 1;}#sk-container-id-121 div.sk-parallel {display: flex;align-items: stretch;justify-content: center;background-color: white;position: relative;}#sk-container-id-121 div.sk-item::before, #sk-container-id-121 div.sk-parallel-item::before {content: \"\";position: absolute;border-left: 1px solid gray;box-sizing: border-box;top: 0;bottom: 0;left: 50%;z-index: -1;}#sk-container-id-121 div.sk-parallel-item {display: flex;flex-direction: column;z-index: 1;position: relative;background-color: white;}#sk-container-id-121 div.sk-parallel-item:first-child::after {align-self: flex-end;width: 50%;}#sk-container-id-121 div.sk-parallel-item:last-child::after {align-self: flex-start;width: 50%;}#sk-container-id-121 div.sk-parallel-item:only-child::after {width: 0;}#sk-container-id-121 div.sk-dashed-wrapped {border: 1px dashed gray;margin: 0 0.4em 0.5em 0.4em;box-sizing: border-box;padding-bottom: 0.4em;background-color: white;}#sk-container-id-121 div.sk-label label {font-family: monospace;font-weight: bold;display: inline-block;line-height: 1.2em;}#sk-container-id-121 div.sk-label-container {text-align: center;}#sk-container-id-121 div.sk-container {/* jupyter's `normalize.less` sets `[hidden] { display: none; }` but bootstrap.min.css set `[hidden] { display: none !important; }` so we also need the `!important` here to be able to override the default hidden behavior on the sphinx rendered scikit-learn.org. See: https://github.com/scikit-learn/scikit-learn/issues/21755 */display: inline-block !important;position: relative;}#sk-container-id-121 div.sk-text-repr-fallback {display: none;}</style><div id=\"sk-container-id-121\" class=\"sk-top-container\"><div class=\"sk-text-repr-fallback\"><pre>LinearRegression()</pre><b>In a Jupyter environment, please rerun this cell to show the HTML representation or trust the notebook. <br />On GitHub, the HTML representation is unable to render, please try loading this page with nbviewer.org.</b></div><div class=\"sk-container\" hidden><div class=\"sk-item\"><div class=\"sk-estimator sk-toggleable\"><input class=\"sk-toggleable__control sk-hidden--visually\" id=\"sk-estimator-id-121\" type=\"checkbox\" checked><label for=\"sk-estimator-id-121\" class=\"sk-toggleable__label sk-toggleable__label-arrow\">LinearRegression</label><div class=\"sk-toggleable__content\"><pre>LinearRegression()</pre></div></div></div></div></div>"
      ],
      "text/plain": [
       "LinearRegression()"
      ]
     },
     "execution_count": 2652,
     "metadata": {},
     "output_type": "execute_result"
    }
   ],
   "source": [
    "lr = LinearRegression()\n",
    "lr.fit(X_train_scaled, y_train)"
   ]
  },
  {
   "cell_type": "code",
   "execution_count": 2653,
   "id": "c1642c8a-4230-41b6-a9d0-c13b982a9819",
   "metadata": {
    "tags": []
   },
   "outputs": [
    {
     "data": {
      "text/plain": [
       "array([-8125.46543257,  2126.96533658,  4314.4652543 ,  2989.25451678,\n",
       "        9304.83621254])"
      ]
     },
     "execution_count": 2653,
     "metadata": {},
     "output_type": "execute_result"
    }
   ],
   "source": [
    "y_pred_lr = lr.predict(X_test_scaled)\n",
    "y_pred_lr[:5]"
   ]
  },
  {
   "cell_type": "code",
   "execution_count": 2682,
   "id": "d22bf8fa-4fd3-4fff-b05b-dadf139844a8",
   "metadata": {
    "tags": []
   },
   "outputs": [
    {
     "data": {
      "text/plain": [
       "array([ 1195,  5995, 13285,  5995, 10273], dtype=int64)"
      ]
     },
     "execution_count": 2682,
     "metadata": {},
     "output_type": "execute_result"
    }
   ],
   "source": [
    "y_test.head(5).to_numpy()"
   ]
  },
  {
   "cell_type": "code",
   "execution_count": 2655,
   "id": "10128a43-10e9-45c0-84d0-3b1f516b74e7",
   "metadata": {
    "tags": []
   },
   "outputs": [
    {
     "data": {
      "text/plain": [
       "(0.7915782796870188, 0.6745558733275845)"
      ]
     },
     "execution_count": 2655,
     "metadata": {},
     "output_type": "execute_result"
    }
   ],
   "source": [
    "lr.score(X_train_scaled, y_train), lr.score(X_test_scaled, y_test)"
   ]
  },
  {
   "cell_type": "code",
   "execution_count": 2656,
   "id": "607cbdf0-ebd4-4d7c-949e-da9d818130b2",
   "metadata": {
    "tags": []
   },
   "outputs": [
    {
     "data": {
      "text/plain": [
       "3111.840808925898"
      ]
     },
     "execution_count": 2656,
     "metadata": {},
     "output_type": "execute_result"
    }
   ],
   "source": [
    "mean_absolute_error(y_train, lr.predict(X_train_scaled))"
   ]
  },
  {
   "cell_type": "code",
   "execution_count": 2657,
   "id": "81a1480e-2fbf-4ea7-8029-0a03b5b91713",
   "metadata": {
    "tags": []
   },
   "outputs": [
    {
     "data": {
      "text/plain": [
       "4397.153976808233"
      ]
     },
     "execution_count": 2657,
     "metadata": {},
     "output_type": "execute_result"
    }
   ],
   "source": [
    "mean_absolute_error(y_test, lr.predict(X_test_scaled))"
   ]
  },
  {
   "cell_type": "code",
   "execution_count": 2658,
   "id": "4f63f32d-2d72-4f37-80a1-920c856d7c78",
   "metadata": {
    "tags": []
   },
   "outputs": [],
   "source": [
    "param_grid_lr = {\n",
    "    'fit_intercept': [True, False]\n",
    "}"
   ]
  },
  {
   "cell_type": "code",
   "execution_count": 2659,
   "id": "d1ae97a7-2257-4382-bda7-7764d5739c1e",
   "metadata": {
    "tags": []
   },
   "outputs": [
    {
     "data": {
      "text/plain": [
       "[{'fit_intercept': True}, {'fit_intercept': False}]"
      ]
     },
     "execution_count": 2659,
     "metadata": {},
     "output_type": "execute_result"
    }
   ],
   "source": [
    "list (ParameterGrid(param_grid_lr))"
   ]
  },
  {
   "cell_type": "code",
   "execution_count": 2660,
   "id": "b93755b3-c72e-4d09-a745-be464b8118be",
   "metadata": {
    "tags": []
   },
   "outputs": [],
   "source": [
    "clf_lr = GridSearchCV(lr, param_grid_lr, cv=5, return_train_score=True)\n",
    "gs_results_lr = clf_lr.fit(X_train_scaled, y_train)\n",
    "gs_df_lr = pd.DataFrame(gs_results_lr.cv_results_)"
   ]
  },
  {
   "cell_type": "code",
   "execution_count": 2661,
   "id": "5824df8d-5171-472c-b709-a1a9a1d8b6a6",
   "metadata": {
    "tags": []
   },
   "outputs": [
    {
     "data": {
      "text/plain": [
       "Index(['mean_fit_time', 'std_fit_time', 'mean_score_time', 'std_score_time',\n",
       "       'param_fit_intercept', 'params', 'split0_test_score',\n",
       "       'split1_test_score', 'split2_test_score', 'split3_test_score',\n",
       "       'split4_test_score', 'mean_test_score', 'std_test_score',\n",
       "       'rank_test_score', 'split0_train_score', 'split1_train_score',\n",
       "       'split2_train_score', 'split3_train_score', 'split4_train_score',\n",
       "       'mean_train_score', 'std_train_score'],\n",
       "      dtype='object')"
      ]
     },
     "execution_count": 2661,
     "metadata": {},
     "output_type": "execute_result"
    }
   ],
   "source": [
    "gs_df_lr.keys()"
   ]
  },
  {
   "cell_type": "code",
   "execution_count": 2662,
   "id": "5c886300-9813-4eeb-a2f7-46ad701ca853",
   "metadata": {
    "tags": []
   },
   "outputs": [
    {
     "data": {
      "text/html": [
       "<div>\n",
       "<style scoped>\n",
       "    .dataframe tbody tr th:only-of-type {\n",
       "        vertical-align: middle;\n",
       "    }\n",
       "\n",
       "    .dataframe tbody tr th {\n",
       "        vertical-align: top;\n",
       "    }\n",
       "\n",
       "    .dataframe thead th {\n",
       "        text-align: right;\n",
       "    }\n",
       "</style>\n",
       "<table border=\"1\" class=\"dataframe\">\n",
       "  <thead>\n",
       "    <tr style=\"text-align: right;\">\n",
       "      <th></th>\n",
       "      <th>param_fit_intercept</th>\n",
       "      <th>params</th>\n",
       "      <th>mean_train_score</th>\n",
       "      <th>std_train_score</th>\n",
       "      <th>mean_test_score</th>\n",
       "      <th>std_test_score</th>\n",
       "      <th>rank_test_score</th>\n",
       "    </tr>\n",
       "  </thead>\n",
       "  <tbody>\n",
       "    <tr>\n",
       "      <th>0</th>\n",
       "      <td>True</td>\n",
       "      <td>{'fit_intercept': True}</td>\n",
       "      <td>0.791846</td>\n",
       "      <td>0.004163</td>\n",
       "      <td>0.790464</td>\n",
       "      <td>0.018132</td>\n",
       "      <td>1</td>\n",
       "    </tr>\n",
       "    <tr>\n",
       "      <th>1</th>\n",
       "      <td>False</td>\n",
       "      <td>{'fit_intercept': False}</td>\n",
       "      <td>0.787166</td>\n",
       "      <td>0.004121</td>\n",
       "      <td>0.785736</td>\n",
       "      <td>0.017985</td>\n",
       "      <td>2</td>\n",
       "    </tr>\n",
       "  </tbody>\n",
       "</table>\n",
       "</div>"
      ],
      "text/plain": [
       "  param_fit_intercept                    params  mean_train_score  \\\n",
       "0                True   {'fit_intercept': True}          0.791846   \n",
       "1               False  {'fit_intercept': False}          0.787166   \n",
       "\n",
       "   std_train_score  mean_test_score  std_test_score  rank_test_score  \n",
       "0         0.004163         0.790464        0.018132                1  \n",
       "1         0.004121         0.785736        0.017985                2  "
      ]
     },
     "execution_count": 2662,
     "metadata": {},
     "output_type": "execute_result"
    }
   ],
   "source": [
    "gs_df_lr[[\n",
    "    'param_fit_intercept', 'params','mean_train_score', 'std_train_score',\n",
    "    'mean_test_score', 'std_test_score', 'rank_test_score'\n",
    "]].sort_values('rank_test_score').head()"
   ]
  },
  {
   "cell_type": "code",
   "execution_count": 2684,
   "id": "76b14b88-ecaf-45a9-86b7-368fb95ee9f9",
   "metadata": {
    "tags": []
   },
   "outputs": [
    {
     "data": {
      "text/plain": [
       "{'fit_intercept': True}"
      ]
     },
     "execution_count": 2684,
     "metadata": {},
     "output_type": "execute_result"
    }
   ],
   "source": [
    "gs_results_lr.best_params_"
   ]
  },
  {
   "cell_type": "code",
   "execution_count": 2685,
   "id": "d193adea-42d0-4c6c-be8d-de56669e136d",
   "metadata": {
    "tags": []
   },
   "outputs": [
    {
     "data": {
      "text/html": [
       "<style>#sk-container-id-125 {color: black;}#sk-container-id-125 pre{padding: 0;}#sk-container-id-125 div.sk-toggleable {background-color: white;}#sk-container-id-125 label.sk-toggleable__label {cursor: pointer;display: block;width: 100%;margin-bottom: 0;padding: 0.3em;box-sizing: border-box;text-align: center;}#sk-container-id-125 label.sk-toggleable__label-arrow:before {content: \"▸\";float: left;margin-right: 0.25em;color: #696969;}#sk-container-id-125 label.sk-toggleable__label-arrow:hover:before {color: black;}#sk-container-id-125 div.sk-estimator:hover label.sk-toggleable__label-arrow:before {color: black;}#sk-container-id-125 div.sk-toggleable__content {max-height: 0;max-width: 0;overflow: hidden;text-align: left;background-color: #f0f8ff;}#sk-container-id-125 div.sk-toggleable__content pre {margin: 0.2em;color: black;border-radius: 0.25em;background-color: #f0f8ff;}#sk-container-id-125 input.sk-toggleable__control:checked~div.sk-toggleable__content {max-height: 200px;max-width: 100%;overflow: auto;}#sk-container-id-125 input.sk-toggleable__control:checked~label.sk-toggleable__label-arrow:before {content: \"▾\";}#sk-container-id-125 div.sk-estimator input.sk-toggleable__control:checked~label.sk-toggleable__label {background-color: #d4ebff;}#sk-container-id-125 div.sk-label input.sk-toggleable__control:checked~label.sk-toggleable__label {background-color: #d4ebff;}#sk-container-id-125 input.sk-hidden--visually {border: 0;clip: rect(1px 1px 1px 1px);clip: rect(1px, 1px, 1px, 1px);height: 1px;margin: -1px;overflow: hidden;padding: 0;position: absolute;width: 1px;}#sk-container-id-125 div.sk-estimator {font-family: monospace;background-color: #f0f8ff;border: 1px dotted black;border-radius: 0.25em;box-sizing: border-box;margin-bottom: 0.5em;}#sk-container-id-125 div.sk-estimator:hover {background-color: #d4ebff;}#sk-container-id-125 div.sk-parallel-item::after {content: \"\";width: 100%;border-bottom: 1px solid gray;flex-grow: 1;}#sk-container-id-125 div.sk-label:hover label.sk-toggleable__label {background-color: #d4ebff;}#sk-container-id-125 div.sk-serial::before {content: \"\";position: absolute;border-left: 1px solid gray;box-sizing: border-box;top: 0;bottom: 0;left: 50%;z-index: 0;}#sk-container-id-125 div.sk-serial {display: flex;flex-direction: column;align-items: center;background-color: white;padding-right: 0.2em;padding-left: 0.2em;position: relative;}#sk-container-id-125 div.sk-item {position: relative;z-index: 1;}#sk-container-id-125 div.sk-parallel {display: flex;align-items: stretch;justify-content: center;background-color: white;position: relative;}#sk-container-id-125 div.sk-item::before, #sk-container-id-125 div.sk-parallel-item::before {content: \"\";position: absolute;border-left: 1px solid gray;box-sizing: border-box;top: 0;bottom: 0;left: 50%;z-index: -1;}#sk-container-id-125 div.sk-parallel-item {display: flex;flex-direction: column;z-index: 1;position: relative;background-color: white;}#sk-container-id-125 div.sk-parallel-item:first-child::after {align-self: flex-end;width: 50%;}#sk-container-id-125 div.sk-parallel-item:last-child::after {align-self: flex-start;width: 50%;}#sk-container-id-125 div.sk-parallel-item:only-child::after {width: 0;}#sk-container-id-125 div.sk-dashed-wrapped {border: 1px dashed gray;margin: 0 0.4em 0.5em 0.4em;box-sizing: border-box;padding-bottom: 0.4em;background-color: white;}#sk-container-id-125 div.sk-label label {font-family: monospace;font-weight: bold;display: inline-block;line-height: 1.2em;}#sk-container-id-125 div.sk-label-container {text-align: center;}#sk-container-id-125 div.sk-container {/* jupyter's `normalize.less` sets `[hidden] { display: none; }` but bootstrap.min.css set `[hidden] { display: none !important; }` so we also need the `!important` here to be able to override the default hidden behavior on the sphinx rendered scikit-learn.org. See: https://github.com/scikit-learn/scikit-learn/issues/21755 */display: inline-block !important;position: relative;}#sk-container-id-125 div.sk-text-repr-fallback {display: none;}</style><div id=\"sk-container-id-125\" class=\"sk-top-container\"><div class=\"sk-text-repr-fallback\"><pre>LinearRegression()</pre><b>In a Jupyter environment, please rerun this cell to show the HTML representation or trust the notebook. <br />On GitHub, the HTML representation is unable to render, please try loading this page with nbviewer.org.</b></div><div class=\"sk-container\" hidden><div class=\"sk-item\"><div class=\"sk-estimator sk-toggleable\"><input class=\"sk-toggleable__control sk-hidden--visually\" id=\"sk-estimator-id-125\" type=\"checkbox\" checked><label for=\"sk-estimator-id-125\" class=\"sk-toggleable__label sk-toggleable__label-arrow\">LinearRegression</label><div class=\"sk-toggleable__content\"><pre>LinearRegression()</pre></div></div></div></div></div>"
      ],
      "text/plain": [
       "LinearRegression()"
      ]
     },
     "execution_count": 2685,
     "metadata": {},
     "output_type": "execute_result"
    }
   ],
   "source": [
    "gs_results_lr.best_estimator_"
   ]
  },
  {
   "cell_type": "code",
   "execution_count": 2686,
   "id": "8d7f4c5c-189d-4bce-9db3-0b0d3ec03808",
   "metadata": {
    "tags": []
   },
   "outputs": [
    {
     "data": {
      "text/plain": [
       "array([-8125.46543257,  2126.96533658,  4314.4652543 ,  2989.25451678,\n",
       "        9304.83621254])"
      ]
     },
     "execution_count": 2686,
     "metadata": {},
     "output_type": "execute_result"
    }
   ],
   "source": [
    "best_model_lr = gs_results_lr.best_estimator_\n",
    "y_pred_best_lr = best_model_lr.predict(X_test_scaled)\n",
    "y_pred_best_lr[:5]"
   ]
  },
  {
   "cell_type": "code",
   "execution_count": 2687,
   "id": "bbcd4cd3-2295-4414-8bd0-f8e779adcb33",
   "metadata": {
    "tags": []
   },
   "outputs": [
    {
     "data": {
      "text/plain": [
       "array([ 1195,  5995, 13285,  5995, 10273], dtype=int64)"
      ]
     },
     "execution_count": 2687,
     "metadata": {},
     "output_type": "execute_result"
    }
   ],
   "source": [
    "y_test.head(5).to_numpy()"
   ]
  },
  {
   "cell_type": "code",
   "execution_count": 2667,
   "id": "7438e973-cfcb-4abf-8894-6110bb1140b7",
   "metadata": {
    "tags": []
   },
   "outputs": [
    {
     "data": {
      "text/plain": [
       "4397.153976808233"
      ]
     },
     "execution_count": 2667,
     "metadata": {},
     "output_type": "execute_result"
    }
   ],
   "source": [
    "mae_lr = mean_absolute_error(y_test, y_pred_best_lr)\n",
    "mae_lr"
   ]
  },
  {
   "cell_type": "markdown",
   "id": "dc2a2c83-ff59-4af6-b487-cdc99c3ba2c8",
   "metadata": {},
   "source": [
    "Comparing the 3 models' best estimators against each other to determine the best"
   ]
  },
  {
   "cell_type": "code",
   "execution_count": 2688,
   "id": "7c1dcc7f-4e2f-4f02-bd77-50709290bcef",
   "metadata": {
    "tags": []
   },
   "outputs": [
    {
     "data": {
      "image/png": "[encoded data removed]",
      "text/plain": [
       "<Figure size 1000x400 with 1 Axes>"
      ]
     },
     "metadata": {
      "image/png": {
       "height": 389,
       "width": 854
      }
     },
     "output_type": "display_data"
    }
   ],
   "source": [
    "models = ['knnr', 'dtr', 'lr']\n",
    "mae_values = [mae_knnr, mae_dtr, mae_lr] \n",
    "plt.figure(figsize=(10, 4))\n",
    "sns.barplot(x=models, y=mae_values, palette=\"viridis\")\n",
    "plt.title('Mean Absolute Error Comparison')\n",
    "plt.xlabel('Models')\n",
    "plt.ylabel('Mean Absolute Error')\n",
    "plt.show()"
   ]
  },
  {
   "cell_type": "code",
   "execution_count": null,
   "id": "be984c4a-246e-4563-b7bd-28dc1725fb27",
   "metadata": {},
   "outputs": [],
   "source": []
  }
 ],
 "metadata": {
  "kernelspec": {
   "display_name": "Python 3 (ipykernel)",
   "language": "python",
   "name": "python3"
  },
  "language_info": {
   "codemirror_mode": {
    "name": "ipython",
    "version": 3
   },
   "file_extension": ".py",
   "mimetype": "text/x-python",
   "name": "python",
   "nbconvert_exporter": "python",
   "pygments_lexer": "ipython3",
   "version": "3.11.5"
  }
 },
 "nbformat": 4,
 "nbformat_minor": 5
}
